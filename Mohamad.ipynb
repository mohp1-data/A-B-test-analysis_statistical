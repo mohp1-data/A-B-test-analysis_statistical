{
 "cells": [
  {
   "cell_type": "markdown",
   "metadata": {},
   "source": [
    "# Packages"
   ]
  },
  {
   "cell_type": "code",
   "execution_count": 1,
   "metadata": {},
   "outputs": [],
   "source": [
    "import numpy as np # for scientific computing\n",
    "import pandas as pd # a fundamental and powerful package for data analysis and manipulation\n",
    "import seaborn as sns # seaborn is a Python data visualization library based on matplotlib. It provides a high-level interface for drawing attractive and informative statistical graphics\n",
    "import matplotlib.pyplot as plt # matplotlib is a library to plot graphs in Python\n",
    "from matplotlib.pyplot import figure # Plot graph\n",
    "from scipy import stats # it contains a large number of statistics, probability distributions functions\n",
    "from datetime import datetime # to change variable type to datetime\n",
    "import statsmodels.stats.api as sms # for power calculation\n",
    "from statsmodels.stats.power import  tt_ind_solve_power # for power calculation\n",
    "from statsmodels.stats.proportion import proportions_ztest, proportion_confint # for calculating AB test result and proportion CI\n",
    "from statsmodels.stats.weightstats import ztest,zconfint # for calculating AB test result and average CI\n",
    "import math # to tound up\n",
    "import datetime as dt"
   ]
  },
  {
   "cell_type": "markdown",
   "metadata": {},
   "source": [
    "# Before runing 1 / 2 AB test"
   ]
  },
  {
   "cell_type": "markdown",
   "metadata": {},
   "source": [
    "## Load Data"
   ]
  },
  {
   "cell_type": "code",
   "execution_count": 2,
   "metadata": {},
   "outputs": [],
   "source": [
    "# load data\n",
    "df = pd.DataFrame(pd.read_csv\n",
    "(r\"C:\\00 HDD 00\\HTW Berlin\\2021 Winter\\3.1 Project Management and Data Analytics Lab\\Data\\camera_ml_v4_camera_ml_v4_events_before.csv\",\n",
    "dtype={'event_timestamp':str,'user_first_touch_timestamp':str}))"
   ]
  },
  {
   "cell_type": "code",
   "execution_count": 3,
   "metadata": {},
   "outputs": [
    {
     "data": {
      "text/html": [
       "<div>\n",
       "<style scoped>\n",
       "    .dataframe tbody tr th:only-of-type {\n",
       "        vertical-align: middle;\n",
       "    }\n",
       "\n",
       "    .dataframe tbody tr th {\n",
       "        vertical-align: top;\n",
       "    }\n",
       "\n",
       "    .dataframe thead th {\n",
       "        text-align: right;\n",
       "    }\n",
       "</style>\n",
       "<table border=\"1\" class=\"dataframe\">\n",
       "  <thead>\n",
       "    <tr style=\"text-align: right;\">\n",
       "      <th></th>\n",
       "      <th>user_pseudo_id</th>\n",
       "      <th>event_name</th>\n",
       "      <th>event_timestamp</th>\n",
       "      <th>user_first_touch_timestamp</th>\n",
       "      <th>operating_system_version</th>\n",
       "      <th>mobile_brand_name</th>\n",
       "      <th>mobile_model_name</th>\n",
       "      <th>language</th>\n",
       "      <th>country</th>\n",
       "      <th>region</th>\n",
       "    </tr>\n",
       "  </thead>\n",
       "  <tbody>\n",
       "    <tr>\n",
       "      <th>0</th>\n",
       "      <td>378847315872b62bc75d98f7ea9dbec6</td>\n",
       "      <td>diagnosis_open_camera</td>\n",
       "      <td>1629518619397000</td>\n",
       "      <td>1628580079482000</td>\n",
       "      <td>Android 10</td>\n",
       "      <td>Xiaomi</td>\n",
       "      <td>Redmi 7A</td>\n",
       "      <td>en-in</td>\n",
       "      <td>India</td>\n",
       "      <td>Bihar</td>\n",
       "    </tr>\n",
       "    <tr>\n",
       "      <th>1</th>\n",
       "      <td>1d4c9dd4e537ee0e29a6c91bca2edf31</td>\n",
       "      <td>diagnosis_open_camera</td>\n",
       "      <td>1629566126062000</td>\n",
       "      <td>1629565966112000</td>\n",
       "      <td>Android 8.1.0</td>\n",
       "      <td>Samsung</td>\n",
       "      <td>SM-G610F</td>\n",
       "      <td>en-gb</td>\n",
       "      <td>India</td>\n",
       "      <td>Bihar</td>\n",
       "    </tr>\n",
       "    <tr>\n",
       "      <th>2</th>\n",
       "      <td>1d4c9dd4e537ee0e29a6c91bca2edf31</td>\n",
       "      <td>diagnosis_open_camera</td>\n",
       "      <td>1629566148604001</td>\n",
       "      <td>1629565966112000</td>\n",
       "      <td>Android 8.1.0</td>\n",
       "      <td>Samsung</td>\n",
       "      <td>SM-G610F</td>\n",
       "      <td>en-gb</td>\n",
       "      <td>India</td>\n",
       "      <td>Bihar</td>\n",
       "    </tr>\n",
       "  </tbody>\n",
       "</table>\n",
       "</div>"
      ],
      "text/plain": [
       "                     user_pseudo_id             event_name   event_timestamp  \\\n",
       "0  378847315872b62bc75d98f7ea9dbec6  diagnosis_open_camera  1629518619397000   \n",
       "1  1d4c9dd4e537ee0e29a6c91bca2edf31  diagnosis_open_camera  1629566126062000   \n",
       "2  1d4c9dd4e537ee0e29a6c91bca2edf31  diagnosis_open_camera  1629566148604001   \n",
       "\n",
       "  user_first_touch_timestamp operating_system_version mobile_brand_name  \\\n",
       "0           1628580079482000               Android 10            Xiaomi   \n",
       "1           1629565966112000            Android 8.1.0           Samsung   \n",
       "2           1629565966112000            Android 8.1.0           Samsung   \n",
       "\n",
       "  mobile_model_name language country region  \n",
       "0          Redmi 7A    en-in   India  Bihar  \n",
       "1          SM-G610F    en-gb   India  Bihar  \n",
       "2          SM-G610F    en-gb   India  Bihar  "
      ]
     },
     "execution_count": 3,
     "metadata": {},
     "output_type": "execute_result"
    }
   ],
   "source": [
    "# 3 rows of dataset\n",
    "df.head(3)"
   ]
  },
  {
   "cell_type": "code",
   "execution_count": 4,
   "metadata": {},
   "outputs": [],
   "source": [
    "# change variable type to datetime\n",
    "df['user_first_touch_timestamp']= pd.to_datetime(df['user_first_touch_timestamp'],unit='us')"
   ]
  },
  {
   "cell_type": "code",
   "execution_count": 5,
   "metadata": {},
   "outputs": [],
   "source": [
    "# change variable type to datetime\n",
    "df['event_timestamp']= pd.to_datetime(df['event_timestamp'],unit='us')"
   ]
  },
  {
   "cell_type": "markdown",
   "metadata": {},
   "source": [
    "## Data understaning"
   ]
  },
  {
   "cell_type": "code",
   "execution_count": 6,
   "metadata": {},
   "outputs": [
    {
     "data": {
      "text/html": [
       "<div>\n",
       "<style scoped>\n",
       "    .dataframe tbody tr th:only-of-type {\n",
       "        vertical-align: middle;\n",
       "    }\n",
       "\n",
       "    .dataframe tbody tr th {\n",
       "        vertical-align: top;\n",
       "    }\n",
       "\n",
       "    .dataframe thead th {\n",
       "        text-align: right;\n",
       "    }\n",
       "</style>\n",
       "<table border=\"1\" class=\"dataframe\">\n",
       "  <thead>\n",
       "    <tr style=\"text-align: right;\">\n",
       "      <th></th>\n",
       "      <th>user_pseudo_id</th>\n",
       "      <th>event_name</th>\n",
       "      <th>event_timestamp</th>\n",
       "      <th>user_first_touch_timestamp</th>\n",
       "      <th>operating_system_version</th>\n",
       "      <th>mobile_brand_name</th>\n",
       "      <th>mobile_model_name</th>\n",
       "      <th>language</th>\n",
       "      <th>country</th>\n",
       "      <th>region</th>\n",
       "    </tr>\n",
       "  </thead>\n",
       "  <tbody>\n",
       "    <tr>\n",
       "      <th>0</th>\n",
       "      <td>378847315872b62bc75d98f7ea9dbec6</td>\n",
       "      <td>diagnosis_open_camera</td>\n",
       "      <td>2021-08-21 04:03:39.397000</td>\n",
       "      <td>2021-08-10 07:21:19.482</td>\n",
       "      <td>Android 10</td>\n",
       "      <td>Xiaomi</td>\n",
       "      <td>Redmi 7A</td>\n",
       "      <td>en-in</td>\n",
       "      <td>India</td>\n",
       "      <td>Bihar</td>\n",
       "    </tr>\n",
       "    <tr>\n",
       "      <th>1</th>\n",
       "      <td>1d4c9dd4e537ee0e29a6c91bca2edf31</td>\n",
       "      <td>diagnosis_open_camera</td>\n",
       "      <td>2021-08-21 17:15:26.062000</td>\n",
       "      <td>2021-08-21 17:12:46.112</td>\n",
       "      <td>Android 8.1.0</td>\n",
       "      <td>Samsung</td>\n",
       "      <td>SM-G610F</td>\n",
       "      <td>en-gb</td>\n",
       "      <td>India</td>\n",
       "      <td>Bihar</td>\n",
       "    </tr>\n",
       "    <tr>\n",
       "      <th>2</th>\n",
       "      <td>1d4c9dd4e537ee0e29a6c91bca2edf31</td>\n",
       "      <td>diagnosis_open_camera</td>\n",
       "      <td>2021-08-21 17:15:48.604001</td>\n",
       "      <td>2021-08-21 17:12:46.112</td>\n",
       "      <td>Android 8.1.0</td>\n",
       "      <td>Samsung</td>\n",
       "      <td>SM-G610F</td>\n",
       "      <td>en-gb</td>\n",
       "      <td>India</td>\n",
       "      <td>Bihar</td>\n",
       "    </tr>\n",
       "  </tbody>\n",
       "</table>\n",
       "</div>"
      ],
      "text/plain": [
       "                     user_pseudo_id             event_name  \\\n",
       "0  378847315872b62bc75d98f7ea9dbec6  diagnosis_open_camera   \n",
       "1  1d4c9dd4e537ee0e29a6c91bca2edf31  diagnosis_open_camera   \n",
       "2  1d4c9dd4e537ee0e29a6c91bca2edf31  diagnosis_open_camera   \n",
       "\n",
       "             event_timestamp user_first_touch_timestamp  \\\n",
       "0 2021-08-21 04:03:39.397000    2021-08-10 07:21:19.482   \n",
       "1 2021-08-21 17:15:26.062000    2021-08-21 17:12:46.112   \n",
       "2 2021-08-21 17:15:48.604001    2021-08-21 17:12:46.112   \n",
       "\n",
       "  operating_system_version mobile_brand_name mobile_model_name language  \\\n",
       "0               Android 10            Xiaomi          Redmi 7A    en-in   \n",
       "1            Android 8.1.0           Samsung          SM-G610F    en-gb   \n",
       "2            Android 8.1.0           Samsung          SM-G610F    en-gb   \n",
       "\n",
       "  country region  \n",
       "0   India  Bihar  \n",
       "1   India  Bihar  \n",
       "2   India  Bihar  "
      ]
     },
     "execution_count": 6,
     "metadata": {},
     "output_type": "execute_result"
    }
   ],
   "source": [
    "# 3 rows of dataset\n",
    "df.head(3)"
   ]
  },
  {
   "cell_type": "code",
   "execution_count": 7,
   "metadata": {},
   "outputs": [
    {
     "data": {
      "text/plain": [
       "(6721421, 10)"
      ]
     },
     "execution_count": 7,
     "metadata": {},
     "output_type": "execute_result"
    }
   ],
   "source": [
    "# no. of rows and cols\n",
    "df.shape"
   ]
  },
  {
   "cell_type": "code",
   "execution_count": 8,
   "metadata": {},
   "outputs": [
    {
     "data": {
      "text/plain": [
       "user_pseudo_id                        object\n",
       "event_name                            object\n",
       "event_timestamp               datetime64[ns]\n",
       "user_first_touch_timestamp    datetime64[ns]\n",
       "operating_system_version              object\n",
       "mobile_brand_name                     object\n",
       "mobile_model_name                     object\n",
       "language                              object\n",
       "country                               object\n",
       "region                                object\n",
       "dtype: object"
      ]
     },
     "execution_count": 8,
     "metadata": {},
     "output_type": "execute_result"
    }
   ],
   "source": [
    "# getting data type\n",
    "df.dtypes"
   ]
  },
  {
   "cell_type": "code",
   "execution_count": 9,
   "metadata": {},
   "outputs": [
    {
     "data": {
      "text/plain": [
       "user_pseudo_id                    0\n",
       "event_name                        0\n",
       "event_timestamp                   0\n",
       "user_first_touch_timestamp        4\n",
       "operating_system_version          0\n",
       "mobile_brand_name             50453\n",
       "mobile_model_name             50453\n",
       "language                          0\n",
       "country                          17\n",
       "region                        84867\n",
       "dtype: int64"
      ]
     },
     "execution_count": 9,
     "metadata": {},
     "output_type": "execute_result"
    }
   ],
   "source": [
    "# number of missing values\n",
    "df.isnull().sum()"
   ]
  },
  {
   "cell_type": "code",
   "execution_count": 10,
   "metadata": {},
   "outputs": [
    {
     "data": {
      "text/plain": [
       "36071"
      ]
     },
     "execution_count": 10,
     "metadata": {},
     "output_type": "execute_result"
    }
   ],
   "source": [
    "# Check for number of duplicated rows\n",
    "df.duplicated().sum()"
   ]
  },
  {
   "cell_type": "code",
   "execution_count": 11,
   "metadata": {},
   "outputs": [
    {
     "data": {
      "text/plain": [
       "diagnosis_open_camera                1908911\n",
       "diagnosis_accept_image               1742754\n",
       "diagnosis_take_image                 1459521\n",
       "diagnosis_detect_pathogen             515813\n",
       "diagnosis_detect_crop                 443244\n",
       "diagnosis_detect_other_too_far        267796\n",
       "diagnosis_detect_other_blurry         181388\n",
       "diagnosis_detect_other_additional      76046\n",
       "diagnosis_detect_other_ornamental      68242\n",
       "diagnosis_detect_other_bad_image       32457\n",
       "diagnosis_detect_crop_group            25249\n",
       "Name: event_name, dtype: int64"
      ]
     },
     "execution_count": 11,
     "metadata": {},
     "output_type": "execute_result"
    }
   ],
   "source": [
    "# Check the number of events\n",
    "df['event_name'].value_counts()"
   ]
  },
  {
   "cell_type": "code",
   "execution_count": 12,
   "metadata": {},
   "outputs": [
    {
     "data": {
      "image/png": "[encoded data removed]",
      "text/plain": [
       "<Figure size 432x288 with 1 Axes>"
      ]
     },
     "metadata": {
      "needs_background": "light"
     },
     "output_type": "display_data"
    }
   ],
   "source": [
    "# bar chart of the number of events\n",
    "event_name_count = pd.DataFrame(df['event_name'].value_counts())\n",
    "plt.bar(event_name_count['event_name'].index, event_name_count['event_name'])\n",
    "plt.xticks(rotation=90)\n",
    "plt.ticklabel_format(style='plain', axis='y')\n",
    "plt.show()"
   ]
  },
  {
   "cell_type": "markdown",
   "metadata": {},
   "source": [
    "## Visualisation over time"
   ]
  },
  {
   "cell_type": "code",
   "execution_count": 13,
   "metadata": {},
   "outputs": [
    {
     "name": "stdout",
     "output_type": "stream",
     "text": [
      "2021-08-16 00:00:04.084000\n",
      "2021-09-22 23:59:50.163002\n"
     ]
    }
   ],
   "source": [
    "print(df['event_timestamp'].min())\n",
    "print(df['event_timestamp'].max())"
   ]
  },
  {
   "cell_type": "code",
   "execution_count": 14,
   "metadata": {},
   "outputs": [
    {
     "data": {
      "text/plain": [
       "<AxesSubplot:xlabel='event_timestamp'>"
      ]
     },
     "execution_count": 14,
     "metadata": {},
     "output_type": "execute_result"
    },
    {
     "data": {
      "image/png": "[encoded data removed]",
      "text/plain": [
       "<Figure size 432x288 with 1 Axes>"
      ]
     },
     "metadata": {
      "needs_background": "light"
     },
     "output_type": "display_data"
    }
   ],
   "source": [
    "selected_events = ['diagnosis_open_camera']\n",
    "df_daily_selected_events = df[df['event_name'].isin(selected_events)].groupby([pd.Grouper(key='event_timestamp',freq='1d'),'event_name']).size()\n",
    "df_daily_selected_events.unstack().plot()"
   ]
  },
  {
   "cell_type": "code",
   "execution_count": 15,
   "metadata": {},
   "outputs": [
    {
     "data": {
      "text/plain": [
       "<AxesSubplot:xlabel='event_timestamp'>"
      ]
     },
     "execution_count": 15,
     "metadata": {},
     "output_type": "execute_result"
    },
    {
     "data": {
      "image/png": "[encoded data removed]",
      "text/plain": [
       "<Figure size 432x288 with 1 Axes>"
      ]
     },
     "metadata": {
      "needs_background": "light"
     },
     "output_type": "display_data"
    }
   ],
   "source": [
    "selected_events = ['diagnosis_accept_image']\n",
    "df_daily_selected_events = df[df['event_name'].isin(selected_events)].groupby([pd.Grouper(key='event_timestamp',freq='1d'),'event_name']).size()\n",
    "df_daily_selected_events.unstack().plot()\n"
   ]
  },
  {
   "cell_type": "code",
   "execution_count": 16,
   "metadata": {},
   "outputs": [
    {
     "data": {
      "text/plain": [
       "<matplotlib.lines.Line2D at 0x22e49a66250>"
      ]
     },
     "execution_count": 16,
     "metadata": {},
     "output_type": "execute_result"
    },
    {
     "data": {
      "image/png": "[encoded data removed]",
      "text/plain": [
       "<Figure size 432x288 with 1 Axes>"
      ]
     },
     "metadata": {
      "needs_background": "light"
     },
     "output_type": "display_data"
    }
   ],
   "source": [
    "plt.plot(df_daily_selected_events.unstack()['diagnosis_accept_image'])\n",
    "plt.gcf().autofmt_xdate()\n",
    "plt.axvline(dt.datetime(2021, 8, 30),color='red')\n",
    "plt.axvline(dt.datetime(2021, 9, 6))\n",
    "plt.axvline(dt.datetime(2021, 9, 13))\n",
    "plt.axvline(dt.datetime(2021, 9, 20))"
   ]
  },
  {
   "cell_type": "code",
   "execution_count": 17,
   "metadata": {},
   "outputs": [
    {
     "data": {
      "text/plain": [
       "<AxesSubplot:xlabel='event_timestamp'>"
      ]
     },
     "execution_count": 17,
     "metadata": {},
     "output_type": "execute_result"
    },
    {
     "data": {
      "image/png": "[encoded data removed]",
      "text/plain": [
       "<Figure size 432x288 with 1 Axes>"
      ]
     },
     "metadata": {
      "needs_background": "light"
     },
     "output_type": "display_data"
    }
   ],
   "source": [
    "selected_events = ['diagnosis_take_image']\n",
    "df_daily_selected_events = df[df['event_name'].isin(selected_events)].groupby([pd.Grouper(key='event_timestamp',freq='1d'),'event_name']).size()\n",
    "df_daily_selected_events.unstack().plot()"
   ]
  },
  {
   "cell_type": "code",
   "execution_count": 18,
   "metadata": {},
   "outputs": [
    {
     "data": {
      "text/plain": [
       "<AxesSubplot:xlabel='event_timestamp'>"
      ]
     },
     "execution_count": 18,
     "metadata": {},
     "output_type": "execute_result"
    },
    {
     "data": {
      "image/png": "[encoded data removed]",
      "text/plain": [
       "<Figure size 432x288 with 1 Axes>"
      ]
     },
     "metadata": {
      "needs_background": "light"
     },
     "output_type": "display_data"
    }
   ],
   "source": [
    "selected_events = ['diagnosis_take_image','diagnosis_accept_image']\n",
    "df_daily_selected_events = df[df['event_name'].isin(selected_events)].groupby([pd.Grouper(key='event_timestamp',freq='1d'),'event_name']).size()\n",
    "df_daily_selected_events.unstack().plot()"
   ]
  },
  {
   "cell_type": "code",
   "execution_count": 19,
   "metadata": {},
   "outputs": [
    {
     "data": {
      "text/plain": [
       "<AxesSubplot:xlabel='event_timestamp'>"
      ]
     },
     "execution_count": 19,
     "metadata": {},
     "output_type": "execute_result"
    },
    {
     "data": {
      "image/png": "[encoded data removed]",
      "text/plain": [
       "<Figure size 432x288 with 1 Axes>"
      ]
     },
     "metadata": {
      "needs_background": "light"
     },
     "output_type": "display_data"
    }
   ],
   "source": [
    "selected_events = ['diagnosis_detect_pathogen','diagnosis_detect_crop','diagnosis_detect_crop_group']\n",
    "df_daily_selected_events = df[df['event_name'].isin(selected_events)].groupby([pd.Grouper(key='event_timestamp',freq='1d'),'event_name']).size()\n",
    "df_daily_selected_events.unstack().plot()"
   ]
  },
  {
   "cell_type": "code",
   "execution_count": 20,
   "metadata": {},
   "outputs": [
    {
     "data": {
      "text/plain": [
       "<AxesSubplot:xlabel='event_timestamp'>"
      ]
     },
     "execution_count": 20,
     "metadata": {},
     "output_type": "execute_result"
    },
    {
     "data": {
      "image/png": "[encoded data removed]",
      "text/plain": [
       "<Figure size 432x288 with 1 Axes>"
      ]
     },
     "metadata": {
      "needs_background": "light"
     },
     "output_type": "display_data"
    }
   ],
   "source": [
    "selected_events = ['diagnosis_detect_other_too_far','diagnosis_detect_other_blurry']\n",
    "df_daily_selected_events = df[df['event_name'].isin(selected_events)].groupby([pd.Grouper(key='event_timestamp',freq='1d'),'event_name']).size()\n",
    "df_daily_selected_events.unstack().plot()"
   ]
  },
  {
   "cell_type": "code",
   "execution_count": 21,
   "metadata": {},
   "outputs": [
    {
     "data": {
      "text/plain": [
       "<AxesSubplot:xlabel='event_timestamp'>"
      ]
     },
     "execution_count": 21,
     "metadata": {},
     "output_type": "execute_result"
    },
    {
     "data": {
      "image/png": "[encoded data removed]",
      "text/plain": [
       "<Figure size 432x288 with 1 Axes>"
      ]
     },
     "metadata": {
      "needs_background": "light"
     },
     "output_type": "display_data"
    }
   ],
   "source": [
    "selected_events = ['diagnosis_detect_other_additional','diagnosis_detect_other_ornamental','diagnosis_detect_other_bad_image']\n",
    "df_daily_selected_events = df[df['event_name'].isin(selected_events)].groupby([pd.Grouper(key='event_timestamp',freq='1d'),'event_name']).size()\n",
    "df_daily_selected_events.unstack().plot()"
   ]
  },
  {
   "cell_type": "markdown",
   "metadata": {},
   "source": [
    "## Define power cal fun"
   ]
  },
  {
   "cell_type": "code",
   "execution_count": 22,
   "metadata": {},
   "outputs": [],
   "source": [
    "def power_calculation_table(conversion,proportion,average,std,alpha,power,mde,alternative):\n",
    "    if (conversion == 'proportion'):\n",
    "        power_calculation = {}\n",
    "        for x in mde:\n",
    "            power_calculation[x] = pd.DataFrame(0, alpha, power)\n",
    "            for y in alpha:\n",
    "                for z in power:\n",
    "                    if (alternative=='smaller'):\n",
    "                        effect_size = sms.proportion_effectsize(proportion-x,proportion)\n",
    "                    else:\n",
    "                        effect_size = sms.proportion_effectsize(proportion,proportion-x)\n",
    "                    power_calculation[x].loc[y,z]= math.ceil(sms.NormalIndPower().solve_power(\n",
    "                        effect_size,\n",
    "                        power=z,\n",
    "                        alpha=y,\n",
    "                        ratio=1,\n",
    "                        alternative= alternative\n",
    "                        ))\n",
    "        power_table = pd.concat(power_calculation)\n",
    "        power_table.columns = [power_table.columns.get_level_values(0), np.repeat('Power', power_table.shape[1])]\n",
    "        power_table = power_table.reset_index()\n",
    "        power_table = power_table.rename(columns = {'level_0':'MDE','level_1':'Alpha'})\n",
    "        power_table = power_table.set_index('MDE')\n",
    "        print(power_table)\n",
    "        return(power_table)\n",
    "    elif(conversion == 'average'):\n",
    "        power_calculation = {}\n",
    "        for x in mde:\n",
    "            power_calculation[x] = pd.DataFrame(0, alpha, power)\n",
    "            for y in alpha:\n",
    "                for z in power:\n",
    "                    if (alternative=='smaller'):\n",
    "                        effect_size = ((average-average*x)-average)/std\n",
    "                    else:\n",
    "                        effect_size = (average-(average-average*x))/std\n",
    "                    power_calculation[x].loc[y,z]= math.ceil(tt_ind_solve_power(\n",
    "                        effect_size,\n",
    "                        power=z,\n",
    "                        alpha=y,\n",
    "                        ratio=1,\n",
    "                        alternative= alternative\n",
    "                        ))\n",
    "        power_table = pd.concat(power_calculation)\n",
    "        power_table.columns = [power_table.columns.get_level_values(0), np.repeat('Power', power_table.shape[1])]\n",
    "        power_table = power_table.reset_index()\n",
    "        power_table = power_table.rename(columns = {'level_0':'MDE','level_1':'Alpha'})\n",
    "        power_table = power_table.set_index('MDE')\n",
    "        print(power_table)\n",
    "        return(power_table)"
   ]
  },
  {
   "cell_type": "markdown",
   "metadata": {},
   "source": [
    "## Power Calculation for our AB test"
   ]
  },
  {
   "cell_type": "markdown",
   "metadata": {},
   "source": [
    "### share of bad pic"
   ]
  },
  {
   "cell_type": "code",
   "execution_count": 23,
   "metadata": {},
   "outputs": [
    {
     "data": {
      "text/html": [
       "<div>\n",
       "<style scoped>\n",
       "    .dataframe tbody tr th:only-of-type {\n",
       "        vertical-align: middle;\n",
       "    }\n",
       "\n",
       "    .dataframe tbody tr th {\n",
       "        vertical-align: top;\n",
       "    }\n",
       "\n",
       "    .dataframe thead th {\n",
       "        text-align: right;\n",
       "    }\n",
       "</style>\n",
       "<table border=\"1\" class=\"dataframe\">\n",
       "  <thead>\n",
       "    <tr style=\"text-align: right;\">\n",
       "      <th>event_name</th>\n",
       "      <th>diagnosis_accept_image</th>\n",
       "      <th>diagnosis_detect_other_blurry</th>\n",
       "      <th>diagnosis_detect_other_too_far</th>\n",
       "      <th>total</th>\n",
       "      <th>conversion</th>\n",
       "    </tr>\n",
       "    <tr>\n",
       "      <th>event_timestamp</th>\n",
       "      <th></th>\n",
       "      <th></th>\n",
       "      <th></th>\n",
       "      <th></th>\n",
       "      <th></th>\n",
       "    </tr>\n",
       "  </thead>\n",
       "  <tbody>\n",
       "    <tr>\n",
       "      <th>2021-08-22</th>\n",
       "      <td>358963</td>\n",
       "      <td>37306</td>\n",
       "      <td>57156</td>\n",
       "      <td>94462</td>\n",
       "      <td>0.263152</td>\n",
       "    </tr>\n",
       "    <tr>\n",
       "      <th>2021-08-29</th>\n",
       "      <td>375955</td>\n",
       "      <td>37899</td>\n",
       "      <td>56249</td>\n",
       "      <td>94148</td>\n",
       "      <td>0.250424</td>\n",
       "    </tr>\n",
       "    <tr>\n",
       "      <th>2021-09-05</th>\n",
       "      <td>300233</td>\n",
       "      <td>31388</td>\n",
       "      <td>45059</td>\n",
       "      <td>76447</td>\n",
       "      <td>0.254626</td>\n",
       "    </tr>\n",
       "    <tr>\n",
       "      <th>2021-09-12</th>\n",
       "      <td>305808</td>\n",
       "      <td>32900</td>\n",
       "      <td>47987</td>\n",
       "      <td>80887</td>\n",
       "      <td>0.264503</td>\n",
       "    </tr>\n",
       "    <tr>\n",
       "      <th>2021-09-19</th>\n",
       "      <td>288752</td>\n",
       "      <td>30367</td>\n",
       "      <td>44368</td>\n",
       "      <td>74735</td>\n",
       "      <td>0.258821</td>\n",
       "    </tr>\n",
       "    <tr>\n",
       "      <th>2021-09-26</th>\n",
       "      <td>113043</td>\n",
       "      <td>11528</td>\n",
       "      <td>16977</td>\n",
       "      <td>28505</td>\n",
       "      <td>0.252161</td>\n",
       "    </tr>\n",
       "  </tbody>\n",
       "</table>\n",
       "</div>"
      ],
      "text/plain": [
       "event_name       diagnosis_accept_image  diagnosis_detect_other_blurry  \\\n",
       "event_timestamp                                                          \n",
       "2021-08-22                       358963                          37306   \n",
       "2021-08-29                       375955                          37899   \n",
       "2021-09-05                       300233                          31388   \n",
       "2021-09-12                       305808                          32900   \n",
       "2021-09-19                       288752                          30367   \n",
       "2021-09-26                       113043                          11528   \n",
       "\n",
       "event_name       diagnosis_detect_other_too_far  total  conversion  \n",
       "event_timestamp                                                     \n",
       "2021-08-22                                57156  94462    0.263152  \n",
       "2021-08-29                                56249  94148    0.250424  \n",
       "2021-09-05                                45059  76447    0.254626  \n",
       "2021-09-12                                47987  80887    0.264503  \n",
       "2021-09-19                                44368  74735    0.258821  \n",
       "2021-09-26                                16977  28505    0.252161  "
      ]
     },
     "execution_count": 23,
     "metadata": {},
     "output_type": "execute_result"
    }
   ],
   "source": [
    "selected_events = ['diagnosis_accept_image','diagnosis_detect_other_too_far','diagnosis_detect_other_blurry']\n",
    "df_weekly_selected_events = df[df['event_name'].isin(selected_events)].groupby([pd.Grouper(key='event_timestamp',freq='1w'),'event_name']).size()\n",
    "total_blurry_far = df_weekly_selected_events.unstack()\n",
    "total_blurry_far['total']=total_blurry_far['diagnosis_detect_other_blurry']+total_blurry_far['diagnosis_detect_other_too_far']\n",
    "total_blurry_far['conversion']=total_blurry_far['total']/total_blurry_far['diagnosis_accept_image']\n",
    "total_blurry_far"
   ]
  },
  {
   "cell_type": "code",
   "execution_count": 24,
   "metadata": {},
   "outputs": [],
   "source": [
    "accept_image_per_day = total_blurry_far.iloc[2:5,0].mean()/21"
   ]
  },
  {
   "cell_type": "code",
   "execution_count": 25,
   "metadata": {},
   "outputs": [],
   "source": [
    "p = total_blurry_far.iloc[2:5,4].mean()"
   ]
  },
  {
   "cell_type": "code",
   "execution_count": 26,
   "metadata": {},
   "outputs": [
    {
     "data": {
      "text/plain": [
       "0.25931628532080514"
      ]
     },
     "execution_count": 26,
     "metadata": {},
     "output_type": "execute_result"
    }
   ],
   "source": [
    "p"
   ]
  },
  {
   "cell_type": "code",
   "execution_count": 27,
   "metadata": {},
   "outputs": [
    {
     "name": "stdout",
     "output_type": "stream",
     "text": [
      "       Alpha    0.8    0.9\n",
      "              Power  Power\n",
      "MDE                       \n",
      "0.01  0.0025  50488  63397\n",
      "0.01  0.0125  36048  47070\n",
      "0.01  0.0250  29767  39850\n",
      "0.05  0.0025   1906   2394\n",
      "0.05  0.0125   1361   1777\n",
      "0.05  0.0250   1124   1505\n",
      "0.10  0.0025    435    547\n",
      "0.10  0.0125    311    406\n",
      "0.10  0.0250    257    344\n"
     ]
    }
   ],
   "source": [
    "# use power calculation table function\n",
    "\n",
    "# select averge or proportion for the conversion\n",
    "conversion = 'proportion'\n",
    "# the function use 'solve_power' if the conversion is proportion\n",
    "proportion = p\n",
    "# the function use 'solve_power' if the conversion is average\n",
    "average = 0\n",
    "std = 1\n",
    "alpha = [0.01/4,0.05/4,0.10/4]\n",
    "power = [0.8,0.9]\n",
    "mde = [0.01,0.05,0.10]\n",
    "# select smaller, larger or two-sided\n",
    "alternative = 'smaller'\n",
    "\n",
    "power_table = power_calculation_table(conversion,proportion,average,std,alpha,power,mde,alternative)"
   ]
  },
  {
   "cell_type": "code",
   "execution_count": 28,
   "metadata": {},
   "outputs": [
    {
     "data": {
      "text/plain": [
       "8.927228979216423"
      ]
     },
     "execution_count": 28,
     "metadata": {},
     "output_type": "execute_result"
    }
   ],
   "source": [
    "2*power_table.max().max()/accept_image_per_day"
   ]
  },
  {
   "cell_type": "markdown",
   "metadata": {},
   "source": [
    "### share good pic"
   ]
  },
  {
   "cell_type": "code",
   "execution_count": 29,
   "metadata": {},
   "outputs": [
    {
     "data": {
      "text/html": [
       "<div>\n",
       "<style scoped>\n",
       "    .dataframe tbody tr th:only-of-type {\n",
       "        vertical-align: middle;\n",
       "    }\n",
       "\n",
       "    .dataframe tbody tr th {\n",
       "        vertical-align: top;\n",
       "    }\n",
       "\n",
       "    .dataframe thead th {\n",
       "        text-align: right;\n",
       "    }\n",
       "</style>\n",
       "<table border=\"1\" class=\"dataframe\">\n",
       "  <thead>\n",
       "    <tr style=\"text-align: right;\">\n",
       "      <th>event_name</th>\n",
       "      <th>diagnosis_accept_image</th>\n",
       "      <th>diagnosis_detect_crop</th>\n",
       "      <th>diagnosis_detect_crop_group</th>\n",
       "      <th>diagnosis_detect_pathogen</th>\n",
       "      <th>total</th>\n",
       "      <th>conversion</th>\n",
       "    </tr>\n",
       "    <tr>\n",
       "      <th>event_timestamp</th>\n",
       "      <th></th>\n",
       "      <th></th>\n",
       "      <th></th>\n",
       "      <th></th>\n",
       "      <th></th>\n",
       "      <th></th>\n",
       "    </tr>\n",
       "  </thead>\n",
       "  <tbody>\n",
       "    <tr>\n",
       "      <th>2021-08-22</th>\n",
       "      <td>358963</td>\n",
       "      <td>90576</td>\n",
       "      <td>6299</td>\n",
       "      <td>99801</td>\n",
       "      <td>196676</td>\n",
       "      <td>0.547900</td>\n",
       "    </tr>\n",
       "    <tr>\n",
       "      <th>2021-08-29</th>\n",
       "      <td>375955</td>\n",
       "      <td>98246</td>\n",
       "      <td>5684</td>\n",
       "      <td>111550</td>\n",
       "      <td>215480</td>\n",
       "      <td>0.573154</td>\n",
       "    </tr>\n",
       "    <tr>\n",
       "      <th>2021-09-05</th>\n",
       "      <td>300233</td>\n",
       "      <td>76696</td>\n",
       "      <td>4073</td>\n",
       "      <td>89123</td>\n",
       "      <td>169892</td>\n",
       "      <td>0.565867</td>\n",
       "    </tr>\n",
       "    <tr>\n",
       "      <th>2021-09-12</th>\n",
       "      <td>305808</td>\n",
       "      <td>77277</td>\n",
       "      <td>4071</td>\n",
       "      <td>90376</td>\n",
       "      <td>171724</td>\n",
       "      <td>0.561542</td>\n",
       "    </tr>\n",
       "    <tr>\n",
       "      <th>2021-09-19</th>\n",
       "      <td>288752</td>\n",
       "      <td>72649</td>\n",
       "      <td>3707</td>\n",
       "      <td>89023</td>\n",
       "      <td>165379</td>\n",
       "      <td>0.572737</td>\n",
       "    </tr>\n",
       "    <tr>\n",
       "      <th>2021-09-26</th>\n",
       "      <td>113043</td>\n",
       "      <td>27800</td>\n",
       "      <td>1415</td>\n",
       "      <td>35940</td>\n",
       "      <td>65155</td>\n",
       "      <td>0.576374</td>\n",
       "    </tr>\n",
       "  </tbody>\n",
       "</table>\n",
       "</div>"
      ],
      "text/plain": [
       "event_name       diagnosis_accept_image  diagnosis_detect_crop  \\\n",
       "event_timestamp                                                  \n",
       "2021-08-22                       358963                  90576   \n",
       "2021-08-29                       375955                  98246   \n",
       "2021-09-05                       300233                  76696   \n",
       "2021-09-12                       305808                  77277   \n",
       "2021-09-19                       288752                  72649   \n",
       "2021-09-26                       113043                  27800   \n",
       "\n",
       "event_name       diagnosis_detect_crop_group  diagnosis_detect_pathogen  \\\n",
       "event_timestamp                                                           \n",
       "2021-08-22                              6299                      99801   \n",
       "2021-08-29                              5684                     111550   \n",
       "2021-09-05                              4073                      89123   \n",
       "2021-09-12                              4071                      90376   \n",
       "2021-09-19                              3707                      89023   \n",
       "2021-09-26                              1415                      35940   \n",
       "\n",
       "event_name        total  conversion  \n",
       "event_timestamp                      \n",
       "2021-08-22       196676    0.547900  \n",
       "2021-08-29       215480    0.573154  \n",
       "2021-09-05       169892    0.565867  \n",
       "2021-09-12       171724    0.561542  \n",
       "2021-09-19       165379    0.572737  \n",
       "2021-09-26        65155    0.576374  "
      ]
     },
     "execution_count": 29,
     "metadata": {},
     "output_type": "execute_result"
    }
   ],
   "source": [
    "selected_events = ['diagnosis_accept_image','diagnosis_detect_pathogen','diagnosis_detect_crop','diagnosis_detect_crop_group']\n",
    "df_weekly_selected_events = df[df['event_name'].isin(selected_events)].groupby([pd.Grouper(key='event_timestamp',freq='1w'),'event_name']).size()\n",
    "total_good_pic = df_weekly_selected_events.unstack()\n",
    "total_good_pic['total']=total_good_pic['diagnosis_detect_pathogen']+total_good_pic['diagnosis_detect_crop']+total_good_pic['diagnosis_detect_crop_group']\n",
    "total_good_pic['conversion']=total_good_pic['total']/total_good_pic['diagnosis_accept_image']\n",
    "total_good_pic"
   ]
  },
  {
   "cell_type": "code",
   "execution_count": 30,
   "metadata": {},
   "outputs": [],
   "source": [
    "accept_image_per_day = total_good_pic.iloc[2:5,0].mean()/21"
   ]
  },
  {
   "cell_type": "code",
   "execution_count": 31,
   "metadata": {},
   "outputs": [],
   "source": [
    "p = total_good_pic.iloc[2:5,5].mean()"
   ]
  },
  {
   "cell_type": "code",
   "execution_count": 32,
   "metadata": {},
   "outputs": [
    {
     "data": {
      "text/plain": [
       "0.5667154058372621"
      ]
     },
     "execution_count": 32,
     "metadata": {},
     "output_type": "execute_result"
    }
   ],
   "source": [
    "p"
   ]
  },
  {
   "cell_type": "code",
   "execution_count": 33,
   "metadata": {},
   "outputs": [
    {
     "name": "stdout",
     "output_type": "stream",
     "text": [
      "       Alpha    0.8    0.9\n",
      "              Power  Power\n",
      "MDE                       \n",
      "0.01  0.0025  65547  82307\n",
      "0.01  0.0125  46800  61109\n",
      "0.01  0.0250  38646  51735\n",
      "0.05  0.0025   2642   3318\n",
      "0.05  0.0125   1887   2463\n",
      "0.05  0.0250   1558   2086\n",
      "0.10  0.0025    663    833\n",
      "0.10  0.0125    474    618\n",
      "0.10  0.0250    391    524\n"
     ]
    }
   ],
   "source": [
    "# use power calculation table function\n",
    "\n",
    "# select averge or proportion for the conversion\n",
    "conversion = 'proportion'\n",
    "# the function use 'solve_power' if the conversion is proportion\n",
    "proportion = p\n",
    "# the function use 'solve_power' if the conversion is average\n",
    "average = 0\n",
    "std = 1\n",
    "alpha = [0.01/4,0.05/4,0.10/4]\n",
    "power = [0.8,0.9]\n",
    "mde = [0.01,0.05,0.10]\n",
    "# select smaller, larger or two-sided\n",
    "alternative = 'larger'\n",
    "\n",
    "power_table = power_calculation_table(conversion,proportion,average,std,alpha,power,mde,alternative)"
   ]
  },
  {
   "cell_type": "code",
   "execution_count": 34,
   "metadata": {},
   "outputs": [
    {
     "data": {
      "text/plain": [
       "11.590034790169348"
      ]
     },
     "execution_count": 34,
     "metadata": {},
     "output_type": "execute_result"
    }
   ],
   "source": [
    "2*power_table.max().max()/accept_image_per_day"
   ]
  },
  {
   "cell_type": "markdown",
   "metadata": {},
   "source": [
    "### take image per day"
   ]
  },
  {
   "cell_type": "code",
   "execution_count": 35,
   "metadata": {},
   "outputs": [],
   "source": [
    "selected_events = ['diagnosis_take_image']\n",
    "df_daily_take_image = df[df['event_name'].isin(selected_events)].groupby([pd.Grouper(key='event_timestamp',freq='1d'),'event_name']).size()\n",
    "daily_take_image = df_daily_take_image.unstack()"
   ]
  },
  {
   "cell_type": "code",
   "execution_count": 36,
   "metadata": {},
   "outputs": [
    {
     "data": {
      "text/plain": [
       "38408.44736842105"
      ]
     },
     "execution_count": 36,
     "metadata": {},
     "output_type": "execute_result"
    }
   ],
   "source": [
    "m = daily_take_image.iloc[:,0].mean()\n",
    "m"
   ]
  },
  {
   "cell_type": "code",
   "execution_count": 37,
   "metadata": {},
   "outputs": [
    {
     "data": {
      "text/plain": [
       "5437.220656744402"
      ]
     },
     "execution_count": 37,
     "metadata": {},
     "output_type": "execute_result"
    }
   ],
   "source": [
    "d = daily_take_image.iloc[:,0].std()\n",
    "d"
   ]
  },
  {
   "cell_type": "code",
   "execution_count": 38,
   "metadata": {},
   "outputs": [
    {
     "name": "stdout",
     "output_type": "stream",
     "text": [
      "       Alpha   0.8   0.9\n",
      "             Power Power\n",
      "MDE                     \n",
      "0.01  0.0025  5990  7430\n",
      "0.01  0.0125  4471  5727\n",
      "0.01  0.0250  3811  4976\n",
      "0.05  0.0025   242   300\n",
      "0.05  0.0125   181   231\n",
      "0.05  0.0250   154   201\n",
      "0.10  0.0025    63    77\n",
      "0.10  0.0125    47    59\n",
      "0.10  0.0250    40    52\n"
     ]
    }
   ],
   "source": [
    "# use power calculation table function\n",
    "\n",
    "# select averge or proportion for the conversion\n",
    "conversion = 'average'\n",
    "# the function use 'solve_power' if the conversion is proportion\n",
    "proportion = 0\n",
    "# the function use 'solve_power' if the conversion is average\n",
    "average = m\n",
    "std = d\n",
    "alpha = [0.01/4,0.05/4,0.10/4]\n",
    "power = [0.8,0.9]\n",
    "mde = [0.01,0.05,0.10]\n",
    "# select smaller, larger or two-sided\n",
    "alternative = 'two-sided'\n",
    "\n",
    "power_table = power_calculation_table(conversion,proportion,average,std,alpha,power,mde,alternative)"
   ]
  },
  {
   "cell_type": "code",
   "execution_count": 39,
   "metadata": {},
   "outputs": [
    {
     "data": {
      "text/plain": [
       "14860.0"
      ]
     },
     "execution_count": 39,
     "metadata": {},
     "output_type": "execute_result"
    }
   ],
   "source": [
    "2*power_table.max().max()"
   ]
  },
  {
   "cell_type": "markdown",
   "metadata": {},
   "source": [
    "### open camera per day"
   ]
  },
  {
   "cell_type": "code",
   "execution_count": 40,
   "metadata": {},
   "outputs": [],
   "source": [
    "selected_events = ['diagnosis_open_camera']\n",
    "df_daily_open_camera = df[df['event_name'].isin(selected_events)].groupby([pd.Grouper(key='event_timestamp',freq='1d'),'event_name']).size()\n",
    "daily_open_camera = df_daily_open_camera.unstack()"
   ]
  },
  {
   "cell_type": "code",
   "execution_count": 41,
   "metadata": {},
   "outputs": [
    {
     "data": {
      "text/plain": [
       "50234.5"
      ]
     },
     "execution_count": 41,
     "metadata": {},
     "output_type": "execute_result"
    }
   ],
   "source": [
    "m = daily_open_camera.iloc[:,0].mean()\n",
    "m"
   ]
  },
  {
   "cell_type": "code",
   "execution_count": 42,
   "metadata": {},
   "outputs": [
    {
     "data": {
      "text/plain": [
       "6995.956062592855"
      ]
     },
     "execution_count": 42,
     "metadata": {},
     "output_type": "execute_result"
    }
   ],
   "source": [
    "d = daily_open_camera.iloc[:,0].std()\n",
    "d"
   ]
  },
  {
   "cell_type": "code",
   "execution_count": 43,
   "metadata": {},
   "outputs": [
    {
     "name": "stdout",
     "output_type": "stream",
     "text": [
      "       Alpha   0.8   0.9\n",
      "             Power Power\n",
      "MDE                     \n",
      "0.01  0.0025  5797  7191\n",
      "0.01  0.0125  4328  5542\n",
      "0.01  0.0250  3689  4816\n",
      "0.05  0.0025   235   290\n",
      "0.05  0.0125   175   224\n",
      "0.05  0.0250   149   194\n",
      "0.10  0.0025    61    75\n",
      "0.10  0.0125    45    57\n",
      "0.10  0.0250    39    50\n"
     ]
    }
   ],
   "source": [
    "# use power calculation table function\n",
    "\n",
    "# select averge or proportion for the conversion\n",
    "conversion = 'average'\n",
    "# the function use 'solve_power' if the conversion is proportion\n",
    "proportion = 0\n",
    "# the function use 'solve_power' if the conversion is average\n",
    "average = m\n",
    "std = d\n",
    "alpha = [0.01/4,0.05/4,0.10/4]\n",
    "power = [0.8,0.9]\n",
    "mde = [0.01,0.05,0.10]\n",
    "# select smaller, larger or two-sided\n",
    "alternative = 'two-sided'\n",
    "\n",
    "power_table = power_calculation_table(conversion,proportion,average,std,alpha,power,mde,alternative)"
   ]
  },
  {
   "cell_type": "code",
   "execution_count": 44,
   "metadata": {},
   "outputs": [
    {
     "data": {
      "text/plain": [
       "14382.0"
      ]
     },
     "execution_count": 44,
     "metadata": {},
     "output_type": "execute_result"
    }
   ],
   "source": [
    "2*power_table.max().max()"
   ]
  },
  {
   "cell_type": "markdown",
   "metadata": {},
   "source": [
    "## Power Calculation for 2 AB test"
   ]
  },
  {
   "cell_type": "markdown",
   "metadata": {},
   "source": [
    "### Preparation"
   ]
  },
  {
   "cell_type": "code",
   "execution_count": 45,
   "metadata": {},
   "outputs": [
    {
     "name": "stdout",
     "output_type": "stream",
     "text": [
      "449951\n"
     ]
    }
   ],
   "source": [
    "user_id = pd.DataFrame(df['user_pseudo_id'].unique())\n",
    "print(len(user_id))"
   ]
  },
  {
   "cell_type": "code",
   "execution_count": 46,
   "metadata": {},
   "outputs": [
    {
     "name": "stdout",
     "output_type": "stream",
     "text": [
      "233529\n"
     ]
    }
   ],
   "source": [
    "returning_user_id = pd.DataFrame(df[df['event_timestamp']<'2021-08-30 00:00:00.000000']['user_pseudo_id'].unique())\n",
    "print(len(returning_user_id))"
   ]
  },
  {
   "cell_type": "code",
   "execution_count": 47,
   "metadata": {},
   "outputs": [
    {
     "name": "stdout",
     "output_type": "stream",
     "text": [
      "216422\n"
     ]
    }
   ],
   "source": [
    "new_user_id = user_id[-user_id[0].isin(returning_user_id[0])]\n",
    "print(len(new_user_id))"
   ]
  },
  {
   "cell_type": "markdown",
   "metadata": {},
   "source": [
    "### new user"
   ]
  },
  {
   "cell_type": "markdown",
   "metadata": {},
   "source": [
    "#### Preparation"
   ]
  },
  {
   "cell_type": "code",
   "execution_count": 48,
   "metadata": {},
   "outputs": [],
   "source": [
    "df_sep = df[(df['event_timestamp']>='2021-08-30 00:00:00.000000')&(df['event_timestamp']<'2021-09-20 00:00:00.000000')]"
   ]
  },
  {
   "cell_type": "code",
   "execution_count": 49,
   "metadata": {},
   "outputs": [
    {
     "data": {
      "text/plain": [
       "diagnosis_open_camera                684556\n",
       "diagnosis_accept_image               603258\n",
       "diagnosis_take_image                 504901\n",
       "diagnosis_detect_pathogen            165502\n",
       "diagnosis_detect_crop                145516\n",
       "diagnosis_detect_other_too_far       101133\n",
       "diagnosis_detect_other_blurry         66025\n",
       "diagnosis_detect_other_additional     28904\n",
       "diagnosis_detect_other_ornamental     28746\n",
       "diagnosis_detect_other_bad_image      11760\n",
       "diagnosis_detect_crop_group            8543\n",
       "Name: event_name, dtype: int64"
      ]
     },
     "execution_count": 49,
     "metadata": {},
     "output_type": "execute_result"
    }
   ],
   "source": [
    "new_user_events = df_sep[df_sep['user_pseudo_id'].isin(new_user_id[0])]['event_name'].value_counts()\n",
    "new_user_events"
   ]
  },
  {
   "cell_type": "code",
   "execution_count": 50,
   "metadata": {},
   "outputs": [
    {
     "name": "stdout",
     "output_type": "stream",
     "text": [
      "2021-09-19 23:59:56.119003\n",
      "2021-08-30 00:00:32.724000\n",
      "20 days 23:59:23.395003\n"
     ]
    }
   ],
   "source": [
    "print(df_sep[df_sep['user_pseudo_id'].isin(new_user_id[0])]['event_timestamp'].max())\n",
    "print(df_sep[df_sep['user_pseudo_id'].isin(new_user_id[0])]['event_timestamp'].min())\n",
    "print(df_sep[df_sep['user_pseudo_id'].isin(new_user_id[0])]['event_timestamp'].max()-df_sep[df_sep['user_pseudo_id'].isin(new_user_id[0])]['event_timestamp'].min())"
   ]
  },
  {
   "cell_type": "code",
   "execution_count": 51,
   "metadata": {},
   "outputs": [
    {
     "data": {
      "text/plain": [
       "28726.571428571428"
      ]
     },
     "execution_count": 51,
     "metadata": {},
     "output_type": "execute_result"
    }
   ],
   "source": [
    "accept_image_per_day_new_user =new_user_events['diagnosis_accept_image']/21\n",
    "accept_image_per_day_new_user"
   ]
  },
  {
   "cell_type": "markdown",
   "metadata": {},
   "source": [
    "#### bed events"
   ]
  },
  {
   "cell_type": "code",
   "execution_count": 52,
   "metadata": {},
   "outputs": [
    {
     "name": "stdout",
     "output_type": "stream",
     "text": [
      "     Alpha    0.8    0.9\n",
      "            Power  Power\n",
      "MDE                     \n",
      "0.01  0.01  39752  51559\n",
      "0.01  0.05  24489  33921\n",
      "0.01  0.10  17856  26021\n",
      "0.05  0.01   1511   1960\n",
      "0.05  0.05    931   1289\n",
      "0.05  0.10    679    989\n",
      "0.10  0.01    349    452\n",
      "0.10  0.05    215    298\n",
      "0.10  0.10    157    229\n"
     ]
    }
   ],
   "source": [
    "# use power calculation table function\n",
    "\n",
    "# select averge or proportion for the conversion\n",
    "conversion = 'proportion'\n",
    "# the function use 'solve_power' if the conversion is proportion\n",
    "proportion = (new_user_events['diagnosis_detect_other_too_far']+new_user_events['diagnosis_detect_other_blurry'])/new_user_events['diagnosis_accept_image']\n",
    "# the function use 'solve_power' if the conversion is average\n",
    "average = 0\n",
    "std = 1\n",
    "alpha = [0.01,0.05,0.10]\n",
    "power = [0.8,0.9]\n",
    "mde = [0.01,0.05,0.10]\n",
    "# select smaller, larger or two-sided\n",
    "alternative = 'smaller'\n",
    "\n",
    "power_table = power_calculation_table(conversion,proportion,average,std,alpha,power,mde,alternative)"
   ]
  },
  {
   "cell_type": "code",
   "execution_count": 53,
   "metadata": {},
   "outputs": [
    {
     "data": {
      "text/html": [
       "<div>\n",
       "<style scoped>\n",
       "    .dataframe tbody tr th:only-of-type {\n",
       "        vertical-align: middle;\n",
       "    }\n",
       "\n",
       "    .dataframe tbody tr th {\n",
       "        vertical-align: top;\n",
       "    }\n",
       "\n",
       "    .dataframe thead tr th {\n",
       "        text-align: left;\n",
       "    }\n",
       "\n",
       "    .dataframe thead tr:last-of-type th {\n",
       "        text-align: right;\n",
       "    }\n",
       "</style>\n",
       "<table border=\"1\" class=\"dataframe\">\n",
       "  <thead>\n",
       "    <tr>\n",
       "      <th></th>\n",
       "      <th>Alpha</th>\n",
       "      <th>0.8</th>\n",
       "      <th>0.9</th>\n",
       "    </tr>\n",
       "    <tr>\n",
       "      <th></th>\n",
       "      <th></th>\n",
       "      <th>Power</th>\n",
       "      <th>Power</th>\n",
       "    </tr>\n",
       "    <tr>\n",
       "      <th>MDE</th>\n",
       "      <th></th>\n",
       "      <th></th>\n",
       "      <th></th>\n",
       "    </tr>\n",
       "  </thead>\n",
       "  <tbody>\n",
       "    <tr>\n",
       "      <th>0.01</th>\n",
       "      <td>0.01</td>\n",
       "      <td>39752</td>\n",
       "      <td>51559</td>\n",
       "    </tr>\n",
       "    <tr>\n",
       "      <th>0.01</th>\n",
       "      <td>0.05</td>\n",
       "      <td>24489</td>\n",
       "      <td>33921</td>\n",
       "    </tr>\n",
       "    <tr>\n",
       "      <th>0.01</th>\n",
       "      <td>0.10</td>\n",
       "      <td>17856</td>\n",
       "      <td>26021</td>\n",
       "    </tr>\n",
       "    <tr>\n",
       "      <th>0.05</th>\n",
       "      <td>0.01</td>\n",
       "      <td>1511</td>\n",
       "      <td>1960</td>\n",
       "    </tr>\n",
       "    <tr>\n",
       "      <th>0.05</th>\n",
       "      <td>0.05</td>\n",
       "      <td>931</td>\n",
       "      <td>1289</td>\n",
       "    </tr>\n",
       "    <tr>\n",
       "      <th>0.05</th>\n",
       "      <td>0.10</td>\n",
       "      <td>679</td>\n",
       "      <td>989</td>\n",
       "    </tr>\n",
       "    <tr>\n",
       "      <th>0.10</th>\n",
       "      <td>0.01</td>\n",
       "      <td>349</td>\n",
       "      <td>452</td>\n",
       "    </tr>\n",
       "    <tr>\n",
       "      <th>0.10</th>\n",
       "      <td>0.05</td>\n",
       "      <td>215</td>\n",
       "      <td>298</td>\n",
       "    </tr>\n",
       "    <tr>\n",
       "      <th>0.10</th>\n",
       "      <td>0.10</td>\n",
       "      <td>157</td>\n",
       "      <td>229</td>\n",
       "    </tr>\n",
       "  </tbody>\n",
       "</table>\n",
       "</div>"
      ],
      "text/plain": [
       "     Alpha    0.8    0.9\n",
       "            Power  Power\n",
       "MDE                     \n",
       "0.01  0.01  39752  51559\n",
       "0.01  0.05  24489  33921\n",
       "0.01  0.10  17856  26021\n",
       "0.05  0.01   1511   1960\n",
       "0.05  0.05    931   1289\n",
       "0.05  0.10    679    989\n",
       "0.10  0.01    349    452\n",
       "0.10  0.05    215    298\n",
       "0.10  0.10    157    229"
      ]
     },
     "execution_count": 53,
     "metadata": {},
     "output_type": "execute_result"
    }
   ],
   "source": [
    "power_table"
   ]
  },
  {
   "cell_type": "code",
   "execution_count": 54,
   "metadata": {},
   "outputs": [
    {
     "data": {
      "text/plain": [
       "0.27709205679825216"
      ]
     },
     "execution_count": 54,
     "metadata": {},
     "output_type": "execute_result"
    }
   ],
   "source": [
    "proportion"
   ]
  },
  {
   "cell_type": "code",
   "execution_count": 55,
   "metadata": {},
   "outputs": [
    {
     "data": {
      "text/plain": [
       "3.589638264225257"
      ]
     },
     "execution_count": 55,
     "metadata": {},
     "output_type": "execute_result"
    }
   ],
   "source": [
    "2*power_table.max().max()/accept_image_per_day_new_user"
   ]
  },
  {
   "cell_type": "markdown",
   "metadata": {},
   "source": [
    "#### good events"
   ]
  },
  {
   "cell_type": "code",
   "execution_count": 56,
   "metadata": {},
   "outputs": [
    {
     "name": "stdout",
     "output_type": "stream",
     "text": [
      "     Alpha    0.8    0.9\n",
      "            Power  Power\n",
      "MDE                     \n",
      "0.01  0.01  50056  64924\n",
      "0.01  0.05  30837  42714\n",
      "0.01  0.10  22484  32767\n",
      "0.05  0.01   2006   2601\n",
      "0.05  0.05   1236   1712\n",
      "0.05  0.10    901   1313\n",
      "0.10  0.01    500    648\n",
      "0.10  0.05    308    427\n",
      "0.10  0.10    225    327\n"
     ]
    }
   ],
   "source": [
    "# use power calculation table function\n",
    "\n",
    "# select averge or proportion for the conversion\n",
    "conversion = 'proportion'\n",
    "# the function use 'solve_power' if the conversion is proportion\n",
    "proportion = (new_user_events['diagnosis_detect_crop']+new_user_events['diagnosis_detect_crop_group']+new_user_events['diagnosis_detect_pathogen'])/new_user_events['diagnosis_accept_image']\n",
    "# the function use 'solve_power' if the conversion is average\n",
    "average = 0\n",
    "std = 1\n",
    "alpha = [0.01,0.05,0.10]\n",
    "power = [0.8,0.9]\n",
    "mde = [0.01,0.05,0.10]\n",
    "# select smaller, larger or two-sided\n",
    "alternative = 'larger'\n",
    "\n",
    "power_table = power_calculation_table(conversion,proportion,average,std,alpha,power,mde,alternative)"
   ]
  },
  {
   "cell_type": "code",
   "execution_count": 57,
   "metadata": {},
   "outputs": [
    {
     "data": {
      "text/html": [
       "<div>\n",
       "<style scoped>\n",
       "    .dataframe tbody tr th:only-of-type {\n",
       "        vertical-align: middle;\n",
       "    }\n",
       "\n",
       "    .dataframe tbody tr th {\n",
       "        vertical-align: top;\n",
       "    }\n",
       "\n",
       "    .dataframe thead tr th {\n",
       "        text-align: left;\n",
       "    }\n",
       "\n",
       "    .dataframe thead tr:last-of-type th {\n",
       "        text-align: right;\n",
       "    }\n",
       "</style>\n",
       "<table border=\"1\" class=\"dataframe\">\n",
       "  <thead>\n",
       "    <tr>\n",
       "      <th></th>\n",
       "      <th>Alpha</th>\n",
       "      <th>0.8</th>\n",
       "      <th>0.9</th>\n",
       "    </tr>\n",
       "    <tr>\n",
       "      <th></th>\n",
       "      <th></th>\n",
       "      <th>Power</th>\n",
       "      <th>Power</th>\n",
       "    </tr>\n",
       "    <tr>\n",
       "      <th>MDE</th>\n",
       "      <th></th>\n",
       "      <th></th>\n",
       "      <th></th>\n",
       "    </tr>\n",
       "  </thead>\n",
       "  <tbody>\n",
       "    <tr>\n",
       "      <th>0.01</th>\n",
       "      <td>0.01</td>\n",
       "      <td>50056</td>\n",
       "      <td>64924</td>\n",
       "    </tr>\n",
       "    <tr>\n",
       "      <th>0.01</th>\n",
       "      <td>0.05</td>\n",
       "      <td>30837</td>\n",
       "      <td>42714</td>\n",
       "    </tr>\n",
       "    <tr>\n",
       "      <th>0.01</th>\n",
       "      <td>0.10</td>\n",
       "      <td>22484</td>\n",
       "      <td>32767</td>\n",
       "    </tr>\n",
       "    <tr>\n",
       "      <th>0.05</th>\n",
       "      <td>0.01</td>\n",
       "      <td>2006</td>\n",
       "      <td>2601</td>\n",
       "    </tr>\n",
       "    <tr>\n",
       "      <th>0.05</th>\n",
       "      <td>0.05</td>\n",
       "      <td>1236</td>\n",
       "      <td>1712</td>\n",
       "    </tr>\n",
       "    <tr>\n",
       "      <th>0.05</th>\n",
       "      <td>0.10</td>\n",
       "      <td>901</td>\n",
       "      <td>1313</td>\n",
       "    </tr>\n",
       "    <tr>\n",
       "      <th>0.10</th>\n",
       "      <td>0.01</td>\n",
       "      <td>500</td>\n",
       "      <td>648</td>\n",
       "    </tr>\n",
       "    <tr>\n",
       "      <th>0.10</th>\n",
       "      <td>0.05</td>\n",
       "      <td>308</td>\n",
       "      <td>427</td>\n",
       "    </tr>\n",
       "    <tr>\n",
       "      <th>0.10</th>\n",
       "      <td>0.10</td>\n",
       "      <td>225</td>\n",
       "      <td>327</td>\n",
       "    </tr>\n",
       "  </tbody>\n",
       "</table>\n",
       "</div>"
      ],
      "text/plain": [
       "     Alpha    0.8    0.9\n",
       "            Power  Power\n",
       "MDE                     \n",
       "0.01  0.01  50056  64924\n",
       "0.01  0.05  30837  42714\n",
       "0.01  0.10  22484  32767\n",
       "0.05  0.01   2006   2601\n",
       "0.05  0.05   1236   1712\n",
       "0.05  0.10    901   1313\n",
       "0.10  0.01    500    648\n",
       "0.10  0.05    308    427\n",
       "0.10  0.10    225    327"
      ]
     },
     "execution_count": 57,
     "metadata": {},
     "output_type": "execute_result"
    }
   ],
   "source": [
    "power_table"
   ]
  },
  {
   "cell_type": "code",
   "execution_count": 58,
   "metadata": {},
   "outputs": [
    {
     "data": {
      "text/plain": [
       "0.5297252585129414"
      ]
     },
     "execution_count": 58,
     "metadata": {},
     "output_type": "execute_result"
    }
   ],
   "source": [
    "proportion"
   ]
  },
  {
   "cell_type": "code",
   "execution_count": 59,
   "metadata": {},
   "outputs": [
    {
     "data": {
      "text/plain": [
       "4.520135663348021"
      ]
     },
     "execution_count": 59,
     "metadata": {},
     "output_type": "execute_result"
    }
   ],
   "source": [
    "2*power_table.max().max()/accept_image_per_day_new_user"
   ]
  },
  {
   "cell_type": "markdown",
   "metadata": {},
   "source": [
    "### returning user"
   ]
  },
  {
   "cell_type": "markdown",
   "metadata": {},
   "source": [
    "#### Preparation"
   ]
  },
  {
   "cell_type": "code",
   "execution_count": 60,
   "metadata": {},
   "outputs": [],
   "source": [
    "df_sep = df[(df['event_timestamp']>='2021-08-30 00:00:00.000000')&(df['event_timestamp']<'2021-09-20 00:00:00.000000')]"
   ]
  },
  {
   "cell_type": "code",
   "execution_count": 61,
   "metadata": {},
   "outputs": [
    {
     "data": {
      "text/plain": [
       "diagnosis_accept_image               291535\n",
       "diagnosis_open_camera                288788\n",
       "diagnosis_take_image                 238284\n",
       "diagnosis_detect_pathogen            103020\n",
       "diagnosis_detect_crop                 81106\n",
       "diagnosis_detect_other_too_far        36281\n",
       "diagnosis_detect_other_blurry         28630\n",
       "diagnosis_detect_other_additional      9555\n",
       "diagnosis_detect_other_ornamental      6131\n",
       "diagnosis_detect_other_bad_image       4942\n",
       "diagnosis_detect_crop_group            3308\n",
       "Name: event_name, dtype: int64"
      ]
     },
     "execution_count": 61,
     "metadata": {},
     "output_type": "execute_result"
    }
   ],
   "source": [
    "returning_user_events = df_sep[df_sep['user_pseudo_id'].isin(returning_user_id[0])]['event_name'].value_counts()\n",
    "returning_user_events"
   ]
  },
  {
   "cell_type": "code",
   "execution_count": 62,
   "metadata": {},
   "outputs": [
    {
     "name": "stdout",
     "output_type": "stream",
     "text": [
      "2021-09-19 23:58:01.021004\n",
      "2021-08-30 00:00:03.920000\n",
      "20 days 23:57:57.101004\n"
     ]
    }
   ],
   "source": [
    "print(df_sep[df_sep['user_pseudo_id'].isin(returning_user_id[0])]['event_timestamp'].max())\n",
    "print(df_sep[df_sep['user_pseudo_id'].isin(returning_user_id[0])]['event_timestamp'].min())\n",
    "print(df_sep[df_sep['user_pseudo_id'].isin(returning_user_id[0])]['event_timestamp'].max()-df_sep[df_sep['user_pseudo_id'].isin(returning_user_id[0])]['event_timestamp'].min())"
   ]
  },
  {
   "cell_type": "code",
   "execution_count": 63,
   "metadata": {},
   "outputs": [
    {
     "data": {
      "text/plain": [
       "12147.291666666666"
      ]
     },
     "execution_count": 63,
     "metadata": {},
     "output_type": "execute_result"
    }
   ],
   "source": [
    "accept_image_per_day_returning_user = returning_user_events['diagnosis_accept_image']/24\n",
    "accept_image_per_day_returning_user"
   ]
  },
  {
   "cell_type": "markdown",
   "metadata": {},
   "source": [
    "#### bed events"
   ]
  },
  {
   "cell_type": "code",
   "execution_count": 64,
   "metadata": {},
   "outputs": [
    {
     "name": "stdout",
     "output_type": "stream",
     "text": [
      "     Alpha    0.8    0.9\n",
      "            Power  Power\n",
      "MDE                     \n",
      "0.01  0.01  34175  44326\n",
      "0.01  0.05  21053  29162\n",
      "0.01  0.10  15351  22371\n",
      "0.05  0.01   1269   1646\n",
      "0.05  0.05    782   1083\n",
      "0.05  0.10    570    831\n",
      "0.10  0.01    282    365\n",
      "0.10  0.05    174    240\n",
      "0.10  0.10    127    185\n"
     ]
    }
   ],
   "source": [
    "# use power calculation table function\n",
    "\n",
    "# select averge or proportion for the conversion\n",
    "conversion = 'proportion'\n",
    "# the function use 'solve_power' if the conversion is proportion\n",
    "proportion = (returning_user_events['diagnosis_detect_other_too_far']+returning_user_events['diagnosis_detect_other_blurry'])/returning_user_events['diagnosis_accept_image']\n",
    "# the function use 'solve_power' if the conversion is average\n",
    "average = 0\n",
    "std = 1\n",
    "alpha = [0.01,0.05,0.10]\n",
    "power = [0.8,0.9]\n",
    "mde = [0.01,0.05,0.10]\n",
    "# select smaller, larger or two-sided\n",
    "alternative = 'smaller'\n",
    "\n",
    "power_table = power_calculation_table(conversion,proportion,average,std,alpha,power,mde,alternative)"
   ]
  },
  {
   "cell_type": "code",
   "execution_count": 65,
   "metadata": {},
   "outputs": [
    {
     "data": {
      "text/html": [
       "<div>\n",
       "<style scoped>\n",
       "    .dataframe tbody tr th:only-of-type {\n",
       "        vertical-align: middle;\n",
       "    }\n",
       "\n",
       "    .dataframe tbody tr th {\n",
       "        vertical-align: top;\n",
       "    }\n",
       "\n",
       "    .dataframe thead tr th {\n",
       "        text-align: left;\n",
       "    }\n",
       "\n",
       "    .dataframe thead tr:last-of-type th {\n",
       "        text-align: right;\n",
       "    }\n",
       "</style>\n",
       "<table border=\"1\" class=\"dataframe\">\n",
       "  <thead>\n",
       "    <tr>\n",
       "      <th></th>\n",
       "      <th>Alpha</th>\n",
       "      <th>0.8</th>\n",
       "      <th>0.9</th>\n",
       "    </tr>\n",
       "    <tr>\n",
       "      <th></th>\n",
       "      <th></th>\n",
       "      <th>Power</th>\n",
       "      <th>Power</th>\n",
       "    </tr>\n",
       "    <tr>\n",
       "      <th>MDE</th>\n",
       "      <th></th>\n",
       "      <th></th>\n",
       "      <th></th>\n",
       "    </tr>\n",
       "  </thead>\n",
       "  <tbody>\n",
       "    <tr>\n",
       "      <th>0.01</th>\n",
       "      <td>0.01</td>\n",
       "      <td>34175</td>\n",
       "      <td>44326</td>\n",
       "    </tr>\n",
       "    <tr>\n",
       "      <th>0.01</th>\n",
       "      <td>0.05</td>\n",
       "      <td>21053</td>\n",
       "      <td>29162</td>\n",
       "    </tr>\n",
       "    <tr>\n",
       "      <th>0.01</th>\n",
       "      <td>0.10</td>\n",
       "      <td>15351</td>\n",
       "      <td>22371</td>\n",
       "    </tr>\n",
       "    <tr>\n",
       "      <th>0.05</th>\n",
       "      <td>0.01</td>\n",
       "      <td>1269</td>\n",
       "      <td>1646</td>\n",
       "    </tr>\n",
       "    <tr>\n",
       "      <th>0.05</th>\n",
       "      <td>0.05</td>\n",
       "      <td>782</td>\n",
       "      <td>1083</td>\n",
       "    </tr>\n",
       "    <tr>\n",
       "      <th>0.05</th>\n",
       "      <td>0.10</td>\n",
       "      <td>570</td>\n",
       "      <td>831</td>\n",
       "    </tr>\n",
       "    <tr>\n",
       "      <th>0.10</th>\n",
       "      <td>0.01</td>\n",
       "      <td>282</td>\n",
       "      <td>365</td>\n",
       "    </tr>\n",
       "    <tr>\n",
       "      <th>0.10</th>\n",
       "      <td>0.05</td>\n",
       "      <td>174</td>\n",
       "      <td>240</td>\n",
       "    </tr>\n",
       "    <tr>\n",
       "      <th>0.10</th>\n",
       "      <td>0.10</td>\n",
       "      <td>127</td>\n",
       "      <td>185</td>\n",
       "    </tr>\n",
       "  </tbody>\n",
       "</table>\n",
       "</div>"
      ],
      "text/plain": [
       "     Alpha    0.8    0.9\n",
       "            Power  Power\n",
       "MDE                     \n",
       "0.01  0.01  34175  44326\n",
       "0.01  0.05  21053  29162\n",
       "0.01  0.10  15351  22371\n",
       "0.05  0.01   1269   1646\n",
       "0.05  0.05    782   1083\n",
       "0.05  0.10    570    831\n",
       "0.10  0.01    282    365\n",
       "0.10  0.05    174    240\n",
       "0.10  0.10    127    185"
      ]
     },
     "execution_count": 65,
     "metadata": {},
     "output_type": "execute_result"
    }
   ],
   "source": [
    "power_table"
   ]
  },
  {
   "cell_type": "code",
   "execution_count": 66,
   "metadata": {},
   "outputs": [
    {
     "data": {
      "text/plain": [
       "0.2226525117052841"
      ]
     },
     "execution_count": 66,
     "metadata": {},
     "output_type": "execute_result"
    }
   ],
   "source": [
    "proportion"
   ]
  },
  {
   "cell_type": "code",
   "execution_count": 67,
   "metadata": {},
   "outputs": [
    {
     "data": {
      "text/plain": [
       "7.298087708165401"
      ]
     },
     "execution_count": 67,
     "metadata": {},
     "output_type": "execute_result"
    }
   ],
   "source": [
    "2*power_table.max().max()/accept_image_per_day_returning_user"
   ]
  },
  {
   "cell_type": "markdown",
   "metadata": {},
   "source": [
    "#### good events"
   ]
  },
  {
   "cell_type": "code",
   "execution_count": 68,
   "metadata": {},
   "outputs": [
    {
     "name": "stdout",
     "output_type": "stream",
     "text": [
      "     Alpha    0.8    0.9\n",
      "            Power  Power\n",
      "MDE                     \n",
      "0.01  0.01  46360  60130\n",
      "0.01  0.05  28560  39560\n",
      "0.01  0.10  20824  30347\n",
      "0.05  0.01   1894   2457\n",
      "0.05  0.05   1167   1616\n",
      "0.05  0.10    851   1240\n",
      "0.10  0.01    483    626\n",
      "0.10  0.05    298    412\n",
      "0.10  0.10    217    316\n"
     ]
    }
   ],
   "source": [
    "# use power calculation table function\n",
    "\n",
    "# select averge or proportion for the conversion\n",
    "conversion = 'proportion'\n",
    "# the function use 'solve_power' if the conversion is proportion\n",
    "proportion = (returning_user_events['diagnosis_detect_crop']+returning_user_events['diagnosis_detect_crop_group']+returning_user_events['diagnosis_detect_pathogen'])/returning_user_events['diagnosis_accept_image']\n",
    "# the function use 'solve_power' if the conversion is average\n",
    "average = 0\n",
    "std = 1\n",
    "alpha = [0.01,0.05,0.10]\n",
    "power = [0.8,0.9]\n",
    "mde = [0.01,0.05,0.10]\n",
    "# select smaller, larger or two-sided\n",
    "alternative = 'larger'\n",
    "\n",
    "power_table = power_calculation_table(conversion,proportion,average,std,alpha,power,mde,alternative)"
   ]
  },
  {
   "cell_type": "code",
   "execution_count": 69,
   "metadata": {},
   "outputs": [
    {
     "data": {
      "text/html": [
       "<div>\n",
       "<style scoped>\n",
       "    .dataframe tbody tr th:only-of-type {\n",
       "        vertical-align: middle;\n",
       "    }\n",
       "\n",
       "    .dataframe tbody tr th {\n",
       "        vertical-align: top;\n",
       "    }\n",
       "\n",
       "    .dataframe thead tr th {\n",
       "        text-align: left;\n",
       "    }\n",
       "\n",
       "    .dataframe thead tr:last-of-type th {\n",
       "        text-align: right;\n",
       "    }\n",
       "</style>\n",
       "<table border=\"1\" class=\"dataframe\">\n",
       "  <thead>\n",
       "    <tr>\n",
       "      <th></th>\n",
       "      <th>Alpha</th>\n",
       "      <th>0.8</th>\n",
       "      <th>0.9</th>\n",
       "    </tr>\n",
       "    <tr>\n",
       "      <th></th>\n",
       "      <th></th>\n",
       "      <th>Power</th>\n",
       "      <th>Power</th>\n",
       "    </tr>\n",
       "    <tr>\n",
       "      <th>MDE</th>\n",
       "      <th></th>\n",
       "      <th></th>\n",
       "      <th></th>\n",
       "    </tr>\n",
       "  </thead>\n",
       "  <tbody>\n",
       "    <tr>\n",
       "      <th>0.01</th>\n",
       "      <td>0.01</td>\n",
       "      <td>46360</td>\n",
       "      <td>60130</td>\n",
       "    </tr>\n",
       "    <tr>\n",
       "      <th>0.01</th>\n",
       "      <td>0.05</td>\n",
       "      <td>28560</td>\n",
       "      <td>39560</td>\n",
       "    </tr>\n",
       "    <tr>\n",
       "      <th>0.01</th>\n",
       "      <td>0.10</td>\n",
       "      <td>20824</td>\n",
       "      <td>30347</td>\n",
       "    </tr>\n",
       "    <tr>\n",
       "      <th>0.05</th>\n",
       "      <td>0.01</td>\n",
       "      <td>1894</td>\n",
       "      <td>2457</td>\n",
       "    </tr>\n",
       "    <tr>\n",
       "      <th>0.05</th>\n",
       "      <td>0.05</td>\n",
       "      <td>1167</td>\n",
       "      <td>1616</td>\n",
       "    </tr>\n",
       "    <tr>\n",
       "      <th>0.05</th>\n",
       "      <td>0.10</td>\n",
       "      <td>851</td>\n",
       "      <td>1240</td>\n",
       "    </tr>\n",
       "    <tr>\n",
       "      <th>0.10</th>\n",
       "      <td>0.01</td>\n",
       "      <td>483</td>\n",
       "      <td>626</td>\n",
       "    </tr>\n",
       "    <tr>\n",
       "      <th>0.10</th>\n",
       "      <td>0.05</td>\n",
       "      <td>298</td>\n",
       "      <td>412</td>\n",
       "    </tr>\n",
       "    <tr>\n",
       "      <th>0.10</th>\n",
       "      <td>0.10</td>\n",
       "      <td>217</td>\n",
       "      <td>316</td>\n",
       "    </tr>\n",
       "  </tbody>\n",
       "</table>\n",
       "</div>"
      ],
      "text/plain": [
       "     Alpha    0.8    0.9\n",
       "            Power  Power\n",
       "MDE                     \n",
       "0.01  0.01  46360  60130\n",
       "0.01  0.05  28560  39560\n",
       "0.01  0.10  20824  30347\n",
       "0.05  0.01   1894   2457\n",
       "0.05  0.05   1167   1616\n",
       "0.05  0.10    851   1240\n",
       "0.10  0.01    483    626\n",
       "0.10  0.05    298    412\n",
       "0.10  0.10    217    316"
      ]
     },
     "execution_count": 69,
     "metadata": {},
     "output_type": "execute_result"
    }
   ],
   "source": [
    "power_table"
   ]
  },
  {
   "cell_type": "code",
   "execution_count": 70,
   "metadata": {},
   "outputs": [
    {
     "data": {
      "text/plain": [
       "0.6429210900920987"
      ]
     },
     "execution_count": 70,
     "metadata": {},
     "output_type": "execute_result"
    }
   ],
   "source": [
    "proportion"
   ]
  },
  {
   "cell_type": "code",
   "execution_count": 71,
   "metadata": {},
   "outputs": [
    {
     "data": {
      "text/plain": [
       "9.900149210214897"
      ]
     },
     "execution_count": 71,
     "metadata": {},
     "output_type": "execute_result"
    }
   ],
   "source": [
    "2*power_table.max().max()/accept_image_per_day_returning_user"
   ]
  },
  {
   "cell_type": "markdown",
   "metadata": {},
   "source": [
    "# After runing 1 / 2 AB test"
   ]
  },
  {
   "cell_type": "markdown",
   "metadata": {},
   "source": [
    "## Load Data"
   ]
  },
  {
   "cell_type": "code",
   "execution_count": 72,
   "metadata": {},
   "outputs": [],
   "source": [
    "# load data\n",
    "db = pd.DataFrame(pd.read_csv\n",
    "(r\"C:\\00 HDD 00\\HTW Berlin\\2021 Winter\\3.1 Project Management and Data Analytics Lab\\Data\\camera_ml_v4_camera_ml_v4_events_after.csv\",\n",
    "dtype={'event_timestamp':str,'user_first_touch_timestamp':str}))\n",
    "assignment = pd.DataFrame(pd.read_csv\n",
    "(r\"C:\\00 HDD 00\\HTW Berlin\\2021 Winter\\3.1 Project Management and Data Analytics Lab\\Data\\camera_ml_v4_camera_ml_v4_test_assignment.csv\",\n",
    "dtype={'event_timestamp':str}))"
   ]
  },
  {
   "cell_type": "code",
   "execution_count": 73,
   "metadata": {},
   "outputs": [
    {
     "data": {
      "text/html": [
       "<div>\n",
       "<style scoped>\n",
       "    .dataframe tbody tr th:only-of-type {\n",
       "        vertical-align: middle;\n",
       "    }\n",
       "\n",
       "    .dataframe tbody tr th {\n",
       "        vertical-align: top;\n",
       "    }\n",
       "\n",
       "    .dataframe thead th {\n",
       "        text-align: right;\n",
       "    }\n",
       "</style>\n",
       "<table border=\"1\" class=\"dataframe\">\n",
       "  <thead>\n",
       "    <tr style=\"text-align: right;\">\n",
       "      <th></th>\n",
       "      <th>user_pseudo_id</th>\n",
       "      <th>event_name</th>\n",
       "      <th>event_timestamp</th>\n",
       "      <th>user_first_touch_timestamp</th>\n",
       "      <th>operating_system_version</th>\n",
       "      <th>mobile_brand_name</th>\n",
       "      <th>mobile_model_name</th>\n",
       "      <th>LANGUAGE</th>\n",
       "      <th>country</th>\n",
       "      <th>region</th>\n",
       "    </tr>\n",
       "  </thead>\n",
       "  <tbody>\n",
       "    <tr>\n",
       "      <th>0</th>\n",
       "      <td>c9b35468ce1e104f28d2cf93bedfcd92</td>\n",
       "      <td>diagnosis_open_camera</td>\n",
       "      <td>1636122548631001</td>\n",
       "      <td>1634258032407000</td>\n",
       "      <td>Android 5.1.1</td>\n",
       "      <td>OPPO</td>\n",
       "      <td>A37f</td>\n",
       "      <td>en-us</td>\n",
       "      <td>India</td>\n",
       "      <td>Haryana</td>\n",
       "    </tr>\n",
       "    <tr>\n",
       "      <th>1</th>\n",
       "      <td>9483fd2102dd908aa0b11542bd4f2e37</td>\n",
       "      <td>diagnosis_open_camera</td>\n",
       "      <td>1636154364069001</td>\n",
       "      <td>1631953891779000</td>\n",
       "      <td>Android 10</td>\n",
       "      <td>Vivo</td>\n",
       "      <td>V2029</td>\n",
       "      <td>en-us</td>\n",
       "      <td>India</td>\n",
       "      <td>Andhra Pradesh</td>\n",
       "    </tr>\n",
       "    <tr>\n",
       "      <th>2</th>\n",
       "      <td>19040679d034684fa53e2df46d569980</td>\n",
       "      <td>diagnosis_open_camera</td>\n",
       "      <td>1636116454580000</td>\n",
       "      <td>1631152442558000</td>\n",
       "      <td>Android 8.1.0</td>\n",
       "      <td>Samsung</td>\n",
       "      <td>SM-A260G</td>\n",
       "      <td>en-au</td>\n",
       "      <td>India</td>\n",
       "      <td>Telangana</td>\n",
       "    </tr>\n",
       "    <tr>\n",
       "      <th>3</th>\n",
       "      <td>8ddf80262676e60b3154741f49cf5379</td>\n",
       "      <td>diagnosis_detect_other_blurry</td>\n",
       "      <td>1636127887438000</td>\n",
       "      <td>1633963271595000</td>\n",
       "      <td>Android 8.1.0</td>\n",
       "      <td>LG</td>\n",
       "      <td>LM-Q710.FGN</td>\n",
       "      <td>en-gb</td>\n",
       "      <td>India</td>\n",
       "      <td>Andhra Pradesh</td>\n",
       "    </tr>\n",
       "    <tr>\n",
       "      <th>4</th>\n",
       "      <td>7a69a8c7b15dcbfee177d305b6637e83</td>\n",
       "      <td>diagnosis_open_camera</td>\n",
       "      <td>1636123580950001</td>\n",
       "      <td>1622559101506000</td>\n",
       "      <td>Android 7.1.1</td>\n",
       "      <td>OPPO</td>\n",
       "      <td>CPH1801</td>\n",
       "      <td>en-au</td>\n",
       "      <td>India</td>\n",
       "      <td>Rajasthan</td>\n",
       "    </tr>\n",
       "  </tbody>\n",
       "</table>\n",
       "</div>"
      ],
      "text/plain": [
       "                     user_pseudo_id                     event_name  \\\n",
       "0  c9b35468ce1e104f28d2cf93bedfcd92          diagnosis_open_camera   \n",
       "1  9483fd2102dd908aa0b11542bd4f2e37          diagnosis_open_camera   \n",
       "2  19040679d034684fa53e2df46d569980          diagnosis_open_camera   \n",
       "3  8ddf80262676e60b3154741f49cf5379  diagnosis_detect_other_blurry   \n",
       "4  7a69a8c7b15dcbfee177d305b6637e83          diagnosis_open_camera   \n",
       "\n",
       "    event_timestamp user_first_touch_timestamp operating_system_version  \\\n",
       "0  1636122548631001           1634258032407000            Android 5.1.1   \n",
       "1  1636154364069001           1631953891779000               Android 10   \n",
       "2  1636116454580000           1631152442558000            Android 8.1.0   \n",
       "3  1636127887438000           1633963271595000            Android 8.1.0   \n",
       "4  1636123580950001           1622559101506000            Android 7.1.1   \n",
       "\n",
       "  mobile_brand_name mobile_model_name LANGUAGE country          region  \n",
       "0              OPPO              A37f    en-us   India         Haryana  \n",
       "1              Vivo             V2029    en-us   India  Andhra Pradesh  \n",
       "2           Samsung          SM-A260G    en-au   India       Telangana  \n",
       "3                LG       LM-Q710.FGN    en-gb   India  Andhra Pradesh  \n",
       "4              OPPO           CPH1801    en-au   India       Rajasthan  "
      ]
     },
     "execution_count": 73,
     "metadata": {},
     "output_type": "execute_result"
    }
   ],
   "source": [
    "db.head()"
   ]
  },
  {
   "cell_type": "code",
   "execution_count": 74,
   "metadata": {},
   "outputs": [
    {
     "data": {
      "text/html": [
       "<div>\n",
       "<style scoped>\n",
       "    .dataframe tbody tr th:only-of-type {\n",
       "        vertical-align: middle;\n",
       "    }\n",
       "\n",
       "    .dataframe tbody tr th {\n",
       "        vertical-align: top;\n",
       "    }\n",
       "\n",
       "    .dataframe thead th {\n",
       "        text-align: right;\n",
       "    }\n",
       "</style>\n",
       "<table border=\"1\" class=\"dataframe\">\n",
       "  <thead>\n",
       "    <tr style=\"text-align: right;\">\n",
       "      <th></th>\n",
       "      <th>user_pseudo_id</th>\n",
       "      <th>event_timestamp</th>\n",
       "      <th>app_version</th>\n",
       "      <th>key</th>\n",
       "      <th>string_value</th>\n",
       "    </tr>\n",
       "  </thead>\n",
       "  <tbody>\n",
       "    <tr>\n",
       "      <th>0</th>\n",
       "      <td>0003aafc786ac5b113fedf743092af14</td>\n",
       "      <td>1632807119580003</td>\n",
       "      <td>3.6.2</td>\n",
       "      <td>camera_quality_analysis_v4</td>\n",
       "      <td>variant_a</td>\n",
       "    </tr>\n",
       "    <tr>\n",
       "      <th>1</th>\n",
       "      <td>0011803f34e3e2e2fc2edf60851417df</td>\n",
       "      <td>1633830483978002</td>\n",
       "      <td>3.6.2</td>\n",
       "      <td>camera_quality_analysis_new_user_v4</td>\n",
       "      <td>control_group</td>\n",
       "    </tr>\n",
       "    <tr>\n",
       "      <th>2</th>\n",
       "      <td>002bc7c683f91231b6d19d514336efc9</td>\n",
       "      <td>1632584747791002</td>\n",
       "      <td>3.6.2</td>\n",
       "      <td>camera_quality_analysis_new_user_v4</td>\n",
       "      <td>control_group</td>\n",
       "    </tr>\n",
       "    <tr>\n",
       "      <th>3</th>\n",
       "      <td>004dbccabe782edbe7c2dd4f9d971a3b</td>\n",
       "      <td>1633933712724002</td>\n",
       "      <td>3.6.2</td>\n",
       "      <td>camera_quality_analysis_new_user_v4</td>\n",
       "      <td>variant_a</td>\n",
       "    </tr>\n",
       "    <tr>\n",
       "      <th>4</th>\n",
       "      <td>004fd885ba9bd30016d8e77bbbef4f1c</td>\n",
       "      <td>1634471639000006</td>\n",
       "      <td>3.6.2</td>\n",
       "      <td>camera_quality_analysis_v4</td>\n",
       "      <td>variant_a</td>\n",
       "    </tr>\n",
       "  </tbody>\n",
       "</table>\n",
       "</div>"
      ],
      "text/plain": [
       "                     user_pseudo_id   event_timestamp app_version  \\\n",
       "0  0003aafc786ac5b113fedf743092af14  1632807119580003       3.6.2   \n",
       "1  0011803f34e3e2e2fc2edf60851417df  1633830483978002       3.6.2   \n",
       "2  002bc7c683f91231b6d19d514336efc9  1632584747791002       3.6.2   \n",
       "3  004dbccabe782edbe7c2dd4f9d971a3b  1633933712724002       3.6.2   \n",
       "4  004fd885ba9bd30016d8e77bbbef4f1c  1634471639000006       3.6.2   \n",
       "\n",
       "                                   key   string_value  \n",
       "0           camera_quality_analysis_v4      variant_a  \n",
       "1  camera_quality_analysis_new_user_v4  control_group  \n",
       "2  camera_quality_analysis_new_user_v4  control_group  \n",
       "3  camera_quality_analysis_new_user_v4      variant_a  \n",
       "4           camera_quality_analysis_v4      variant_a  "
      ]
     },
     "execution_count": 74,
     "metadata": {},
     "output_type": "execute_result"
    }
   ],
   "source": [
    "assignment.head()"
   ]
  },
  {
   "cell_type": "code",
   "execution_count": 75,
   "metadata": {},
   "outputs": [],
   "source": [
    "# change variable type to datetime\n",
    "db['user_first_touch_timestamp']= pd.to_datetime(db['user_first_touch_timestamp'],unit='us')"
   ]
  },
  {
   "cell_type": "code",
   "execution_count": 76,
   "metadata": {},
   "outputs": [],
   "source": [
    "# change variable type to datetime\n",
    "db['event_timestamp']= pd.to_datetime(db['event_timestamp'],unit='us')"
   ]
  },
  {
   "cell_type": "code",
   "execution_count": 77,
   "metadata": {},
   "outputs": [
    {
     "data": {
      "text/html": [
       "<div>\n",
       "<style scoped>\n",
       "    .dataframe tbody tr th:only-of-type {\n",
       "        vertical-align: middle;\n",
       "    }\n",
       "\n",
       "    .dataframe tbody tr th {\n",
       "        vertical-align: top;\n",
       "    }\n",
       "\n",
       "    .dataframe thead th {\n",
       "        text-align: right;\n",
       "    }\n",
       "</style>\n",
       "<table border=\"1\" class=\"dataframe\">\n",
       "  <thead>\n",
       "    <tr style=\"text-align: right;\">\n",
       "      <th></th>\n",
       "      <th>user_pseudo_id</th>\n",
       "      <th>event_name</th>\n",
       "      <th>event_timestamp</th>\n",
       "      <th>user_first_touch_timestamp</th>\n",
       "      <th>operating_system_version</th>\n",
       "      <th>mobile_brand_name</th>\n",
       "      <th>mobile_model_name</th>\n",
       "      <th>LANGUAGE</th>\n",
       "      <th>country</th>\n",
       "      <th>region</th>\n",
       "    </tr>\n",
       "  </thead>\n",
       "  <tbody>\n",
       "    <tr>\n",
       "      <th>0</th>\n",
       "      <td>c9b35468ce1e104f28d2cf93bedfcd92</td>\n",
       "      <td>diagnosis_open_camera</td>\n",
       "      <td>2021-11-05 14:29:08.631001</td>\n",
       "      <td>2021-10-15 00:33:52.407</td>\n",
       "      <td>Android 5.1.1</td>\n",
       "      <td>OPPO</td>\n",
       "      <td>A37f</td>\n",
       "      <td>en-us</td>\n",
       "      <td>India</td>\n",
       "      <td>Haryana</td>\n",
       "    </tr>\n",
       "    <tr>\n",
       "      <th>1</th>\n",
       "      <td>9483fd2102dd908aa0b11542bd4f2e37</td>\n",
       "      <td>diagnosis_open_camera</td>\n",
       "      <td>2021-11-05 23:19:24.069001</td>\n",
       "      <td>2021-09-18 08:31:31.779</td>\n",
       "      <td>Android 10</td>\n",
       "      <td>Vivo</td>\n",
       "      <td>V2029</td>\n",
       "      <td>en-us</td>\n",
       "      <td>India</td>\n",
       "      <td>Andhra Pradesh</td>\n",
       "    </tr>\n",
       "    <tr>\n",
       "      <th>2</th>\n",
       "      <td>19040679d034684fa53e2df46d569980</td>\n",
       "      <td>diagnosis_open_camera</td>\n",
       "      <td>2021-11-05 12:47:34.580000</td>\n",
       "      <td>2021-09-09 01:54:02.558</td>\n",
       "      <td>Android 8.1.0</td>\n",
       "      <td>Samsung</td>\n",
       "      <td>SM-A260G</td>\n",
       "      <td>en-au</td>\n",
       "      <td>India</td>\n",
       "      <td>Telangana</td>\n",
       "    </tr>\n",
       "    <tr>\n",
       "      <th>3</th>\n",
       "      <td>8ddf80262676e60b3154741f49cf5379</td>\n",
       "      <td>diagnosis_detect_other_blurry</td>\n",
       "      <td>2021-11-05 15:58:07.438000</td>\n",
       "      <td>2021-10-11 14:41:11.595</td>\n",
       "      <td>Android 8.1.0</td>\n",
       "      <td>LG</td>\n",
       "      <td>LM-Q710.FGN</td>\n",
       "      <td>en-gb</td>\n",
       "      <td>India</td>\n",
       "      <td>Andhra Pradesh</td>\n",
       "    </tr>\n",
       "    <tr>\n",
       "      <th>4</th>\n",
       "      <td>7a69a8c7b15dcbfee177d305b6637e83</td>\n",
       "      <td>diagnosis_open_camera</td>\n",
       "      <td>2021-11-05 14:46:20.950001</td>\n",
       "      <td>2021-06-01 14:51:41.506</td>\n",
       "      <td>Android 7.1.1</td>\n",
       "      <td>OPPO</td>\n",
       "      <td>CPH1801</td>\n",
       "      <td>en-au</td>\n",
       "      <td>India</td>\n",
       "      <td>Rajasthan</td>\n",
       "    </tr>\n",
       "  </tbody>\n",
       "</table>\n",
       "</div>"
      ],
      "text/plain": [
       "                     user_pseudo_id                     event_name  \\\n",
       "0  c9b35468ce1e104f28d2cf93bedfcd92          diagnosis_open_camera   \n",
       "1  9483fd2102dd908aa0b11542bd4f2e37          diagnosis_open_camera   \n",
       "2  19040679d034684fa53e2df46d569980          diagnosis_open_camera   \n",
       "3  8ddf80262676e60b3154741f49cf5379  diagnosis_detect_other_blurry   \n",
       "4  7a69a8c7b15dcbfee177d305b6637e83          diagnosis_open_camera   \n",
       "\n",
       "             event_timestamp user_first_touch_timestamp  \\\n",
       "0 2021-11-05 14:29:08.631001    2021-10-15 00:33:52.407   \n",
       "1 2021-11-05 23:19:24.069001    2021-09-18 08:31:31.779   \n",
       "2 2021-11-05 12:47:34.580000    2021-09-09 01:54:02.558   \n",
       "3 2021-11-05 15:58:07.438000    2021-10-11 14:41:11.595   \n",
       "4 2021-11-05 14:46:20.950001    2021-06-01 14:51:41.506   \n",
       "\n",
       "  operating_system_version mobile_brand_name mobile_model_name LANGUAGE  \\\n",
       "0            Android 5.1.1              OPPO              A37f    en-us   \n",
       "1               Android 10              Vivo             V2029    en-us   \n",
       "2            Android 8.1.0           Samsung          SM-A260G    en-au   \n",
       "3            Android 8.1.0                LG       LM-Q710.FGN    en-gb   \n",
       "4            Android 7.1.1              OPPO           CPH1801    en-au   \n",
       "\n",
       "  country          region  \n",
       "0   India         Haryana  \n",
       "1   India  Andhra Pradesh  \n",
       "2   India       Telangana  \n",
       "3   India  Andhra Pradesh  \n",
       "4   India       Rajasthan  "
      ]
     },
     "execution_count": 77,
     "metadata": {},
     "output_type": "execute_result"
    }
   ],
   "source": [
    "db.head()"
   ]
  },
  {
   "cell_type": "code",
   "execution_count": 78,
   "metadata": {},
   "outputs": [],
   "source": [
    "# change variable type to datetime\n",
    "assignment['event_timestamp']= pd.to_datetime(assignment['event_timestamp'],unit='us')"
   ]
  },
  {
   "cell_type": "code",
   "execution_count": 79,
   "metadata": {},
   "outputs": [
    {
     "data": {
      "text/html": [
       "<div>\n",
       "<style scoped>\n",
       "    .dataframe tbody tr th:only-of-type {\n",
       "        vertical-align: middle;\n",
       "    }\n",
       "\n",
       "    .dataframe tbody tr th {\n",
       "        vertical-align: top;\n",
       "    }\n",
       "\n",
       "    .dataframe thead th {\n",
       "        text-align: right;\n",
       "    }\n",
       "</style>\n",
       "<table border=\"1\" class=\"dataframe\">\n",
       "  <thead>\n",
       "    <tr style=\"text-align: right;\">\n",
       "      <th></th>\n",
       "      <th>user_pseudo_id</th>\n",
       "      <th>event_timestamp</th>\n",
       "      <th>app_version</th>\n",
       "      <th>key</th>\n",
       "      <th>string_value</th>\n",
       "    </tr>\n",
       "  </thead>\n",
       "  <tbody>\n",
       "    <tr>\n",
       "      <th>0</th>\n",
       "      <td>0003aafc786ac5b113fedf743092af14</td>\n",
       "      <td>2021-09-28 05:31:59.580003</td>\n",
       "      <td>3.6.2</td>\n",
       "      <td>camera_quality_analysis_v4</td>\n",
       "      <td>variant_a</td>\n",
       "    </tr>\n",
       "    <tr>\n",
       "      <th>1</th>\n",
       "      <td>0011803f34e3e2e2fc2edf60851417df</td>\n",
       "      <td>2021-10-10 01:48:03.978002</td>\n",
       "      <td>3.6.2</td>\n",
       "      <td>camera_quality_analysis_new_user_v4</td>\n",
       "      <td>control_group</td>\n",
       "    </tr>\n",
       "    <tr>\n",
       "      <th>2</th>\n",
       "      <td>002bc7c683f91231b6d19d514336efc9</td>\n",
       "      <td>2021-09-25 15:45:47.791002</td>\n",
       "      <td>3.6.2</td>\n",
       "      <td>camera_quality_analysis_new_user_v4</td>\n",
       "      <td>control_group</td>\n",
       "    </tr>\n",
       "    <tr>\n",
       "      <th>3</th>\n",
       "      <td>004dbccabe782edbe7c2dd4f9d971a3b</td>\n",
       "      <td>2021-10-11 06:28:32.724002</td>\n",
       "      <td>3.6.2</td>\n",
       "      <td>camera_quality_analysis_new_user_v4</td>\n",
       "      <td>variant_a</td>\n",
       "    </tr>\n",
       "    <tr>\n",
       "      <th>4</th>\n",
       "      <td>004fd885ba9bd30016d8e77bbbef4f1c</td>\n",
       "      <td>2021-10-17 11:53:59.000006</td>\n",
       "      <td>3.6.2</td>\n",
       "      <td>camera_quality_analysis_v4</td>\n",
       "      <td>variant_a</td>\n",
       "    </tr>\n",
       "  </tbody>\n",
       "</table>\n",
       "</div>"
      ],
      "text/plain": [
       "                     user_pseudo_id            event_timestamp app_version  \\\n",
       "0  0003aafc786ac5b113fedf743092af14 2021-09-28 05:31:59.580003       3.6.2   \n",
       "1  0011803f34e3e2e2fc2edf60851417df 2021-10-10 01:48:03.978002       3.6.2   \n",
       "2  002bc7c683f91231b6d19d514336efc9 2021-09-25 15:45:47.791002       3.6.2   \n",
       "3  004dbccabe782edbe7c2dd4f9d971a3b 2021-10-11 06:28:32.724002       3.6.2   \n",
       "4  004fd885ba9bd30016d8e77bbbef4f1c 2021-10-17 11:53:59.000006       3.6.2   \n",
       "\n",
       "                                   key   string_value  \n",
       "0           camera_quality_analysis_v4      variant_a  \n",
       "1  camera_quality_analysis_new_user_v4  control_group  \n",
       "2  camera_quality_analysis_new_user_v4  control_group  \n",
       "3  camera_quality_analysis_new_user_v4      variant_a  \n",
       "4           camera_quality_analysis_v4      variant_a  "
      ]
     },
     "execution_count": 79,
     "metadata": {},
     "output_type": "execute_result"
    }
   ],
   "source": [
    "assignment.head()"
   ]
  },
  {
   "cell_type": "markdown",
   "metadata": {},
   "source": [
    "## Data understaning"
   ]
  },
  {
   "cell_type": "code",
   "execution_count": 80,
   "metadata": {},
   "outputs": [
    {
     "name": "stdout",
     "output_type": "stream",
     "text": [
      "(3913752, 10)\n",
      "(322406, 5)\n"
     ]
    }
   ],
   "source": [
    "# no. of rows and cols\n",
    "print(db.shape)\n",
    "print(assignment.shape)"
   ]
  },
  {
   "cell_type": "code",
   "execution_count": 81,
   "metadata": {},
   "outputs": [
    {
     "data": {
      "text/plain": [
       "0"
      ]
     },
     "execution_count": 81,
     "metadata": {},
     "output_type": "execute_result"
    }
   ],
   "source": [
    "assignment.duplicated(subset=['user_pseudo_id']).sum()"
   ]
  },
  {
   "cell_type": "code",
   "execution_count": 82,
   "metadata": {},
   "outputs": [
    {
     "data": {
      "text/plain": [
       "user_pseudo_id                        object\n",
       "event_name                            object\n",
       "event_timestamp               datetime64[ns]\n",
       "user_first_touch_timestamp    datetime64[ns]\n",
       "operating_system_version              object\n",
       "mobile_brand_name                     object\n",
       "mobile_model_name                     object\n",
       "LANGUAGE                              object\n",
       "country                               object\n",
       "region                                object\n",
       "dtype: object"
      ]
     },
     "execution_count": 82,
     "metadata": {},
     "output_type": "execute_result"
    }
   ],
   "source": [
    "# getting data type\n",
    "db.dtypes"
   ]
  },
  {
   "cell_type": "code",
   "execution_count": 83,
   "metadata": {},
   "outputs": [
    {
     "data": {
      "text/plain": [
       "user_pseudo_id             object\n",
       "event_timestamp    datetime64[ns]\n",
       "app_version                object\n",
       "key                        object\n",
       "string_value               object\n",
       "dtype: object"
      ]
     },
     "execution_count": 83,
     "metadata": {},
     "output_type": "execute_result"
    }
   ],
   "source": [
    "# getting data type\n",
    "assignment.dtypes"
   ]
  },
  {
   "cell_type": "code",
   "execution_count": 84,
   "metadata": {},
   "outputs": [
    {
     "data": {
      "text/plain": [
       "user_pseudo_id                    0\n",
       "event_name                        0\n",
       "event_timestamp                   0\n",
       "user_first_touch_timestamp        2\n",
       "operating_system_version          0\n",
       "mobile_brand_name             41930\n",
       "mobile_model_name             41930\n",
       "LANGUAGE                          0\n",
       "country                          13\n",
       "region                        81990\n",
       "dtype: int64"
      ]
     },
     "execution_count": 84,
     "metadata": {},
     "output_type": "execute_result"
    }
   ],
   "source": [
    "# number of missing values\n",
    "db.isnull().sum()"
   ]
  },
  {
   "cell_type": "code",
   "execution_count": 85,
   "metadata": {},
   "outputs": [
    {
     "data": {
      "text/plain": [
       "user_pseudo_id     0\n",
       "event_timestamp    0\n",
       "app_version        0\n",
       "key                0\n",
       "string_value       0\n",
       "dtype: int64"
      ]
     },
     "execution_count": 85,
     "metadata": {},
     "output_type": "execute_result"
    }
   ],
   "source": [
    "# number of missing values\n",
    "assignment.isnull().sum()"
   ]
  },
  {
   "cell_type": "code",
   "execution_count": 86,
   "metadata": {},
   "outputs": [
    {
     "data": {
      "text/plain": [
       "event_name                       \n",
       "diagnosis_open_camera                1099021\n",
       "diagnosis_accept_image                983219\n",
       "diagnosis_take_image                  902860\n",
       "diagnosis_detect_pathogen             316225\n",
       "diagnosis_detect_crop                 252406\n",
       "diagnosis_detect_other_too_far        120960\n",
       "diagnosis_detect_other_blurry          91288\n",
       "diagnosis_detect_other_additional      59748\n",
       "diagnosis_detect_other_ornamental      48768\n",
       "diagnosis_detect_other_bad_image       24741\n",
       "diagnosis_detect_crop_group            14516\n",
       "dtype: int64"
      ]
     },
     "execution_count": 86,
     "metadata": {},
     "output_type": "execute_result"
    }
   ],
   "source": [
    "# Check the number of values\n",
    "db[['event_name']].value_counts()"
   ]
  },
  {
   "cell_type": "code",
   "execution_count": 87,
   "metadata": {},
   "outputs": [
    {
     "data": {
      "text/plain": [
       "key                                  string_value \n",
       "camera_quality_analysis_new_user_v4  variant_a        124550\n",
       "                                     control_group    124440\n",
       "camera_quality_analysis_v4           variant_a         36750\n",
       "                                     control_group     36666\n",
       "dtype: int64"
      ]
     },
     "execution_count": 87,
     "metadata": {},
     "output_type": "execute_result"
    }
   ],
   "source": [
    "# Check the number of values\n",
    "assignment[['key','string_value']].value_counts()"
   ]
  },
  {
   "cell_type": "markdown",
   "metadata": {},
   "source": [
    "## Data preparation"
   ]
  },
  {
   "cell_type": "code",
   "execution_count": 88,
   "metadata": {},
   "outputs": [],
   "source": [
    "joined_db = db.join(assignment.set_index(['user_pseudo_id']),on=['user_pseudo_id'], lsuffix='_db', rsuffix='_assignment')"
   ]
  },
  {
   "cell_type": "code",
   "execution_count": 89,
   "metadata": {},
   "outputs": [
    {
     "data": {
      "text/html": [
       "<div>\n",
       "<style scoped>\n",
       "    .dataframe tbody tr th:only-of-type {\n",
       "        vertical-align: middle;\n",
       "    }\n",
       "\n",
       "    .dataframe tbody tr th {\n",
       "        vertical-align: top;\n",
       "    }\n",
       "\n",
       "    .dataframe thead th {\n",
       "        text-align: right;\n",
       "    }\n",
       "</style>\n",
       "<table border=\"1\" class=\"dataframe\">\n",
       "  <thead>\n",
       "    <tr style=\"text-align: right;\">\n",
       "      <th></th>\n",
       "      <th>user_pseudo_id</th>\n",
       "      <th>event_name</th>\n",
       "      <th>event_timestamp_db</th>\n",
       "      <th>user_first_touch_timestamp</th>\n",
       "      <th>operating_system_version</th>\n",
       "      <th>mobile_brand_name</th>\n",
       "      <th>mobile_model_name</th>\n",
       "      <th>LANGUAGE</th>\n",
       "      <th>country</th>\n",
       "      <th>region</th>\n",
       "      <th>event_timestamp_assignment</th>\n",
       "      <th>app_version</th>\n",
       "      <th>key</th>\n",
       "      <th>string_value</th>\n",
       "    </tr>\n",
       "  </thead>\n",
       "  <tbody>\n",
       "    <tr>\n",
       "      <th>0</th>\n",
       "      <td>c9b35468ce1e104f28d2cf93bedfcd92</td>\n",
       "      <td>diagnosis_open_camera</td>\n",
       "      <td>2021-11-05 14:29:08.631001</td>\n",
       "      <td>2021-10-15 00:33:52.407</td>\n",
       "      <td>Android 5.1.1</td>\n",
       "      <td>OPPO</td>\n",
       "      <td>A37f</td>\n",
       "      <td>en-us</td>\n",
       "      <td>India</td>\n",
       "      <td>Haryana</td>\n",
       "      <td>2021-10-15 00:34:06.472002</td>\n",
       "      <td>3.6.2</td>\n",
       "      <td>camera_quality_analysis_new_user_v4</td>\n",
       "      <td>control_group</td>\n",
       "    </tr>\n",
       "    <tr>\n",
       "      <th>1</th>\n",
       "      <td>9483fd2102dd908aa0b11542bd4f2e37</td>\n",
       "      <td>diagnosis_open_camera</td>\n",
       "      <td>2021-11-05 23:19:24.069001</td>\n",
       "      <td>2021-09-18 08:31:31.779</td>\n",
       "      <td>Android 10</td>\n",
       "      <td>Vivo</td>\n",
       "      <td>V2029</td>\n",
       "      <td>en-us</td>\n",
       "      <td>India</td>\n",
       "      <td>Andhra Pradesh</td>\n",
       "      <td>2021-10-08 06:15:33.257004</td>\n",
       "      <td>3.6.2</td>\n",
       "      <td>camera_quality_analysis_v4</td>\n",
       "      <td>control_group</td>\n",
       "    </tr>\n",
       "    <tr>\n",
       "      <th>2</th>\n",
       "      <td>19040679d034684fa53e2df46d569980</td>\n",
       "      <td>diagnosis_open_camera</td>\n",
       "      <td>2021-11-05 12:47:34.580000</td>\n",
       "      <td>2021-09-09 01:54:02.558</td>\n",
       "      <td>Android 8.1.0</td>\n",
       "      <td>Samsung</td>\n",
       "      <td>SM-A260G</td>\n",
       "      <td>en-au</td>\n",
       "      <td>India</td>\n",
       "      <td>Telangana</td>\n",
       "      <td>NaT</td>\n",
       "      <td>NaN</td>\n",
       "      <td>NaN</td>\n",
       "      <td>NaN</td>\n",
       "    </tr>\n",
       "    <tr>\n",
       "      <th>3</th>\n",
       "      <td>8ddf80262676e60b3154741f49cf5379</td>\n",
       "      <td>diagnosis_detect_other_blurry</td>\n",
       "      <td>2021-11-05 15:58:07.438000</td>\n",
       "      <td>2021-10-11 14:41:11.595</td>\n",
       "      <td>Android 8.1.0</td>\n",
       "      <td>LG</td>\n",
       "      <td>LM-Q710.FGN</td>\n",
       "      <td>en-gb</td>\n",
       "      <td>India</td>\n",
       "      <td>Andhra Pradesh</td>\n",
       "      <td>2021-10-11 14:41:26.696002</td>\n",
       "      <td>3.6.2</td>\n",
       "      <td>camera_quality_analysis_new_user_v4</td>\n",
       "      <td>control_group</td>\n",
       "    </tr>\n",
       "    <tr>\n",
       "      <th>4</th>\n",
       "      <td>7a69a8c7b15dcbfee177d305b6637e83</td>\n",
       "      <td>diagnosis_open_camera</td>\n",
       "      <td>2021-11-05 14:46:20.950001</td>\n",
       "      <td>2021-06-01 14:51:41.506</td>\n",
       "      <td>Android 7.1.1</td>\n",
       "      <td>OPPO</td>\n",
       "      <td>CPH1801</td>\n",
       "      <td>en-au</td>\n",
       "      <td>India</td>\n",
       "      <td>Rajasthan</td>\n",
       "      <td>NaT</td>\n",
       "      <td>NaN</td>\n",
       "      <td>NaN</td>\n",
       "      <td>NaN</td>\n",
       "    </tr>\n",
       "    <tr>\n",
       "      <th>...</th>\n",
       "      <td>...</td>\n",
       "      <td>...</td>\n",
       "      <td>...</td>\n",
       "      <td>...</td>\n",
       "      <td>...</td>\n",
       "      <td>...</td>\n",
       "      <td>...</td>\n",
       "      <td>...</td>\n",
       "      <td>...</td>\n",
       "      <td>...</td>\n",
       "      <td>...</td>\n",
       "      <td>...</td>\n",
       "      <td>...</td>\n",
       "      <td>...</td>\n",
       "    </tr>\n",
       "    <tr>\n",
       "      <th>3913747</th>\n",
       "      <td>2fe8c13f64cdcb9ae6b7de700e17dd36</td>\n",
       "      <td>diagnosis_take_image</td>\n",
       "      <td>2021-10-07 08:23:34.964006</td>\n",
       "      <td>2021-02-03 03:53:03.473</td>\n",
       "      <td>Android 11</td>\n",
       "      <td>OnePlus</td>\n",
       "      <td>HD1901</td>\n",
       "      <td>en-in</td>\n",
       "      <td>India</td>\n",
       "      <td>Maharashtra</td>\n",
       "      <td>2021-10-07 08:22:40.420002</td>\n",
       "      <td>3.6.2</td>\n",
       "      <td>camera_quality_analysis_v4</td>\n",
       "      <td>variant_a</td>\n",
       "    </tr>\n",
       "    <tr>\n",
       "      <th>3913748</th>\n",
       "      <td>2fe8c13f64cdcb9ae6b7de700e17dd36</td>\n",
       "      <td>diagnosis_take_image</td>\n",
       "      <td>2021-10-07 08:24:18.849006</td>\n",
       "      <td>2021-02-03 03:53:03.473</td>\n",
       "      <td>Android 11</td>\n",
       "      <td>OnePlus</td>\n",
       "      <td>HD1901</td>\n",
       "      <td>en-in</td>\n",
       "      <td>India</td>\n",
       "      <td>Maharashtra</td>\n",
       "      <td>2021-10-07 08:22:40.420002</td>\n",
       "      <td>3.6.2</td>\n",
       "      <td>camera_quality_analysis_v4</td>\n",
       "      <td>variant_a</td>\n",
       "    </tr>\n",
       "    <tr>\n",
       "      <th>3913749</th>\n",
       "      <td>2fe8c13f64cdcb9ae6b7de700e17dd36</td>\n",
       "      <td>diagnosis_detect_other_additional</td>\n",
       "      <td>2021-10-07 08:24:25.709001</td>\n",
       "      <td>2021-02-03 03:53:03.473</td>\n",
       "      <td>Android 11</td>\n",
       "      <td>OnePlus</td>\n",
       "      <td>HD1901</td>\n",
       "      <td>en-in</td>\n",
       "      <td>India</td>\n",
       "      <td>Maharashtra</td>\n",
       "      <td>2021-10-07 08:22:40.420002</td>\n",
       "      <td>3.6.2</td>\n",
       "      <td>camera_quality_analysis_v4</td>\n",
       "      <td>variant_a</td>\n",
       "    </tr>\n",
       "    <tr>\n",
       "      <th>3913750</th>\n",
       "      <td>4ff4c1bdf31e00e31265f5f99db52545</td>\n",
       "      <td>diagnosis_take_image</td>\n",
       "      <td>2021-10-07 03:58:31.961005</td>\n",
       "      <td>2021-02-20 10:40:24.390</td>\n",
       "      <td>Android 10</td>\n",
       "      <td>Xiaomi</td>\n",
       "      <td>M2006C3LI</td>\n",
       "      <td>en-in</td>\n",
       "      <td>India</td>\n",
       "      <td>Maharashtra</td>\n",
       "      <td>2021-10-06 02:39:35.512002</td>\n",
       "      <td>3.6.2</td>\n",
       "      <td>camera_quality_analysis_v4</td>\n",
       "      <td>control_group</td>\n",
       "    </tr>\n",
       "    <tr>\n",
       "      <th>3913751</th>\n",
       "      <td>4ff4c1bdf31e00e31265f5f99db52545</td>\n",
       "      <td>diagnosis_take_image</td>\n",
       "      <td>2021-10-07 05:27:02.082002</td>\n",
       "      <td>2021-02-20 10:40:24.390</td>\n",
       "      <td>Android 10</td>\n",
       "      <td>Xiaomi</td>\n",
       "      <td>M2006C3LI</td>\n",
       "      <td>en-in</td>\n",
       "      <td>India</td>\n",
       "      <td>Maharashtra</td>\n",
       "      <td>2021-10-06 02:39:35.512002</td>\n",
       "      <td>3.6.2</td>\n",
       "      <td>camera_quality_analysis_v4</td>\n",
       "      <td>control_group</td>\n",
       "    </tr>\n",
       "  </tbody>\n",
       "</table>\n",
       "<p>3913752 rows × 14 columns</p>\n",
       "</div>"
      ],
      "text/plain": [
       "                           user_pseudo_id                         event_name  \\\n",
       "0        c9b35468ce1e104f28d2cf93bedfcd92              diagnosis_open_camera   \n",
       "1        9483fd2102dd908aa0b11542bd4f2e37              diagnosis_open_camera   \n",
       "2        19040679d034684fa53e2df46d569980              diagnosis_open_camera   \n",
       "3        8ddf80262676e60b3154741f49cf5379      diagnosis_detect_other_blurry   \n",
       "4        7a69a8c7b15dcbfee177d305b6637e83              diagnosis_open_camera   \n",
       "...                                   ...                                ...   \n",
       "3913747  2fe8c13f64cdcb9ae6b7de700e17dd36               diagnosis_take_image   \n",
       "3913748  2fe8c13f64cdcb9ae6b7de700e17dd36               diagnosis_take_image   \n",
       "3913749  2fe8c13f64cdcb9ae6b7de700e17dd36  diagnosis_detect_other_additional   \n",
       "3913750  4ff4c1bdf31e00e31265f5f99db52545               diagnosis_take_image   \n",
       "3913751  4ff4c1bdf31e00e31265f5f99db52545               diagnosis_take_image   \n",
       "\n",
       "                event_timestamp_db user_first_touch_timestamp  \\\n",
       "0       2021-11-05 14:29:08.631001    2021-10-15 00:33:52.407   \n",
       "1       2021-11-05 23:19:24.069001    2021-09-18 08:31:31.779   \n",
       "2       2021-11-05 12:47:34.580000    2021-09-09 01:54:02.558   \n",
       "3       2021-11-05 15:58:07.438000    2021-10-11 14:41:11.595   \n",
       "4       2021-11-05 14:46:20.950001    2021-06-01 14:51:41.506   \n",
       "...                            ...                        ...   \n",
       "3913747 2021-10-07 08:23:34.964006    2021-02-03 03:53:03.473   \n",
       "3913748 2021-10-07 08:24:18.849006    2021-02-03 03:53:03.473   \n",
       "3913749 2021-10-07 08:24:25.709001    2021-02-03 03:53:03.473   \n",
       "3913750 2021-10-07 03:58:31.961005    2021-02-20 10:40:24.390   \n",
       "3913751 2021-10-07 05:27:02.082002    2021-02-20 10:40:24.390   \n",
       "\n",
       "        operating_system_version mobile_brand_name mobile_model_name LANGUAGE  \\\n",
       "0                  Android 5.1.1              OPPO              A37f    en-us   \n",
       "1                     Android 10              Vivo             V2029    en-us   \n",
       "2                  Android 8.1.0           Samsung          SM-A260G    en-au   \n",
       "3                  Android 8.1.0                LG       LM-Q710.FGN    en-gb   \n",
       "4                  Android 7.1.1              OPPO           CPH1801    en-au   \n",
       "...                          ...               ...               ...      ...   \n",
       "3913747               Android 11           OnePlus            HD1901    en-in   \n",
       "3913748               Android 11           OnePlus            HD1901    en-in   \n",
       "3913749               Android 11           OnePlus            HD1901    en-in   \n",
       "3913750               Android 10            Xiaomi         M2006C3LI    en-in   \n",
       "3913751               Android 10            Xiaomi         M2006C3LI    en-in   \n",
       "\n",
       "        country          region event_timestamp_assignment app_version  \\\n",
       "0         India         Haryana 2021-10-15 00:34:06.472002       3.6.2   \n",
       "1         India  Andhra Pradesh 2021-10-08 06:15:33.257004       3.6.2   \n",
       "2         India       Telangana                        NaT         NaN   \n",
       "3         India  Andhra Pradesh 2021-10-11 14:41:26.696002       3.6.2   \n",
       "4         India       Rajasthan                        NaT         NaN   \n",
       "...         ...             ...                        ...         ...   \n",
       "3913747   India     Maharashtra 2021-10-07 08:22:40.420002       3.6.2   \n",
       "3913748   India     Maharashtra 2021-10-07 08:22:40.420002       3.6.2   \n",
       "3913749   India     Maharashtra 2021-10-07 08:22:40.420002       3.6.2   \n",
       "3913750   India     Maharashtra 2021-10-06 02:39:35.512002       3.6.2   \n",
       "3913751   India     Maharashtra 2021-10-06 02:39:35.512002       3.6.2   \n",
       "\n",
       "                                         key   string_value  \n",
       "0        camera_quality_analysis_new_user_v4  control_group  \n",
       "1                 camera_quality_analysis_v4  control_group  \n",
       "2                                        NaN            NaN  \n",
       "3        camera_quality_analysis_new_user_v4  control_group  \n",
       "4                                        NaN            NaN  \n",
       "...                                      ...            ...  \n",
       "3913747           camera_quality_analysis_v4      variant_a  \n",
       "3913748           camera_quality_analysis_v4      variant_a  \n",
       "3913749           camera_quality_analysis_v4      variant_a  \n",
       "3913750           camera_quality_analysis_v4  control_group  \n",
       "3913751           camera_quality_analysis_v4  control_group  \n",
       "\n",
       "[3913752 rows x 14 columns]"
      ]
     },
     "execution_count": 89,
     "metadata": {},
     "output_type": "execute_result"
    }
   ],
   "source": [
    "joined_db"
   ]
  },
  {
   "cell_type": "code",
   "execution_count": 90,
   "metadata": {},
   "outputs": [
    {
     "data": {
      "text/plain": [
       "(3913752, 14)"
      ]
     },
     "execution_count": 90,
     "metadata": {},
     "output_type": "execute_result"
    }
   ],
   "source": [
    "joined_db.shape"
   ]
  },
  {
   "cell_type": "code",
   "execution_count": 91,
   "metadata": {},
   "outputs": [
    {
     "data": {
      "text/plain": [
       "user_pseudo_id                    0\n",
       "event_name                        0\n",
       "event_timestamp_db                0\n",
       "user_first_touch_timestamp        2\n",
       "operating_system_version          0\n",
       "mobile_brand_name             41930\n",
       "mobile_model_name             41930\n",
       "LANGUAGE                          0\n",
       "country                          13\n",
       "region                        81990\n",
       "event_timestamp_assignment    33161\n",
       "app_version                   33161\n",
       "key                           33161\n",
       "string_value                  33161\n",
       "dtype: int64"
      ]
     },
     "execution_count": 91,
     "metadata": {},
     "output_type": "execute_result"
    }
   ],
   "source": [
    "joined_db.isnull().sum()"
   ]
  },
  {
   "cell_type": "code",
   "execution_count": 92,
   "metadata": {},
   "outputs": [
    {
     "data": {
      "text/plain": [
       "3913752"
      ]
     },
     "execution_count": 92,
     "metadata": {},
     "output_type": "execute_result"
    }
   ],
   "source": [
    "joined_db[['key','string_value']].value_counts().sum() + 33161"
   ]
  },
  {
   "cell_type": "code",
   "execution_count": 93,
   "metadata": {},
   "outputs": [
    {
     "data": {
      "text/plain": [
       "key                                  string_value \n",
       "camera_quality_analysis_new_user_v4  control_group    1448682\n",
       "                                     variant_a        1341639\n",
       "camera_quality_analysis_v4           control_group     552606\n",
       "                                     variant_a         537664\n",
       "dtype: int64"
      ]
     },
     "execution_count": 93,
     "metadata": {},
     "output_type": "execute_result"
    }
   ],
   "source": [
    "joined_db[['key','string_value']].value_counts()"
   ]
  },
  {
   "cell_type": "markdown",
   "metadata": {},
   "source": [
    "## Calculation"
   ]
  },
  {
   "cell_type": "markdown",
   "metadata": {},
   "source": [
    "### New Users"
   ]
  },
  {
   "cell_type": "code",
   "execution_count": 94,
   "metadata": {},
   "outputs": [],
   "source": [
    "new_user_control = joined_db[(joined_db['key']=='camera_quality_analysis_new_user_v4')&(joined_db['string_value']=='control_group')]['event_name'].value_counts()"
   ]
  },
  {
   "cell_type": "code",
   "execution_count": 154,
   "metadata": {},
   "outputs": [],
   "source": [
    "col_test = ['event_name','event_timestamp_db']"
   ]
  },
  {
   "cell_type": "code",
   "execution_count": 197,
   "metadata": {},
   "outputs": [],
   "source": [
    "test = joined_db[(joined_db['key']=='camera_quality_analysis_v4')&(joined_db['string_value']=='control_group')][col_test]"
   ]
  },
  {
   "cell_type": "code",
   "execution_count": 198,
   "metadata": {},
   "outputs": [
    {
     "data": {
      "text/html": [
       "<div>\n",
       "<style scoped>\n",
       "    .dataframe tbody tr th:only-of-type {\n",
       "        vertical-align: middle;\n",
       "    }\n",
       "\n",
       "    .dataframe tbody tr th {\n",
       "        vertical-align: top;\n",
       "    }\n",
       "\n",
       "    .dataframe thead th {\n",
       "        text-align: right;\n",
       "    }\n",
       "</style>\n",
       "<table border=\"1\" class=\"dataframe\">\n",
       "  <thead>\n",
       "    <tr style=\"text-align: right;\">\n",
       "      <th></th>\n",
       "      <th>event_name</th>\n",
       "      <th>event_timestamp_db</th>\n",
       "    </tr>\n",
       "  </thead>\n",
       "  <tbody>\n",
       "    <tr>\n",
       "      <th>1</th>\n",
       "      <td>diagnosis_open_camera</td>\n",
       "      <td>2021-11-05 23:19:24.069001</td>\n",
       "    </tr>\n",
       "    <tr>\n",
       "      <th>53</th>\n",
       "      <td>diagnosis_open_camera</td>\n",
       "      <td>2021-10-09 23:35:03.051000</td>\n",
       "    </tr>\n",
       "    <tr>\n",
       "      <th>54</th>\n",
       "      <td>diagnosis_accept_image</td>\n",
       "      <td>2021-10-09 23:35:04.882001</td>\n",
       "    </tr>\n",
       "    <tr>\n",
       "      <th>113</th>\n",
       "      <td>diagnosis_open_camera</td>\n",
       "      <td>2021-10-09 11:54:11.263000</td>\n",
       "    </tr>\n",
       "    <tr>\n",
       "      <th>124</th>\n",
       "      <td>diagnosis_open_camera</td>\n",
       "      <td>2021-10-09 11:59:57.255003</td>\n",
       "    </tr>\n",
       "    <tr>\n",
       "      <th>...</th>\n",
       "      <td>...</td>\n",
       "      <td>...</td>\n",
       "    </tr>\n",
       "    <tr>\n",
       "      <th>3913698</th>\n",
       "      <td>diagnosis_detect_other_blurry</td>\n",
       "      <td>2021-10-07 02:27:49.292000</td>\n",
       "    </tr>\n",
       "    <tr>\n",
       "      <th>3913699</th>\n",
       "      <td>diagnosis_take_image</td>\n",
       "      <td>2021-10-07 02:28:12.403002</td>\n",
       "    </tr>\n",
       "    <tr>\n",
       "      <th>3913745</th>\n",
       "      <td>diagnosis_take_image</td>\n",
       "      <td>2021-10-07 06:15:04.425000</td>\n",
       "    </tr>\n",
       "    <tr>\n",
       "      <th>3913750</th>\n",
       "      <td>diagnosis_take_image</td>\n",
       "      <td>2021-10-07 03:58:31.961005</td>\n",
       "    </tr>\n",
       "    <tr>\n",
       "      <th>3913751</th>\n",
       "      <td>diagnosis_take_image</td>\n",
       "      <td>2021-10-07 05:27:02.082002</td>\n",
       "    </tr>\n",
       "  </tbody>\n",
       "</table>\n",
       "<p>552606 rows × 2 columns</p>\n",
       "</div>"
      ],
      "text/plain": [
       "                            event_name         event_timestamp_db\n",
       "1                diagnosis_open_camera 2021-11-05 23:19:24.069001\n",
       "53               diagnosis_open_camera 2021-10-09 23:35:03.051000\n",
       "54              diagnosis_accept_image 2021-10-09 23:35:04.882001\n",
       "113              diagnosis_open_camera 2021-10-09 11:54:11.263000\n",
       "124              diagnosis_open_camera 2021-10-09 11:59:57.255003\n",
       "...                                ...                        ...\n",
       "3913698  diagnosis_detect_other_blurry 2021-10-07 02:27:49.292000\n",
       "3913699           diagnosis_take_image 2021-10-07 02:28:12.403002\n",
       "3913745           diagnosis_take_image 2021-10-07 06:15:04.425000\n",
       "3913750           diagnosis_take_image 2021-10-07 03:58:31.961005\n",
       "3913751           diagnosis_take_image 2021-10-07 05:27:02.082002\n",
       "\n",
       "[552606 rows x 2 columns]"
      ]
     },
     "execution_count": 198,
     "metadata": {},
     "output_type": "execute_result"
    }
   ],
   "source": [
    "test"
   ]
  },
  {
   "cell_type": "code",
   "execution_count": 199,
   "metadata": {},
   "outputs": [],
   "source": [
    "selected_events=['diagnosis_accept_image']"
   ]
  },
  {
   "cell_type": "code",
   "execution_count": 200,
   "metadata": {},
   "outputs": [],
   "source": [
    "test_daily = test[test['event_name'].isin(selected_events)].groupby([pd.Grouper(key='event_timestamp_db',freq='1d'),'event_name']).size()"
   ]
  },
  {
   "cell_type": "code",
   "execution_count": 201,
   "metadata": {},
   "outputs": [],
   "source": [
    "df = test_daily.unstack()"
   ]
  },
  {
   "cell_type": "code",
   "execution_count": 202,
   "metadata": {},
   "outputs": [
    {
     "data": {
      "text/html": [
       "<div>\n",
       "<style scoped>\n",
       "    .dataframe tbody tr th:only-of-type {\n",
       "        vertical-align: middle;\n",
       "    }\n",
       "\n",
       "    .dataframe tbody tr th {\n",
       "        vertical-align: top;\n",
       "    }\n",
       "\n",
       "    .dataframe thead th {\n",
       "        text-align: right;\n",
       "    }\n",
       "</style>\n",
       "<table border=\"1\" class=\"dataframe\">\n",
       "  <thead>\n",
       "    <tr style=\"text-align: right;\">\n",
       "      <th>event_name</th>\n",
       "      <th>diagnosis_accept_image</th>\n",
       "    </tr>\n",
       "    <tr>\n",
       "      <th>event_timestamp_db</th>\n",
       "      <th></th>\n",
       "    </tr>\n",
       "  </thead>\n",
       "  <tbody>\n",
       "    <tr>\n",
       "      <th>2021-09-22</th>\n",
       "      <td>213</td>\n",
       "    </tr>\n",
       "    <tr>\n",
       "      <th>2021-09-23</th>\n",
       "      <td>436</td>\n",
       "    </tr>\n",
       "    <tr>\n",
       "      <th>2021-09-24</th>\n",
       "      <td>491</td>\n",
       "    </tr>\n",
       "    <tr>\n",
       "      <th>2021-09-25</th>\n",
       "      <td>1483</td>\n",
       "    </tr>\n",
       "    <tr>\n",
       "      <th>2021-09-26</th>\n",
       "      <td>2389</td>\n",
       "    </tr>\n",
       "  </tbody>\n",
       "</table>\n",
       "</div>"
      ],
      "text/plain": [
       "event_name          diagnosis_accept_image\n",
       "event_timestamp_db                        \n",
       "2021-09-22                             213\n",
       "2021-09-23                             436\n",
       "2021-09-24                             491\n",
       "2021-09-25                            1483\n",
       "2021-09-26                            2389"
      ]
     },
     "execution_count": 202,
     "metadata": {},
     "output_type": "execute_result"
    }
   ],
   "source": [
    "df.head()"
   ]
  },
  {
   "cell_type": "code",
   "execution_count": 203,
   "metadata": {},
   "outputs": [
    {
     "data": {
      "text/html": [
       "<div>\n",
       "<style scoped>\n",
       "    .dataframe tbody tr th:only-of-type {\n",
       "        vertical-align: middle;\n",
       "    }\n",
       "\n",
       "    .dataframe tbody tr th {\n",
       "        vertical-align: top;\n",
       "    }\n",
       "\n",
       "    .dataframe thead th {\n",
       "        text-align: right;\n",
       "    }\n",
       "</style>\n",
       "<table border=\"1\" class=\"dataframe\">\n",
       "  <thead>\n",
       "    <tr style=\"text-align: right;\">\n",
       "      <th>event_name</th>\n",
       "      <th>diagnosis_accept_image</th>\n",
       "    </tr>\n",
       "    <tr>\n",
       "      <th>event_timestamp_db</th>\n",
       "      <th></th>\n",
       "    </tr>\n",
       "  </thead>\n",
       "  <tbody>\n",
       "    <tr>\n",
       "      <th>2021-09-22</th>\n",
       "      <td>213</td>\n",
       "    </tr>\n",
       "    <tr>\n",
       "      <th>2021-09-23</th>\n",
       "      <td>436</td>\n",
       "    </tr>\n",
       "    <tr>\n",
       "      <th>2021-09-24</th>\n",
       "      <td>491</td>\n",
       "    </tr>\n",
       "    <tr>\n",
       "      <th>2021-09-25</th>\n",
       "      <td>1483</td>\n",
       "    </tr>\n",
       "    <tr>\n",
       "      <th>2021-09-26</th>\n",
       "      <td>2389</td>\n",
       "    </tr>\n",
       "    <tr>\n",
       "      <th>2021-09-27</th>\n",
       "      <td>2541</td>\n",
       "    </tr>\n",
       "    <tr>\n",
       "      <th>2021-09-28</th>\n",
       "      <td>3015</td>\n",
       "    </tr>\n",
       "    <tr>\n",
       "      <th>2021-09-29</th>\n",
       "      <td>3480</td>\n",
       "    </tr>\n",
       "    <tr>\n",
       "      <th>2021-09-30</th>\n",
       "      <td>3365</td>\n",
       "    </tr>\n",
       "    <tr>\n",
       "      <th>2021-10-01</th>\n",
       "      <td>3308</td>\n",
       "    </tr>\n",
       "    <tr>\n",
       "      <th>2021-10-02</th>\n",
       "      <td>3670</td>\n",
       "    </tr>\n",
       "    <tr>\n",
       "      <th>2021-10-03</th>\n",
       "      <td>3869</td>\n",
       "    </tr>\n",
       "    <tr>\n",
       "      <th>2021-10-04</th>\n",
       "      <td>3691</td>\n",
       "    </tr>\n",
       "    <tr>\n",
       "      <th>2021-10-05</th>\n",
       "      <td>3665</td>\n",
       "    </tr>\n",
       "    <tr>\n",
       "      <th>2021-10-06</th>\n",
       "      <td>3968</td>\n",
       "    </tr>\n",
       "    <tr>\n",
       "      <th>2021-10-07</th>\n",
       "      <td>4118</td>\n",
       "    </tr>\n",
       "    <tr>\n",
       "      <th>2021-10-08</th>\n",
       "      <td>4173</td>\n",
       "    </tr>\n",
       "    <tr>\n",
       "      <th>2021-10-09</th>\n",
       "      <td>4223</td>\n",
       "    </tr>\n",
       "    <tr>\n",
       "      <th>2021-10-10</th>\n",
       "      <td>4176</td>\n",
       "    </tr>\n",
       "    <tr>\n",
       "      <th>2021-10-11</th>\n",
       "      <td>3808</td>\n",
       "    </tr>\n",
       "    <tr>\n",
       "      <th>2021-10-12</th>\n",
       "      <td>3987</td>\n",
       "    </tr>\n",
       "    <tr>\n",
       "      <th>2021-10-13</th>\n",
       "      <td>4053</td>\n",
       "    </tr>\n",
       "    <tr>\n",
       "      <th>2021-10-14</th>\n",
       "      <td>3711</td>\n",
       "    </tr>\n",
       "    <tr>\n",
       "      <th>2021-10-15</th>\n",
       "      <td>3575</td>\n",
       "    </tr>\n",
       "    <tr>\n",
       "      <th>2021-10-16</th>\n",
       "      <td>4141</td>\n",
       "    </tr>\n",
       "    <tr>\n",
       "      <th>2021-10-17</th>\n",
       "      <td>4000</td>\n",
       "    </tr>\n",
       "    <tr>\n",
       "      <th>2021-10-18</th>\n",
       "      <td>4202</td>\n",
       "    </tr>\n",
       "    <tr>\n",
       "      <th>2021-10-19</th>\n",
       "      <td>4161</td>\n",
       "    </tr>\n",
       "    <tr>\n",
       "      <th>2021-10-20</th>\n",
       "      <td>3769</td>\n",
       "    </tr>\n",
       "    <tr>\n",
       "      <th>2021-10-21</th>\n",
       "      <td>3937</td>\n",
       "    </tr>\n",
       "    <tr>\n",
       "      <th>2021-10-22</th>\n",
       "      <td>3411</td>\n",
       "    </tr>\n",
       "    <tr>\n",
       "      <th>2021-10-23</th>\n",
       "      <td>3331</td>\n",
       "    </tr>\n",
       "    <tr>\n",
       "      <th>2021-10-24</th>\n",
       "      <td>3262</td>\n",
       "    </tr>\n",
       "    <tr>\n",
       "      <th>2021-10-25</th>\n",
       "      <td>3392</td>\n",
       "    </tr>\n",
       "    <tr>\n",
       "      <th>2021-10-26</th>\n",
       "      <td>3503</td>\n",
       "    </tr>\n",
       "    <tr>\n",
       "      <th>2021-10-27</th>\n",
       "      <td>3433</td>\n",
       "    </tr>\n",
       "    <tr>\n",
       "      <th>2021-10-28</th>\n",
       "      <td>3378</td>\n",
       "    </tr>\n",
       "    <tr>\n",
       "      <th>2021-10-29</th>\n",
       "      <td>3282</td>\n",
       "    </tr>\n",
       "    <tr>\n",
       "      <th>2021-10-30</th>\n",
       "      <td>2954</td>\n",
       "    </tr>\n",
       "    <tr>\n",
       "      <th>2021-10-31</th>\n",
       "      <td>2855</td>\n",
       "    </tr>\n",
       "    <tr>\n",
       "      <th>2021-11-01</th>\n",
       "      <td>3052</td>\n",
       "    </tr>\n",
       "    <tr>\n",
       "      <th>2021-11-02</th>\n",
       "      <td>2898</td>\n",
       "    </tr>\n",
       "    <tr>\n",
       "      <th>2021-11-03</th>\n",
       "      <td>2956</td>\n",
       "    </tr>\n",
       "    <tr>\n",
       "      <th>2021-11-04</th>\n",
       "      <td>2808</td>\n",
       "    </tr>\n",
       "    <tr>\n",
       "      <th>2021-11-05</th>\n",
       "      <td>2740</td>\n",
       "    </tr>\n",
       "  </tbody>\n",
       "</table>\n",
       "</div>"
      ],
      "text/plain": [
       "event_name          diagnosis_accept_image\n",
       "event_timestamp_db                        \n",
       "2021-09-22                             213\n",
       "2021-09-23                             436\n",
       "2021-09-24                             491\n",
       "2021-09-25                            1483\n",
       "2021-09-26                            2389\n",
       "2021-09-27                            2541\n",
       "2021-09-28                            3015\n",
       "2021-09-29                            3480\n",
       "2021-09-30                            3365\n",
       "2021-10-01                            3308\n",
       "2021-10-02                            3670\n",
       "2021-10-03                            3869\n",
       "2021-10-04                            3691\n",
       "2021-10-05                            3665\n",
       "2021-10-06                            3968\n",
       "2021-10-07                            4118\n",
       "2021-10-08                            4173\n",
       "2021-10-09                            4223\n",
       "2021-10-10                            4176\n",
       "2021-10-11                            3808\n",
       "2021-10-12                            3987\n",
       "2021-10-13                            4053\n",
       "2021-10-14                            3711\n",
       "2021-10-15                            3575\n",
       "2021-10-16                            4141\n",
       "2021-10-17                            4000\n",
       "2021-10-18                            4202\n",
       "2021-10-19                            4161\n",
       "2021-10-20                            3769\n",
       "2021-10-21                            3937\n",
       "2021-10-22                            3411\n",
       "2021-10-23                            3331\n",
       "2021-10-24                            3262\n",
       "2021-10-25                            3392\n",
       "2021-10-26                            3503\n",
       "2021-10-27                            3433\n",
       "2021-10-28                            3378\n",
       "2021-10-29                            3282\n",
       "2021-10-30                            2954\n",
       "2021-10-31                            2855\n",
       "2021-11-01                            3052\n",
       "2021-11-02                            2898\n",
       "2021-11-03                            2956\n",
       "2021-11-04                            2808\n",
       "2021-11-05                            2740"
      ]
     },
     "execution_count": 203,
     "metadata": {},
     "output_type": "execute_result"
    }
   ],
   "source": [
    "df"
   ]
  },
  {
   "cell_type": "code",
   "execution_count": 204,
   "metadata": {},
   "outputs": [],
   "source": [
    "df.to_excel(r'file_Name2.xlsx', index = False, header=True)"
   ]
  },
  {
   "cell_type": "code",
   "execution_count": 205,
   "metadata": {},
   "outputs": [
    {
     "data": {
      "text/plain": [
       "<AxesSubplot:xlabel='event_timestamp_db'>"
      ]
     },
     "execution_count": 205,
     "metadata": {},
     "output_type": "execute_result"
    },
    {
     "data": {
      "image/png": "[encoded data removed]",
      "text/plain": [
       "<Figure size 432x288 with 1 Axes>"
      ]
     },
     "metadata": {
      "needs_background": "light"
     },
     "output_type": "display_data"
    }
   ],
   "source": [
    "test_daily.unstack().plot()"
   ]
  },
  {
   "cell_type": "code",
   "execution_count": 95,
   "metadata": {},
   "outputs": [],
   "source": [
    "new_user_variant = joined_db[(joined_db['key']=='camera_quality_analysis_new_user_v4')&(joined_db['string_value']=='variant_a')]['event_name'].value_counts()"
   ]
  },
  {
   "cell_type": "code",
   "execution_count": 96,
   "metadata": {},
   "outputs": [
    {
     "data": {
      "text/plain": [
       "diagnosis_open_camera                402595\n",
       "diagnosis_accept_image               374825\n",
       "diagnosis_take_image                 320029\n",
       "diagnosis_detect_pathogen            106500\n",
       "diagnosis_detect_crop                 88092\n",
       "diagnosis_detect_other_too_far        57343\n",
       "diagnosis_detect_other_blurry         42749\n",
       "diagnosis_detect_other_additional     22615\n",
       "diagnosis_detect_other_ornamental     19492\n",
       "diagnosis_detect_other_bad_image       9160\n",
       "diagnosis_detect_crop_group            5282\n",
       "Name: event_name, dtype: int64"
      ]
     },
     "execution_count": 96,
     "metadata": {},
     "output_type": "execute_result"
    }
   ],
   "source": [
    "new_user_control"
   ]
  },
  {
   "cell_type": "code",
   "execution_count": 97,
   "metadata": {},
   "outputs": [
    {
     "data": {
      "text/plain": [
       "diagnosis_open_camera                393623\n",
       "diagnosis_take_image                 328793\n",
       "diagnosis_accept_image               319467\n",
       "diagnosis_detect_pathogen            101769\n",
       "diagnosis_detect_crop                 84766\n",
       "diagnosis_detect_other_too_far        34400\n",
       "diagnosis_detect_other_blurry         25382\n",
       "diagnosis_detect_other_additional     21623\n",
       "diagnosis_detect_other_ornamental     18349\n",
       "diagnosis_detect_other_bad_image       8337\n",
       "diagnosis_detect_crop_group            5130\n",
       "Name: event_name, dtype: int64"
      ]
     },
     "execution_count": 97,
     "metadata": {},
     "output_type": "execute_result"
    }
   ],
   "source": [
    "new_user_variant"
   ]
  },
  {
   "cell_type": "code",
   "execution_count": 98,
   "metadata": {},
   "outputs": [],
   "source": [
    "share_bad_images_uploaded_new_user_control = (\n",
    "    (new_user_control['diagnosis_detect_other_too_far']+ new_user_control['diagnosis_detect_other_blurry'])/new_user_control['diagnosis_accept_image']\n",
    ")\n",
    "\n",
    "share_bad_images_uploaded_new_user_variant = (\n",
    "    (new_user_variant['diagnosis_detect_other_too_far']+ new_user_variant['diagnosis_detect_other_blurry'])/new_user_variant['diagnosis_accept_image']\n",
    ")\n",
    "\n",
    "share_good_images_uploaded_new_user_control = (\n",
    "    (new_user_control['diagnosis_detect_pathogen']+new_user_control['diagnosis_detect_crop']+new_user_control['diagnosis_detect_crop_group'])/new_user_control['diagnosis_accept_image']\n",
    ")\n",
    "\n",
    "share_good_images_uploaded_new_user_variant = (\n",
    "    (new_user_variant['diagnosis_detect_pathogen']+new_user_variant['diagnosis_detect_crop']+new_user_variant['diagnosis_detect_crop_group'])/new_user_variant['diagnosis_accept_image']\n",
    ")"
   ]
  },
  {
   "cell_type": "code",
   "execution_count": 99,
   "metadata": {},
   "outputs": [
    {
     "name": "stdout",
     "output_type": "stream",
     "text": [
      "0.2670366170879744\n",
      "0.1871304391376887\n",
      "0.5332461815513907\n",
      "0.5999524207508131\n"
     ]
    }
   ],
   "source": [
    "print(share_bad_images_uploaded_new_user_control)\n",
    "print(share_bad_images_uploaded_new_user_variant)\n",
    "print(share_good_images_uploaded_new_user_control)\n",
    "print(share_good_images_uploaded_new_user_variant)"
   ]
  },
  {
   "cell_type": "markdown",
   "metadata": {},
   "source": [
    "#### Bad events (new users)"
   ]
  },
  {
   "cell_type": "code",
   "execution_count": 100,
   "metadata": {},
   "outputs": [
    {
     "name": "stdout",
     "output_type": "stream",
     "text": [
      "No. of images uploaded by control group: 374825\n",
      "No. of images with quality issues (control): 100092\n",
      "share of images with quality issues uploaded by new users (control): 26.70%\n",
      "No. of images uploaded by variant group: 319467\n",
      "No. of images with quality issues (variant): 59782\n",
      "share of images with quality issues uploaded by new users (variant): 18.71%\n",
      "Relative Change: -30%\n",
      "z statistic: 78.82\n",
      "p-value: 0.000\n",
      "ci 95% for control group: [0.266,0.268]\n",
      "ci 95% for variant group: [0.186,0.188]\n"
     ]
    }
   ],
   "source": [
    "n_con = new_user_control['diagnosis_accept_image']\n",
    "n_var = new_user_variant['diagnosis_accept_image']\n",
    "successes = [\n",
    "    (new_user_control['diagnosis_detect_other_too_far']+ new_user_control['diagnosis_detect_other_blurry']),\n",
    "    (new_user_variant['diagnosis_detect_other_too_far']+ new_user_variant['diagnosis_detect_other_blurry'])\n",
    "    ]\n",
    "nobs = [n_con, n_var]\n",
    "z_stat, pval = proportions_ztest(successes,nobs=nobs,alternative='larger')\n",
    "(lower_con, lower_var), (upper_con, upper_var) = proportion_confint(successes, nobs=nobs, alpha=0.05)\n",
    "\n",
    "print(f'No. of images uploaded by control group: {n_con}')\n",
    "print(f'No. of images with quality issues (control): {successes[0]}')\n",
    "print(f'share of images with quality issues uploaded by new users (control): {share_bad_images_uploaded_new_user_control*100:.2f}%')\n",
    "print(f'No. of images uploaded by variant group: {n_var}')\n",
    "print(f'No. of images with quality issues (variant): {successes[1]}')\n",
    "print(f'share of images with quality issues uploaded by new users (variant): {share_bad_images_uploaded_new_user_variant*100:.2f}%')\n",
    "print(f'Relative Change: {(share_bad_images_uploaded_new_user_variant-share_bad_images_uploaded_new_user_control)/share_bad_images_uploaded_new_user_control*100:.0f}%')\n",
    "\n",
    "print(f'z statistic: {z_stat:.2f}')\n",
    "print(f'p-value: {pval:.3f}')\n",
    "print(f'ci 95% for control group: [{lower_con:.3f},{upper_con:.3f}]')\n",
    "print(f'ci 95% for variant group: [{lower_var:.3f},{upper_var:.3f}]')"
   ]
  },
  {
   "cell_type": "code",
   "execution_count": 101,
   "metadata": {},
   "outputs": [
    {
     "name": "stderr",
     "output_type": "stream",
     "text": [
      "C:\\Users\\Behzad\\AppData\\Local\\Temp/ipykernel_4200/3452898183.py:2: UserWarning: color is redundantly defined by the 'color' keyword argument and the fmt string \"ro-\" (-> color='r'). The keyword argument will take precedence.\n",
      "  plt.plot((lower,upper),(y,y),'ro-',color='orange')\n"
     ]
    },
    {
     "data": {
      "text/plain": [
       "Text(0.5, 1.0, '95% ci of (bad_events / accept_images) for new users')"
      ]
     },
     "execution_count": 101,
     "metadata": {},
     "output_type": "execute_result"
    },
    {
     "data": {
      "image/png": "[encoded data removed]",
      "text/plain": [
       "<Figure size 432x288 with 1 Axes>"
      ]
     },
     "metadata": {
      "needs_background": "light"
     },
     "output_type": "display_data"
    }
   ],
   "source": [
    "for lower,upper,y in zip([lower_con,lower_var],[upper_con,upper_var],[0,1]):\n",
    "    plt.plot((lower,upper),(y,y),'ro-',color='orange')\n",
    "plt.gca().set_aspect(0.005, adjustable='box')\n",
    "plt.yticks([-0.5,1.5],['control group','variant group'])\n",
    "plt.title('95% ci of (bad_events / accept_images) for new users')"
   ]
  },
  {
   "cell_type": "code",
   "execution_count": 102,
   "metadata": {},
   "outputs": [
    {
     "data": {
      "image/png": "[encoded data removed]",
      "text/plain": [
       "<Figure size 432x288 with 1 Axes>"
      ]
     },
     "metadata": {
      "needs_background": "light"
     },
     "output_type": "display_data"
    }
   ],
   "source": [
    "fig = plt.figure()\n",
    "ax = fig.add_axes([0,0,0.5,1])\n",
    "langs = ['control', 'variant']\n",
    "shares = [share_bad_images_uploaded_new_user_control*100,share_bad_images_uploaded_new_user_variant*100]\n",
    "ax.bar(langs,shares,width=0.7,yerr=(upper_con-lower_con)/2*100,capsize=7)\n",
    "ax.set_ylim(ymin=0)\n",
    "plt.yticks([share_bad_images_uploaded_new_user_control*100,share_bad_images_uploaded_new_user_variant*100])\n",
    "plt.title('(bad_events / accept_images) for new users')\n",
    "plt.show()"
   ]
  },
  {
   "cell_type": "code",
   "execution_count": 103,
   "metadata": {},
   "outputs": [
    {
     "data": {
      "image/png": "[encoded data removed]",
      "text/plain": [
       "<Figure size 432x288 with 1 Axes>"
      ]
     },
     "metadata": {
      "needs_background": "light"
     },
     "output_type": "display_data"
    }
   ],
   "source": [
    "fig = plt.figure()\n",
    "ax = fig.add_axes([0,0,0.5,1])\n",
    "langs = ['control', 'variant']\n",
    "shares = [share_bad_images_uploaded_new_user_control*100,share_bad_images_uploaded_new_user_variant*100]\n",
    "ax.bar(langs,shares,width=0.7,yerr=(upper_con-lower_con)/2*100,capsize=7)\n",
    "ax.set_ylim(ymin=10)\n",
    "plt.yticks([share_bad_images_uploaded_new_user_control*100,share_bad_images_uploaded_new_user_variant*100])\n",
    "plt.title('(bad_events / accept_images) for new users')\n",
    "plt.show()"
   ]
  },
  {
   "cell_type": "markdown",
   "metadata": {},
   "source": [
    "#### Good events (new users)"
   ]
  },
  {
   "cell_type": "code",
   "execution_count": 104,
   "metadata": {},
   "outputs": [
    {
     "name": "stdout",
     "output_type": "stream",
     "text": [
      "No. of images uploaded by control group: 374825\n",
      "No. of detect crop images (control): 199874\n",
      "share of good images uploaded by new users (control): 53.32%\n",
      "No. of images uploaded by variant group: 319467\n",
      "No. of detect crop images (variant): 191665\n",
      "share of good images uploaded by new users (variant): 60.00%\n",
      "Relative Change: 13%\n",
      "z statistic: -55.86\n",
      "p-value: 0.000\n",
      "ci 95% for control group: [0.532,0.535]\n",
      "ci 95% for variant group: [0.598,0.602]\n"
     ]
    }
   ],
   "source": [
    "n_con = new_user_control['diagnosis_accept_image']\n",
    "n_var = new_user_variant['diagnosis_accept_image']\n",
    "successes = [\n",
    "    (new_user_control['diagnosis_detect_pathogen']+ new_user_control['diagnosis_detect_crop']+new_user_control['diagnosis_detect_crop_group']),\n",
    "    (new_user_variant['diagnosis_detect_pathogen']+ new_user_variant['diagnosis_detect_crop']+new_user_variant['diagnosis_detect_crop_group'])\n",
    "    ]\n",
    "nobs = [n_con, n_var]\n",
    "z_stat, pval = proportions_ztest(successes,nobs=nobs,alternative='smaller')\n",
    "(lower_con, lower_var), (upper_con, upper_var) = proportion_confint(successes, nobs=nobs, alpha=0.05)\n",
    "\n",
    "print(f'No. of images uploaded by control group: {n_con}')\n",
    "print(f'No. of detect crop images (control): {successes[0]}')\n",
    "print(f'share of good images uploaded by new users (control): {share_good_images_uploaded_new_user_control*100:.2f}%')\n",
    "print(f'No. of images uploaded by variant group: {n_var}')\n",
    "print(f'No. of detect crop images (variant): {successes[1]}')\n",
    "print(f'share of good images uploaded by new users (variant): {share_good_images_uploaded_new_user_variant*100:.2f}%')\n",
    "print(f'Relative Change: {(share_good_images_uploaded_new_user_variant-share_good_images_uploaded_new_user_control)/share_good_images_uploaded_new_user_control*100:.0f}%')\n",
    "\n",
    "print(f'z statistic: {z_stat:.2f}')\n",
    "print(f'p-value: {pval:.3f}')\n",
    "print(f'ci 95% for control group: [{lower_con:.3f},{upper_con:.3f}]')\n",
    "print(f'ci 95% for variant group: [{lower_var:.3f},{upper_var:.3f}]')"
   ]
  },
  {
   "cell_type": "code",
   "execution_count": 105,
   "metadata": {},
   "outputs": [
    {
     "name": "stderr",
     "output_type": "stream",
     "text": [
      "C:\\Users\\Behzad\\AppData\\Local\\Temp/ipykernel_4200/1372413165.py:2: UserWarning: color is redundantly defined by the 'color' keyword argument and the fmt string \"ro-\" (-> color='r'). The keyword argument will take precedence.\n",
      "  plt.plot((lower,upper),(y,y),'ro-',color='orange')\n"
     ]
    },
    {
     "data": {
      "text/plain": [
       "Text(0.5, 1.0, '95% ci of (good_events / accept_images) for new users')"
      ]
     },
     "execution_count": 105,
     "metadata": {},
     "output_type": "execute_result"
    },
    {
     "data": {
      "image/png": "[encoded data removed]",
      "text/plain": [
       "<Figure size 432x288 with 1 Axes>"
      ]
     },
     "metadata": {
      "needs_background": "light"
     },
     "output_type": "display_data"
    }
   ],
   "source": [
    "for lower,upper,y in zip([lower_con,lower_var],[upper_con,upper_var],[0,1]):\n",
    "    plt.plot((lower,upper),(y,y),'ro-',color='orange')\n",
    "plt.gca().set_aspect(0.005, adjustable='box')\n",
    "plt.yticks([-0.5,1.5],['control group','variant group'])\n",
    "plt.title('95% ci of (good_events / accept_images) for new users')"
   ]
  },
  {
   "cell_type": "code",
   "execution_count": 106,
   "metadata": {},
   "outputs": [
    {
     "data": {
      "image/png": "[encoded data removed]",
      "text/plain": [
       "<Figure size 432x288 with 1 Axes>"
      ]
     },
     "metadata": {
      "needs_background": "light"
     },
     "output_type": "display_data"
    }
   ],
   "source": [
    "fig = plt.figure()\n",
    "ax = fig.add_axes([0,0,0.5,1])\n",
    "langs = ['control', 'variant']\n",
    "shares = [share_good_images_uploaded_new_user_control*100,share_good_images_uploaded_new_user_variant*100]\n",
    "ax.bar(langs,shares,width=0.7,yerr=(upper_con-lower_con)/2*100,capsize=7)\n",
    "ax.set_ylim(ymin=0)\n",
    "plt.yticks([share_good_images_uploaded_new_user_control*100,share_good_images_uploaded_new_user_variant*100])\n",
    "plt.title('(good_events / accept_images) for new users')\n",
    "plt.show()"
   ]
  },
  {
   "cell_type": "code",
   "execution_count": 107,
   "metadata": {},
   "outputs": [
    {
     "data": {
      "image/png": "[encoded data removed]",
      "text/plain": [
       "<Figure size 432x288 with 1 Axes>"
      ]
     },
     "metadata": {
      "needs_background": "light"
     },
     "output_type": "display_data"
    }
   ],
   "source": [
    "fig = plt.figure()\n",
    "ax = fig.add_axes([0,0,0.5,1])\n",
    "langs = ['control', 'variant']\n",
    "shares = [share_good_images_uploaded_new_user_control*100,share_good_images_uploaded_new_user_variant*100]\n",
    "ax.bar(langs,shares,width=0.7,yerr=(upper_con-lower_con)/2*100,capsize=7)\n",
    "ax.set_ylim(ymin=30)\n",
    "plt.yticks([share_good_images_uploaded_new_user_control*100,share_good_images_uploaded_new_user_variant*100])\n",
    "plt.title('(good_events / accept_images) for new users')\n",
    "plt.show()"
   ]
  },
  {
   "cell_type": "markdown",
   "metadata": {},
   "source": [
    "### Returning Users"
   ]
  },
  {
   "cell_type": "code",
   "execution_count": 108,
   "metadata": {},
   "outputs": [],
   "source": [
    "returning_control = joined_db[(joined_db['key']=='camera_quality_analysis_v4')&(joined_db['string_value']=='control_group')]['event_name'].value_counts()"
   ]
  },
  {
   "cell_type": "code",
   "execution_count": 109,
   "metadata": {},
   "outputs": [],
   "source": [
    "returning_variant = joined_db[(joined_db['key']=='camera_quality_analysis_v4')&(joined_db['string_value']=='variant_a')]['event_name'].value_counts()"
   ]
  },
  {
   "cell_type": "code",
   "execution_count": 110,
   "metadata": {},
   "outputs": [
    {
     "data": {
      "text/plain": [
       "diagnosis_accept_image               146873\n",
       "diagnosis_open_camera                146061\n",
       "diagnosis_take_image                 118240\n",
       "diagnosis_detect_pathogen             52257\n",
       "diagnosis_detect_crop                 38741\n",
       "diagnosis_detect_other_too_far        17767\n",
       "diagnosis_detect_other_blurry         14333\n",
       "diagnosis_detect_other_additional      7527\n",
       "diagnosis_detect_other_ornamental      5312\n",
       "diagnosis_detect_other_bad_image       3526\n",
       "diagnosis_detect_crop_group            1969\n",
       "Name: event_name, dtype: int64"
      ]
     },
     "execution_count": 110,
     "metadata": {},
     "output_type": "execute_result"
    }
   ],
   "source": [
    "returning_control"
   ]
  },
  {
   "cell_type": "code",
   "execution_count": 111,
   "metadata": {},
   "outputs": [
    {
     "data": {
      "text/plain": [
       "diagnosis_open_camera                145592\n",
       "diagnosis_accept_image               134198\n",
       "diagnosis_take_image                 128501\n",
       "diagnosis_detect_pathogen             53391\n",
       "diagnosis_detect_crop                 38995\n",
       "diagnosis_detect_other_too_far        10756\n",
       "diagnosis_detect_other_blurry          7840\n",
       "diagnosis_detect_other_additional      7590\n",
       "diagnosis_detect_other_ornamental      5292\n",
       "diagnosis_detect_other_bad_image       3520\n",
       "diagnosis_detect_crop_group            1989\n",
       "Name: event_name, dtype: int64"
      ]
     },
     "execution_count": 111,
     "metadata": {},
     "output_type": "execute_result"
    }
   ],
   "source": [
    "returning_variant"
   ]
  },
  {
   "cell_type": "code",
   "execution_count": 112,
   "metadata": {},
   "outputs": [],
   "source": [
    "share_bad_images_uploaded_returning_control = (\n",
    "    (returning_control['diagnosis_detect_other_too_far']+ returning_control['diagnosis_detect_other_blurry'])/returning_control['diagnosis_accept_image']\n",
    ")\n",
    "\n",
    "share_bad_images_uploaded_returning_variant = (\n",
    "    (returning_variant['diagnosis_detect_other_too_far']+ returning_variant['diagnosis_detect_other_blurry'])/returning_variant['diagnosis_accept_image']\n",
    ")\n",
    "\n",
    "share_good_images_uploaded_returning_control = (\n",
    "    (returning_control['diagnosis_detect_pathogen']+returning_control['diagnosis_detect_crop']+returning_control['diagnosis_detect_crop_group'])/returning_control['diagnosis_accept_image']\n",
    ")\n",
    "\n",
    "share_good_images_uploaded_returning_variant = (\n",
    "    (returning_variant['diagnosis_detect_pathogen']+returning_variant['diagnosis_detect_crop']+returning_variant['diagnosis_detect_crop_group'])/returning_variant['diagnosis_accept_image']\n",
    ")"
   ]
  },
  {
   "cell_type": "code",
   "execution_count": 113,
   "metadata": {},
   "outputs": [
    {
     "name": "stdout",
     "output_type": "stream",
     "text": [
      "0.21855616757334567\n",
      "0.138571364699921\n",
      "0.6329754277505055\n",
      "0.7032519113548638\n"
     ]
    }
   ],
   "source": [
    "print(share_bad_images_uploaded_returning_control)\n",
    "print(share_bad_images_uploaded_returning_variant)\n",
    "print(share_good_images_uploaded_returning_control)\n",
    "print(share_good_images_uploaded_returning_variant)"
   ]
  },
  {
   "cell_type": "markdown",
   "metadata": {},
   "source": [
    "#### Bad events (returning users)"
   ]
  },
  {
   "cell_type": "code",
   "execution_count": 114,
   "metadata": {},
   "outputs": [
    {
     "name": "stdout",
     "output_type": "stream",
     "text": [
      "No. of images uploaded by control group: 146873\n",
      "No. of images with quality issues (control): 32100\n",
      "share of images with quality issues uploaded by returning users (control): 21.86%\n",
      "No. of images uploaded by variant group: 134198\n",
      "No. of images with quality issues (variant): 18596\n",
      "share of images with quality issues uploaded by returning users (variant): 13.86%\n",
      "Relative Change: -37%\n",
      "z statistic: 55.09\n",
      "p-value: 0.000\n",
      "ci 95% for control group: [0.216,0.221]\n",
      "ci 95% for variant group: [0.137,0.140]\n"
     ]
    }
   ],
   "source": [
    "n_con = returning_control['diagnosis_accept_image']\n",
    "n_var = returning_variant['diagnosis_accept_image']\n",
    "successes = [\n",
    "    (returning_control['diagnosis_detect_other_too_far']+ returning_control['diagnosis_detect_other_blurry']),\n",
    "    (returning_variant['diagnosis_detect_other_too_far']+ returning_variant['diagnosis_detect_other_blurry'])\n",
    "    ]\n",
    "nobs = [n_con, n_var]\n",
    "z_stat, pval = proportions_ztest(successes,nobs=nobs,alternative='larger')\n",
    "(lower_con, lower_var), (upper_con, upper_var) = proportion_confint(successes, nobs=nobs, alpha=0.05)\n",
    "\n",
    "print(f'No. of images uploaded by control group: {n_con}')\n",
    "print(f'No. of images with quality issues (control): {successes[0]}')\n",
    "print(f'share of images with quality issues uploaded by returning users (control): {share_bad_images_uploaded_returning_control*100:.2f}%')\n",
    "print(f'No. of images uploaded by variant group: {n_var}')\n",
    "print(f'No. of images with quality issues (variant): {successes[1]}')\n",
    "print(f'share of images with quality issues uploaded by returning users (variant): {share_bad_images_uploaded_returning_variant*100:.2f}%')\n",
    "print(f'Relative Change: {(share_bad_images_uploaded_returning_variant-share_bad_images_uploaded_returning_control)/share_bad_images_uploaded_returning_control*100:.0f}%')\n",
    "\n",
    "print(f'z statistic: {z_stat:.2f}')\n",
    "print(f'p-value: {pval:.3f}')\n",
    "print(f'ci 95% for control group: [{lower_con:.3f},{upper_con:.3f}]')\n",
    "print(f'ci 95% for variant group: [{lower_var:.3f},{upper_var:.3f}]')"
   ]
  },
  {
   "cell_type": "code",
   "execution_count": 115,
   "metadata": {},
   "outputs": [
    {
     "name": "stderr",
     "output_type": "stream",
     "text": [
      "C:\\Users\\Behzad\\AppData\\Local\\Temp/ipykernel_4200/1130757486.py:2: UserWarning: color is redundantly defined by the 'color' keyword argument and the fmt string \"ro-\" (-> color='r'). The keyword argument will take precedence.\n",
      "  plt.plot((lower,upper),(y,y),'ro-',color='orange')\n"
     ]
    },
    {
     "data": {
      "text/plain": [
       "Text(0.5, 1.0, '95% ci of (bad_events / accept_images) for returning users')"
      ]
     },
     "execution_count": 115,
     "metadata": {},
     "output_type": "execute_result"
    },
    {
     "data": {
      "image/png": "[encoded data removed]",
      "text/plain": [
       "<Figure size 432x288 with 1 Axes>"
      ]
     },
     "metadata": {
      "needs_background": "light"
     },
     "output_type": "display_data"
    }
   ],
   "source": [
    "for lower,upper,y in zip([lower_con,lower_var],[upper_con,upper_var],[0,1]):\n",
    "    plt.plot((lower,upper),(y,y),'ro-',color='orange')\n",
    "plt.gca().set_aspect(0.005, adjustable='box')\n",
    "plt.yticks([-0.5,1.5],['control group','variant group'])\n",
    "plt.title('95% ci of (bad_events / accept_images) for returning users')"
   ]
  },
  {
   "cell_type": "code",
   "execution_count": 116,
   "metadata": {},
   "outputs": [
    {
     "data": {
      "image/png": "[encoded data removed]",
      "text/plain": [
       "<Figure size 432x288 with 1 Axes>"
      ]
     },
     "metadata": {
      "needs_background": "light"
     },
     "output_type": "display_data"
    }
   ],
   "source": [
    "fig = plt.figure()\n",
    "ax = fig.add_axes([0,0,0.5,1])\n",
    "langs = ['control', 'variant']\n",
    "shares = [share_bad_images_uploaded_returning_control*100,share_bad_images_uploaded_returning_variant*100]\n",
    "ax.bar(langs,shares,width=0.7,yerr=(upper_con-lower_con)/2*100,capsize=7)\n",
    "ax.set_ylim(ymin=0)\n",
    "plt.yticks([share_bad_images_uploaded_returning_control*100,share_bad_images_uploaded_returning_variant*100])\n",
    "plt.title('(bad_events / accept_images) for returning users')\n",
    "plt.show()"
   ]
  },
  {
   "cell_type": "code",
   "execution_count": 117,
   "metadata": {},
   "outputs": [
    {
     "data": {
      "image/png": "[encoded data removed]",
      "text/plain": [
       "<Figure size 432x288 with 1 Axes>"
      ]
     },
     "metadata": {
      "needs_background": "light"
     },
     "output_type": "display_data"
    }
   ],
   "source": [
    "fig = plt.figure()\n",
    "ax = fig.add_axes([0,0,0.5,1])\n",
    "langs = ['control', 'variant']\n",
    "shares = [share_bad_images_uploaded_returning_control*100,share_bad_images_uploaded_returning_variant*100]\n",
    "ax.bar(langs,shares,width=0.7,yerr=(upper_con-lower_con)/2*100,capsize=7)\n",
    "ax.set_ylim(ymin=10)\n",
    "plt.yticks([share_bad_images_uploaded_returning_control*100,share_bad_images_uploaded_returning_variant*100])\n",
    "plt.title('(bad_events / accept_images) for returning users')\n",
    "plt.show()"
   ]
  },
  {
   "cell_type": "markdown",
   "metadata": {},
   "source": [
    "#### Good events (returning users)"
   ]
  },
  {
   "cell_type": "code",
   "execution_count": 118,
   "metadata": {},
   "outputs": [
    {
     "name": "stdout",
     "output_type": "stream",
     "text": [
      "No. of images uploaded by control group: 146873\n",
      "No. of detect crop images (control): 92967\n",
      "share of good images uploaded by returning users (control): 63.30%\n",
      "No. of images uploaded by variant group: 134198\n",
      "No. of detect crop images (variant): 94375\n",
      "share of good images uploaded by returning users (variant): 70.33%\n",
      "Relative Change: 11%\n",
      "z statistic: -39.47\n",
      "p-value: 0.000\n",
      "ci 95% for control group: [0.6305,0.6354]\n",
      "ci 95% for variant group: [0.7008,0.7057]\n"
     ]
    }
   ],
   "source": [
    "n_con = returning_control['diagnosis_accept_image']\n",
    "n_var = returning_variant['diagnosis_accept_image']\n",
    "successes = [\n",
    "    (returning_control['diagnosis_detect_pathogen']+ returning_control['diagnosis_detect_crop']+returning_control['diagnosis_detect_crop_group']),\n",
    "    (returning_variant['diagnosis_detect_pathogen']+ returning_variant['diagnosis_detect_crop']+returning_variant['diagnosis_detect_crop_group'])\n",
    "    ]\n",
    "nobs = [n_con, n_var]\n",
    "z_stat, pval = proportions_ztest(successes,nobs=nobs,alternative='smaller')\n",
    "(lower_con, lower_var), (upper_con, upper_var) = proportion_confint(successes, nobs=nobs, alpha=0.05)\n",
    "\n",
    "print(f'No. of images uploaded by control group: {n_con}')\n",
    "print(f'No. of detect crop images (control): {successes[0]}')\n",
    "print(f'share of good images uploaded by returning users (control): {share_good_images_uploaded_returning_control*100:.2f}%')\n",
    "print(f'No. of images uploaded by variant group: {n_var}')\n",
    "print(f'No. of detect crop images (variant): {successes[1]}')\n",
    "print(f'share of good images uploaded by returning users (variant): {share_good_images_uploaded_returning_variant*100:.2f}%')\n",
    "print(f'Relative Change: {(share_good_images_uploaded_returning_variant-share_good_images_uploaded_returning_control)/share_good_images_uploaded_returning_control*100:.0f}%')\n",
    "\n",
    "print(f'z statistic: {z_stat:.2f}')\n",
    "print(f'p-value: {pval:.3f}')\n",
    "print(f'ci 95% for control group: [{lower_con:.4f},{upper_con:.4f}]')\n",
    "print(f'ci 95% for variant group: [{lower_var:.4f},{upper_var:.4f}]')"
   ]
  },
  {
   "cell_type": "code",
   "execution_count": 119,
   "metadata": {},
   "outputs": [
    {
     "name": "stderr",
     "output_type": "stream",
     "text": [
      "C:\\Users\\Behzad\\AppData\\Local\\Temp/ipykernel_4200/2172459993.py:2: UserWarning: color is redundantly defined by the 'color' keyword argument and the fmt string \"ro-\" (-> color='r'). The keyword argument will take precedence.\n",
      "  plt.plot((lower,upper),(y,y),'ro-',color='orange')\n"
     ]
    },
    {
     "data": {
      "text/plain": [
       "Text(0.5, 1.0, '95% ci of (good_events / accept_images) for returning users')"
      ]
     },
     "execution_count": 119,
     "metadata": {},
     "output_type": "execute_result"
    },
    {
     "data": {
      "image/png": "[encoded data removed]",
      "text/plain": [
       "<Figure size 432x288 with 1 Axes>"
      ]
     },
     "metadata": {
      "needs_background": "light"
     },
     "output_type": "display_data"
    }
   ],
   "source": [
    "for lower,upper,y in zip([lower_con,lower_var],[upper_con,upper_var],[0,1]):\n",
    "    plt.plot((lower,upper),(y,y),'ro-',color='orange')\n",
    "plt.gca().set_aspect(0.005, adjustable='box')\n",
    "plt.yticks([-0.5,1.5],['control group','variant group'])\n",
    "plt.title('95% ci of (good_events / accept_images) for returning users')"
   ]
  },
  {
   "cell_type": "code",
   "execution_count": 120,
   "metadata": {},
   "outputs": [
    {
     "data": {
      "image/png": "[encoded data removed]",
      "text/plain": [
       "<Figure size 432x288 with 1 Axes>"
      ]
     },
     "metadata": {
      "needs_background": "light"
     },
     "output_type": "display_data"
    }
   ],
   "source": [
    "fig = plt.figure()\n",
    "ax = fig.add_axes([0,0,0.5,1])\n",
    "langs = ['control', 'variant']\n",
    "shares = [share_good_images_uploaded_returning_control*100,share_good_images_uploaded_returning_variant*100]\n",
    "ax.bar(langs,shares,width=0.7,yerr=(upper_con-lower_con)/2*100,capsize=7)\n",
    "ax.set_ylim(ymin=0)\n",
    "plt.yticks([share_good_images_uploaded_returning_control*100,share_good_images_uploaded_returning_variant*100])\n",
    "plt.title('(good_events / accept_images) for returning users')\n",
    "plt.show()"
   ]
  },
  {
   "cell_type": "code",
   "execution_count": 121,
   "metadata": {},
   "outputs": [
    {
     "data": {
      "image/png": "[encoded data removed]",
      "text/plain": [
       "<Figure size 432x288 with 1 Axes>"
      ]
     },
     "metadata": {
      "needs_background": "light"
     },
     "output_type": "display_data"
    }
   ],
   "source": [
    "fig = plt.figure()\n",
    "ax = fig.add_axes([0,0,0.5,1])\n",
    "langs = ['control', 'variant']\n",
    "shares = [share_good_images_uploaded_returning_control*100,share_good_images_uploaded_returning_variant*100]\n",
    "ax.bar(langs,shares,width=0.7,yerr=(upper_con-lower_con)/2*100,capsize=7)\n",
    "ax.set_ylim(ymin=60)\n",
    "plt.yticks([share_good_images_uploaded_returning_control*100,share_good_images_uploaded_returning_variant*100])\n",
    "plt.title('(good_events / accept_images) for returning users')\n",
    "plt.show()"
   ]
  },
  {
   "cell_type": "markdown",
   "metadata": {},
   "source": [
    "## MH TEST"
   ]
  },
  {
   "cell_type": "markdown",
   "metadata": {},
   "source": [
    "### Preparation"
   ]
  },
  {
   "cell_type": "code",
   "execution_count": 122,
   "metadata": {},
   "outputs": [],
   "source": [
    "control = joined_db[joined_db['string_value']=='control_group']\n",
    "variant = joined_db[joined_db['string_value']=='variant_a']"
   ]
  },
  {
   "cell_type": "code",
   "execution_count": 123,
   "metadata": {},
   "outputs": [],
   "source": [
    "all_control = control['event_name'].value_counts()\n",
    "all_variant = variant['event_name'].value_counts()"
   ]
  },
  {
   "cell_type": "markdown",
   "metadata": {},
   "source": [
    "### Open camera per day"
   ]
  },
  {
   "cell_type": "code",
   "execution_count": 124,
   "metadata": {},
   "outputs": [],
   "source": [
    "select=['diagnosis_open_camera']\n",
    "control_daily_open_camera = control[control['event_name'].isin(select)].groupby([pd.Grouper(key='event_timestamp_db',freq='1d'),'event_name']).size().unstack()\n",
    "variant_daily_open_camera = variant[variant['event_name'].isin(select)].groupby([pd.Grouper(key='event_timestamp_db',freq='1d'),'event_name']).size().unstack()"
   ]
  },
  {
   "cell_type": "code",
   "execution_count": 125,
   "metadata": {},
   "outputs": [
    {
     "name": "stdout",
     "output_type": "stream",
     "text": [
      "12192.355555555556\n",
      "3573.1751614416326\n"
     ]
    }
   ],
   "source": [
    "print(control_daily_open_camera.mean()[0])\n",
    "print(control_daily_open_camera.std()[0])"
   ]
  },
  {
   "cell_type": "code",
   "execution_count": 126,
   "metadata": {},
   "outputs": [
    {
     "name": "stdout",
     "output_type": "stream",
     "text": [
      "11982.555555555555\n",
      "3401.1997920222984\n"
     ]
    }
   ],
   "source": [
    "print(variant_daily_open_camera.mean()[0])\n",
    "print(variant_daily_open_camera.std()[0])"
   ]
  },
  {
   "cell_type": "code",
   "execution_count": 127,
   "metadata": {},
   "outputs": [
    {
     "name": "stdout",
     "output_type": "stream",
     "text": [
      "Average of daily open camera event of control group: 12192.36\n",
      "Standard deviation of daily open camera event of control group: 3573.18\n",
      "Average of daily open camera event of variant group: 11982.56\n",
      "Standard deviation of daily open camera event of control group: 3401.20\n",
      "z statistic: 0.29\n",
      "p-value: 0.78\n",
      "ci 95%/4 for control group: [10861.9340,13522.78]\n",
      "ci 95%/4 for variant group: [10716.1666,13248.94]\n"
     ]
    }
   ],
   "source": [
    "control_mean = control_daily_open_camera.mean()[0]\n",
    "control_std = control_daily_open_camera.std()[0]\n",
    "variant_mean = variant_daily_open_camera.mean()[0]\n",
    "variant_std = variant_daily_open_camera.std()[0]\n",
    "\n",
    "z_stat, pval = ztest(control_daily_open_camera,variant_daily_open_camera,alternative='two-sided',value=0)\n",
    "lower_con, upper_con = zconfint(control_daily_open_camera, alpha=0.05/4)\n",
    "lower_var, upper_var = zconfint(variant_daily_open_camera, alpha=0.05/4)\n",
    "\n",
    "print(f'Average of daily open camera event of control group: {control_mean:.2f}')\n",
    "print(f'Standard deviation of daily open camera event of control group: {control_std:.2f}')\n",
    "print(f'Average of daily open camera event of variant group: {variant_mean:.2f}')\n",
    "print(f'Standard deviation of daily open camera event of control group: {variant_std:.2f}')\n",
    "\n",
    "print(f'z statistic: {z_stat[0]:.2f}')\n",
    "print(f'p-value: {pval[0]:.2f}')\n",
    "print(f'ci 95%/4 for control group: [{lower_con[0]:.4f},{upper_con[0]:.2f}]')\n",
    "print(f'ci 95%/4 for variant group: [{lower_var[0]:.4f},{upper_var[0]:.2f}]')"
   ]
  },
  {
   "cell_type": "code",
   "execution_count": 128,
   "metadata": {},
   "outputs": [
    {
     "name": "stderr",
     "output_type": "stream",
     "text": [
      "C:\\Users\\Behzad\\AppData\\Local\\Temp/ipykernel_4200/1763510736.py:4: UserWarning: color is redundantly defined by the 'color' keyword argument and the fmt string \"ro-\" (-> color='r'). The keyword argument will take precedence.\n",
      "  plt.plot((lower,upper),(y,y),'ro-',color='orange')\n"
     ]
    },
    {
     "data": {
      "text/plain": [
       "Text(0.5, 1.0, '95%/4 ci of open camera event')"
      ]
     },
     "execution_count": 128,
     "metadata": {},
     "output_type": "execute_result"
    },
    {
     "data": {
      "image/png": "[encoded data removed]",
      "text/plain": [
       "<Figure size 432x288 with 1 Axes>"
      ]
     },
     "metadata": {
      "needs_background": "light"
     },
     "output_type": "display_data"
    }
   ],
   "source": [
    "wis1=(upper_con[0]-lower_con[0])/2\n",
    "wis2=(upper_var[0]-lower_var[0])/2\n",
    "for lower,upper,y in zip([lower_con,lower_var],[upper_con,upper_var],[-wis1*25,+wis2*25]):\n",
    "    plt.plot((lower,upper),(y,y),'ro-',color='orange')\n",
    "plt.gca().set_aspect(0.005, adjustable='box')\n",
    "plt.yticks([-50*wis1,+50*wis2],['control group','variant group'])\n",
    "plt.title('95%/4 ci of open camera event')"
   ]
  },
  {
   "cell_type": "code",
   "execution_count": 129,
   "metadata": {},
   "outputs": [
    {
     "data": {
      "image/png": "[encoded data removed]",
      "text/plain": [
       "<Figure size 432x288 with 1 Axes>"
      ]
     },
     "metadata": {
      "needs_background": "light"
     },
     "output_type": "display_data"
    }
   ],
   "source": [
    "wis1=(upper_con[0]-lower_con[0])/2\n",
    "wis2=(upper_var[0]-lower_var[0])/2\n",
    "fig = plt.figure()\n",
    "ax = fig.add_axes([0,0,1,1])\n",
    "langs = ['control', 'variant']\n",
    "shares = [control_mean,variant_mean]\n",
    "ax.bar(langs,shares,width=0.5,yerr=[wis1,wis2],capsize=10)\n",
    "ax.set_ylim(ymin=0)\n",
    "plt.yticks([control_mean,variant_mean])\n",
    "plt.title('open camera event')\n",
    "plt.show()"
   ]
  },
  {
   "cell_type": "markdown",
   "metadata": {},
   "source": [
    "### Take image per day"
   ]
  },
  {
   "cell_type": "code",
   "execution_count": 130,
   "metadata": {},
   "outputs": [],
   "source": [
    "select=['diagnosis_take_image']\n",
    "control_daily_take_image = control[control['event_name'].isin(select)].groupby([pd.Grouper(key='event_timestamp_db',freq='1d'),'event_name']).size().unstack()\n",
    "variant_daily_take_image = variant[variant['event_name'].isin(select)].groupby([pd.Grouper(key='event_timestamp_db',freq='1d'),'event_name']).size().unstack()"
   ]
  },
  {
   "cell_type": "code",
   "execution_count": 131,
   "metadata": {},
   "outputs": [
    {
     "name": "stdout",
     "output_type": "stream",
     "text": [
      "9739.31111111111\n",
      "2864.478231261976\n"
     ]
    }
   ],
   "source": [
    "print(control_daily_take_image.mean()[0])\n",
    "print(control_daily_take_image.std()[0])"
   ]
  },
  {
   "cell_type": "code",
   "execution_count": 132,
   "metadata": {},
   "outputs": [
    {
     "name": "stdout",
     "output_type": "stream",
     "text": [
      "10162.08888888889\n",
      "2883.6463881549676\n"
     ]
    }
   ],
   "source": [
    "print(variant_daily_take_image.mean()[0])\n",
    "print(variant_daily_take_image.std()[0])"
   ]
  },
  {
   "cell_type": "code",
   "execution_count": 133,
   "metadata": {},
   "outputs": [
    {
     "name": "stdout",
     "output_type": "stream",
     "text": [
      "Average of daily take image event of control group: 9739.31\n",
      "Standard deviation of daily take image event of control group: 2864.48\n",
      "Average of daily take image event of variant group: 10162.09\n",
      "Standard deviation of daily take image event of control group: 2883.65\n",
      "z statistic: -0.70\n",
      "p-value: 0.49\n",
      "ci 95%/4 for control group: [8672.7629,10805.86]\n",
      "ci 95%/4 for variant group: [9088.4037,11235.77]\n"
     ]
    }
   ],
   "source": [
    "control_mean = control_daily_take_image.mean()[0]\n",
    "control_std = control_daily_take_image.std()[0]\n",
    "variant_mean = variant_daily_take_image.mean()[0]\n",
    "variant_std = variant_daily_take_image.std()[0]\n",
    "\n",
    "z_stat, pval = ztest(control_daily_take_image,variant_daily_take_image,alternative='two-sided',value=0)\n",
    "lower_con, upper_con = zconfint(control_daily_take_image, alpha=0.05/4)\n",
    "lower_var, upper_var = zconfint(variant_daily_take_image, alpha=0.05/4)\n",
    "\n",
    "print(f'Average of daily take image event of control group: {control_mean:.2f}')\n",
    "print(f'Standard deviation of daily take image event of control group: {control_std:.2f}')\n",
    "print(f'Average of daily take image event of variant group: {variant_mean:.2f}')\n",
    "print(f'Standard deviation of daily take image event of control group: {variant_std:.2f}')\n",
    "\n",
    "print(f'z statistic: {z_stat[0]:.2f}')\n",
    "print(f'p-value: {pval[0]:.2f}')\n",
    "print(f'ci 95%/4 for control group: [{lower_con[0]:.4f},{upper_con[0]:.2f}]')\n",
    "print(f'ci 95%/4 for variant group: [{lower_var[0]:.4f},{upper_var[0]:.2f}]')"
   ]
  },
  {
   "cell_type": "code",
   "execution_count": 134,
   "metadata": {},
   "outputs": [
    {
     "name": "stderr",
     "output_type": "stream",
     "text": [
      "C:\\Users\\Behzad\\AppData\\Local\\Temp/ipykernel_4200/148853488.py:4: UserWarning: color is redundantly defined by the 'color' keyword argument and the fmt string \"ro-\" (-> color='r'). The keyword argument will take precedence.\n",
      "  plt.plot((lower,upper),(y,y),'ro-',color='orange')\n"
     ]
    },
    {
     "data": {
      "text/plain": [
       "Text(0.5, 1.0, '95%/4 ci of take image  event')"
      ]
     },
     "execution_count": 134,
     "metadata": {},
     "output_type": "execute_result"
    },
    {
     "data": {
      "image/png": "[encoded data removed]",
      "text/plain": [
       "<Figure size 432x288 with 1 Axes>"
      ]
     },
     "metadata": {
      "needs_background": "light"
     },
     "output_type": "display_data"
    }
   ],
   "source": [
    "wis1=(upper_con[0]-lower_con[0])/2\n",
    "wis2=(upper_var[0]-lower_var[0])/2\n",
    "for lower,upper,y in zip([lower_con,lower_var],[upper_con,upper_var],[-wis1*25,+wis2*25]):\n",
    "    plt.plot((lower,upper),(y,y),'ro-',color='orange')\n",
    "plt.gca().set_aspect(0.005, adjustable='box')\n",
    "plt.yticks([-50*wis1,+50*wis2],['control group','variant group'])\n",
    "plt.title('95%/4 ci of take image  event')"
   ]
  },
  {
   "cell_type": "code",
   "execution_count": 135,
   "metadata": {},
   "outputs": [
    {
     "data": {
      "image/png": "[encoded data removed]",
      "text/plain": [
       "<Figure size 432x288 with 1 Axes>"
      ]
     },
     "metadata": {
      "needs_background": "light"
     },
     "output_type": "display_data"
    }
   ],
   "source": [
    "wis1=(upper_con[0]-lower_con[0])/2\n",
    "wis2=(upper_var[0]-lower_var[0])/2\n",
    "fig = plt.figure()\n",
    "ax = fig.add_axes([0,0,1,1])\n",
    "langs = ['control', 'variant']\n",
    "shares = [control_mean,variant_mean]\n",
    "ax.bar(langs,shares,width=0.5,yerr=[wis1,wis2],capsize=10)\n",
    "ax.set_ylim(ymin=0)\n",
    "plt.yticks([control_mean,variant_mean])\n",
    "plt.title('take image event')\n",
    "plt.show()"
   ]
  },
  {
   "cell_type": "markdown",
   "metadata": {},
   "source": [
    "### good event"
   ]
  },
  {
   "cell_type": "code",
   "execution_count": 136,
   "metadata": {},
   "outputs": [],
   "source": [
    "share_good_images_uploaded_all_control = (all_control['diagnosis_detect_crop']+all_control['diagnosis_detect_crop_group']+ all_control['diagnosis_detect_pathogen'])/all_control['diagnosis_accept_image']\n",
    "share_good_images_uploaded_all_variant = (all_variant['diagnosis_detect_crop']+all_variant['diagnosis_detect_crop_group']+ all_variant['diagnosis_detect_pathogen'])/all_variant['diagnosis_accept_image']"
   ]
  },
  {
   "cell_type": "code",
   "execution_count": 137,
   "metadata": {},
   "outputs": [
    {
     "data": {
      "text/plain": [
       "0.561322834283436"
      ]
     },
     "execution_count": 137,
     "metadata": {},
     "output_type": "execute_result"
    }
   ],
   "source": [
    "share_good_images_uploaded_all_control"
   ]
  },
  {
   "cell_type": "code",
   "execution_count": 138,
   "metadata": {},
   "outputs": [
    {
     "data": {
      "text/plain": [
       "0.6305092965073347"
      ]
     },
     "execution_count": 138,
     "metadata": {},
     "output_type": "execute_result"
    }
   ],
   "source": [
    "share_good_images_uploaded_all_variant"
   ]
  },
  {
   "cell_type": "code",
   "execution_count": 139,
   "metadata": {},
   "outputs": [
    {
     "name": "stdout",
     "output_type": "stream",
     "text": [
      "No. of images uploaded by control group: 521698\n",
      "No. of good images (control): 292841\n",
      "share of good images uploaded by all users (control): 56.13%\n",
      "No. of images uploaded by variant group: 453665\n",
      "No. of good images (variant): 286040\n",
      "share of good images uploaded by all users (variant): 63.05%\n",
      "Relative Change: 12%\n",
      "z statistic: -69.39\n",
      "p-value: 0.000\n",
      "ci 95% for control group: [0.560,0.563]\n",
      "ci 95% for variant group: [0.629,0.632]\n"
     ]
    }
   ],
   "source": [
    "n_con = all_control['diagnosis_accept_image']\n",
    "n_var = all_variant['diagnosis_accept_image']\n",
    "successes = [\n",
    "    (all_control['diagnosis_detect_crop']+all_control['diagnosis_detect_crop_group']+ all_control['diagnosis_detect_pathogen']),\n",
    "    (all_variant['diagnosis_detect_crop']+all_variant['diagnosis_detect_crop_group']+ all_variant['diagnosis_detect_pathogen'])\n",
    "    ]\n",
    "nobs = [n_con, n_var]\n",
    "z_stat, pval = proportions_ztest(successes,nobs=nobs,alternative='smaller')\n",
    "(lower_con, lower_var), (upper_con, upper_var) = proportion_confint(successes, nobs=nobs, alpha=0.05/4)\n",
    "\n",
    "print(f'No. of images uploaded by control group: {n_con}')\n",
    "print(f'No. of good images (control): {successes[0]}')\n",
    "print(f'share of good images uploaded by all users (control): {share_good_images_uploaded_all_control*100:.2f}%')\n",
    "print(f'No. of images uploaded by variant group: {n_var}')\n",
    "print(f'No. of good images (variant): {successes[1]}')\n",
    "print(f'share of good images uploaded by all users (variant): {share_good_images_uploaded_all_variant*100:.2f}%')\n",
    "print(f'Relative Change: {(share_good_images_uploaded_all_variant-share_good_images_uploaded_all_control)/share_good_images_uploaded_all_control*100:.0f}%')\n",
    "\n",
    "print(f'z statistic: {z_stat:.2f}')\n",
    "print(f'p-value: {pval:.3f}')\n",
    "print(f'ci 95% for control group: [{lower_con:.3f},{upper_con:.3f}]')\n",
    "print(f'ci 95% for variant group: [{lower_var:.3f},{upper_var:.3f}]')"
   ]
  },
  {
   "cell_type": "code",
   "execution_count": 140,
   "metadata": {},
   "outputs": [
    {
     "name": "stderr",
     "output_type": "stream",
     "text": [
      "C:\\Users\\Behzad\\AppData\\Local\\Temp/ipykernel_4200/4294364649.py:2: UserWarning: color is redundantly defined by the 'color' keyword argument and the fmt string \"ro-\" (-> color='r'). The keyword argument will take precedence.\n",
      "  plt.plot((lower,upper),(y,y),'ro-',color='orange')\n"
     ]
    },
    {
     "data": {
      "text/plain": [
       "Text(0.5, 1.0, '95%/4 ci of (good_events / accept_images) for all users')"
      ]
     },
     "execution_count": 140,
     "metadata": {},
     "output_type": "execute_result"
    },
    {
     "data": {
      "image/png": "[encoded data removed]",
      "text/plain": [
       "<Figure size 432x288 with 1 Axes>"
      ]
     },
     "metadata": {
      "needs_background": "light"
     },
     "output_type": "display_data"
    }
   ],
   "source": [
    "for lower,upper,y in zip([lower_con,lower_var],[upper_con,upper_var],[0,1]):\n",
    "    plt.plot((lower,upper),(y,y),'ro-',color='orange')\n",
    "plt.gca().set_aspect(0.005, adjustable='box')\n",
    "plt.yticks([-0.5,1.5],['control group','variant group'])\n",
    "plt.title('95%/4 ci of (good_events / accept_images) for all users')"
   ]
  },
  {
   "cell_type": "code",
   "execution_count": 141,
   "metadata": {},
   "outputs": [
    {
     "data": {
      "image/png": "[encoded data removed]",
      "text/plain": [
       "<Figure size 432x288 with 1 Axes>"
      ]
     },
     "metadata": {
      "needs_background": "light"
     },
     "output_type": "display_data"
    }
   ],
   "source": [
    "fig = plt.figure()\n",
    "ax = fig.add_axes([0,0,0.5,1])\n",
    "langs = ['control', 'variant']\n",
    "shares = [share_good_images_uploaded_all_control*100,share_good_images_uploaded_all_variant*100]\n",
    "ax.bar(langs,shares,width=0.7,yerr=(upper_con-lower_con)/2*100,capsize=7)\n",
    "ax.set_ylim(ymin=0)\n",
    "plt.yticks([share_good_images_uploaded_all_control*100,share_good_images_uploaded_all_variant*100])\n",
    "plt.title('(good_events / accept_images) for all users')\n",
    "plt.show()"
   ]
  },
  {
   "cell_type": "code",
   "execution_count": 142,
   "metadata": {},
   "outputs": [
    {
     "data": {
      "image/png": "[encoded data removed]",
      "text/plain": [
       "<Figure size 432x288 with 1 Axes>"
      ]
     },
     "metadata": {
      "needs_background": "light"
     },
     "output_type": "display_data"
    }
   ],
   "source": [
    "fig = plt.figure()\n",
    "ax = fig.add_axes([0,0,0.5,1])\n",
    "langs = ['control', 'variant']\n",
    "shares = [share_good_images_uploaded_all_control*100,share_good_images_uploaded_all_variant*100]\n",
    "ax.bar(langs,shares,width=0.7,yerr=(upper_con-lower_con)/2*100,capsize=7)\n",
    "ax.set_ylim(ymin=50)\n",
    "plt.yticks([share_good_images_uploaded_all_control*100,share_good_images_uploaded_all_variant*100])\n",
    "plt.title('(good_events / accept_images) for all users')\n",
    "plt.show()"
   ]
  },
  {
   "cell_type": "markdown",
   "metadata": {},
   "source": [
    "### bad event"
   ]
  },
  {
   "cell_type": "code",
   "execution_count": 143,
   "metadata": {},
   "outputs": [],
   "source": [
    "share_bad_images_uploaded_all_control = (all_control['diagnosis_detect_other_too_far']+ all_control['diagnosis_detect_other_blurry'])/all_control['diagnosis_accept_image']\n",
    "share_bad_images_uploaded_all_variant = (all_variant['diagnosis_detect_other_too_far']+ all_variant['diagnosis_detect_other_blurry'])/all_variant['diagnosis_accept_image']"
   ]
  },
  {
   "cell_type": "code",
   "execution_count": 144,
   "metadata": {},
   "outputs": [
    {
     "data": {
      "text/plain": [
       "0.2533879754187288"
      ]
     },
     "execution_count": 144,
     "metadata": {},
     "output_type": "execute_result"
    }
   ],
   "source": [
    "share_bad_images_uploaded_all_control"
   ]
  },
  {
   "cell_type": "code",
   "execution_count": 145,
   "metadata": {},
   "outputs": [
    {
     "data": {
      "text/plain": [
       "0.1727662482228076"
      ]
     },
     "execution_count": 145,
     "metadata": {},
     "output_type": "execute_result"
    }
   ],
   "source": [
    "share_bad_images_uploaded_all_variant"
   ]
  },
  {
   "cell_type": "code",
   "execution_count": 146,
   "metadata": {},
   "outputs": [
    {
     "name": "stdout",
     "output_type": "stream",
     "text": [
      "No. of images uploaded by control group: 521698\n",
      "No. of images with quality issues (control): 132192\n",
      "share of images with quality issues uploaded by all users (control): 25.34%\n",
      "No. of images uploaded by variant group: 453665\n",
      "No. of images with quality issues (variant): 78378\n",
      "share of images with quality issues uploaded by all users (variant): 17.28%\n",
      "Relative Change: -32%\n",
      "z statistic: 96.53\n",
      "p-value: 0.000\n",
      "ci 95% for control group: [0.252,0.255]\n",
      "ci 95% for variant group: [0.171,0.174]\n"
     ]
    }
   ],
   "source": [
    "n_con = all_control['diagnosis_accept_image']\n",
    "n_var = all_variant['diagnosis_accept_image']\n",
    "successes = [\n",
    "    (all_control['diagnosis_detect_other_too_far']+ all_control['diagnosis_detect_other_blurry']),\n",
    "    (all_variant['diagnosis_detect_other_too_far']+ all_variant['diagnosis_detect_other_blurry'])\n",
    "    ]\n",
    "nobs = [n_con, n_var]\n",
    "z_stat, pval = proportions_ztest(successes,nobs=nobs,alternative='larger')\n",
    "(lower_con, lower_var), (upper_con, upper_var) = proportion_confint(successes, nobs=nobs, alpha=0.05/4)\n",
    "\n",
    "print(f'No. of images uploaded by control group: {n_con}')\n",
    "print(f'No. of images with quality issues (control): {successes[0]}')\n",
    "print(f'share of images with quality issues uploaded by all users (control): {share_bad_images_uploaded_all_control*100:.2f}%')\n",
    "print(f'No. of images uploaded by variant group: {n_var}')\n",
    "print(f'No. of images with quality issues (variant): {successes[1]}')\n",
    "print(f'share of images with quality issues uploaded by all users (variant): {share_bad_images_uploaded_all_variant*100:.2f}%')\n",
    "print(f'Relative Change: {(share_bad_images_uploaded_all_variant-share_bad_images_uploaded_all_control)/share_bad_images_uploaded_all_control*100:.0f}%')\n",
    "\n",
    "print(f'z statistic: {z_stat:.2f}')\n",
    "print(f'p-value: {pval:.3f}')\n",
    "print(f'ci 95% for control group: [{lower_con:.3f},{upper_con:.3f}]')\n",
    "print(f'ci 95% for variant group: [{lower_var:.3f},{upper_var:.3f}]')"
   ]
  },
  {
   "cell_type": "code",
   "execution_count": 147,
   "metadata": {},
   "outputs": [
    {
     "name": "stderr",
     "output_type": "stream",
     "text": [
      "C:\\Users\\Behzad\\AppData\\Local\\Temp/ipykernel_4200/2318048530.py:2: UserWarning: color is redundantly defined by the 'color' keyword argument and the fmt string \"ro-\" (-> color='r'). The keyword argument will take precedence.\n",
      "  plt.plot((lower,upper),(y,y),'ro-',color='orange')\n"
     ]
    },
    {
     "data": {
      "text/plain": [
       "Text(0.5, 1.0, '95%/4 ci of (bad_events / accept_images) for all users')"
      ]
     },
     "execution_count": 147,
     "metadata": {},
     "output_type": "execute_result"
    },
    {
     "data": {
      "image/png": "[encoded data removed]",
      "text/plain": [
       "<Figure size 432x288 with 1 Axes>"
      ]
     },
     "metadata": {
      "needs_background": "light"
     },
     "output_type": "display_data"
    }
   ],
   "source": [
    "for lower,upper,y in zip([lower_con,lower_var],[upper_con,upper_var],[0,1]):\n",
    "    plt.plot((lower,upper),(y,y),'ro-',color='orange')\n",
    "plt.gca().set_aspect(0.005, adjustable='box')\n",
    "plt.yticks([-0.5,1.5],['control group','variant group'])\n",
    "plt.title('95%/4 ci of (bad_events / accept_images) for all users')"
   ]
  },
  {
   "cell_type": "code",
   "execution_count": 148,
   "metadata": {},
   "outputs": [
    {
     "data": {
      "image/png": "[encoded data removed]",
      "text/plain": [
       "<Figure size 432x288 with 1 Axes>"
      ]
     },
     "metadata": {
      "needs_background": "light"
     },
     "output_type": "display_data"
    }
   ],
   "source": [
    "fig = plt.figure()\n",
    "ax = fig.add_axes([0,0,0.5,1])\n",
    "langs = ['control', 'variant']\n",
    "shares = [share_bad_images_uploaded_all_control*100,share_bad_images_uploaded_all_variant*100]\n",
    "ax.bar(langs,shares,width=0.7,yerr=(upper_con-lower_con)/2*100,capsize=7)\n",
    "ax.set_ylim(ymin=0)\n",
    "plt.yticks([share_bad_images_uploaded_all_control*100,share_bad_images_uploaded_all_variant*100])\n",
    "plt.title('(bad_events / accept_images) for all users')\n",
    "plt.show()"
   ]
  },
  {
   "cell_type": "code",
   "execution_count": 149,
   "metadata": {},
   "outputs": [
    {
     "data": {
      "image/png": "[encoded data removed]",
      "text/plain": [
       "<Figure size 432x288 with 1 Axes>"
      ]
     },
     "metadata": {
      "needs_background": "light"
     },
     "output_type": "display_data"
    }
   ],
   "source": [
    "fig = plt.figure()\n",
    "ax = fig.add_axes([0,0,0.5,1])\n",
    "langs = ['control', 'variant']\n",
    "shares = [share_bad_images_uploaded_all_control*100,share_bad_images_uploaded_all_variant*100]\n",
    "ax.bar(langs,shares,width=0.7,yerr=(upper_con-lower_con)/2*100,capsize=7)\n",
    "ax.set_ylim(ymin=10)\n",
    "plt.yticks([share_bad_images_uploaded_all_control*100,share_bad_images_uploaded_all_variant*100])\n",
    "plt.title('(bad_events / accept_images) for all users')\n",
    "plt.show()"
   ]
  },
  {
   "cell_type": "code",
   "execution_count": 150,
   "metadata": {},
   "outputs": [],
   "source": [
    "# done"
   ]
  },
  {
   "cell_type": "code",
   "execution_count": null,
   "metadata": {},
   "outputs": [],
   "source": []
  }
 ],
 "metadata": {
  "interpreter": {
   "hash": "0777f690e9edca0c6cd5b990e4b4e8757c582b8cc615c845ce225a0389a094bb"
  },
  "kernelspec": {
   "display_name": "Python 3.9.7 64-bit",
   "name": "python3"
  },
  "language_info": {
   "codemirror_mode": {
    "name": "ipython",
    "version": 3
   },
   "file_extension": ".py",
   "mimetype": "text/x-python",
   "name": "python",
   "nbconvert_exporter": "python",
   "pygments_lexer": "ipython3",
   "version": "3.9.7"
  }
 },
 "nbformat": 4,
 "nbformat_minor": 4
}
